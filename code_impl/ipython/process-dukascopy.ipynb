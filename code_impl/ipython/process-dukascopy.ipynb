{
 "metadata": {
  "name": "",
  "signature": "sha256:ae1b6c15ba5934477948b595032f634a5b99eb24b4197ca82500642b9fc897d4"
 },
 "nbformat": 3,
 "nbformat_minor": 0,
 "worksheets": [
  {
   "cells": [
    {
     "cell_type": "code",
     "collapsed": false,
     "input": [
      "import pandas as pd\n",
      "import glob\n",
      "from datetime import datetime\n",
      "pylab.rcParams['figure.figsize'] = (10.0, 8.0)"
     ],
     "language": "python",
     "metadata": {},
     "outputs": [],
     "prompt_number": 22
    },
    {
     "cell_type": "code",
     "collapsed": false,
     "input": [
      "ask_list=glob.glob('*Ask*.dat')\n",
      "bid_list=glob.glob('*Bid*.dat')\n",
      "ask_list.sort()\n",
      "bid_list.sort()"
     ],
     "language": "python",
     "metadata": {},
     "outputs": [],
     "prompt_number": 23
    },
    {
     "cell_type": "code",
     "collapsed": false,
     "input": [
      "file_lists = ask_list[1:]\n",
      "prices = pd.read_csv(ask_list[0])\n",
      "prices.columns=['Time',ask_list[0][0:6]]\n",
      "print ask_list[0],prices.shape\n",
      "\n",
      "for filename in file_lists:\n",
      "    DF = pd.read_csv(filename) \n",
      "    print filename, DF.shape\n",
      "    DF.columns=['Time', filename[0:6]]\n",
      "    prices = pd.merge(prices, DF, on='Time',how='outer')\n",
      "\n",
      "print prices.shape\n",
      "prices.index = pd.to_datetime(prices.pop('Time'),format='%d-%m-%Y %H:%M:%S')\n",
      "prices.to_csv('/home/parce/Dropbox/doctorado/research/data_csv/data_ask_all.csv')\n",
      "#376378"
     ],
     "language": "python",
     "metadata": {},
     "outputs": [
      {
       "output_type": "stream",
       "stream": "stdout",
       "text": [
        "AUDUSD_UTC_1_Min_Ask_2013.08.12_2014.08.12.dat (375841, 2)\n",
        "EURCAD_UTC_1_Min_Ask_2013.08.12_2014.08.12.dat"
       ]
      },
      {
       "output_type": "stream",
       "stream": "stdout",
       "text": [
        " (375841, 2)\n",
        "EURCHF_UTC_1_Min_Ask_2013.08.12_2014.08.12.dat"
       ]
      },
      {
       "output_type": "stream",
       "stream": "stdout",
       "text": [
        " (375841, 2)\n",
        "EURGBP_UTC_1_Min_Ask_2013.08.12_2014.08.12.dat"
       ]
      },
      {
       "output_type": "stream",
       "stream": "stdout",
       "text": [
        " (375841, 2)\n",
        "EURJPY_UTC_1_Min_Ask_2013.08.12_2014.08.12.dat"
       ]
      },
      {
       "output_type": "stream",
       "stream": "stdout",
       "text": [
        " (375841, 2)\n",
        "EURNZD_UTC_1_Min_Ask_2013.08.12_2014.08.12.dat"
       ]
      },
      {
       "output_type": "stream",
       "stream": "stdout",
       "text": [
        " (375841, 2)\n",
        "EURUSD_UTC_1_Min_Ask_2013.08.12_2014.08.12.dat"
       ]
      },
      {
       "output_type": "stream",
       "stream": "stdout",
       "text": [
        " (375841, 2)\n",
        "GBPCAD_UTC_1_Min_Ask_2013.08.12_2014.08.12.dat"
       ]
      },
      {
       "output_type": "stream",
       "stream": "stdout",
       "text": [
        " (375841, 2)\n",
        "GBPCHF_UTC_1_Min_Ask_2013.08.12_2014.08.12.dat"
       ]
      },
      {
       "output_type": "stream",
       "stream": "stdout",
       "text": [
        " (375841, 2)\n",
        "GBPJPY_UTC_1_Min_Ask_2013.08.12_2014.08.12.dat"
       ]
      },
      {
       "output_type": "stream",
       "stream": "stdout",
       "text": [
        " (375841, 2)\n",
        "GBPNZD_UTC_1_Min_Ask_2013.08.12_2014.08.12.dat"
       ]
      },
      {
       "output_type": "stream",
       "stream": "stdout",
       "text": [
        " (375841, 2)\n",
        "GBPUSD_UTC_1_Min_Ask_2013.08.12_2014.08.12.dat"
       ]
      },
      {
       "output_type": "stream",
       "stream": "stdout",
       "text": [
        " (375841, 2)\n",
        "NZDUSD_UTC_1_Min_Ask_2013.08.12_2014.08.12.dat"
       ]
      },
      {
       "output_type": "stream",
       "stream": "stdout",
       "text": [
        " (375841, 2)\n",
        "USDCAD_UTC_1_Min_Ask_2013.08.12_2014.08.12.dat"
       ]
      },
      {
       "output_type": "stream",
       "stream": "stdout",
       "text": [
        " (375841, 2)\n",
        "USDCHF_UTC_1_Min_Ask_2013.08.12_2014.08.12.dat"
       ]
      },
      {
       "output_type": "stream",
       "stream": "stdout",
       "text": [
        " (375841, 2)\n",
        "USDJPY_UTC_1_Min_Ask_2013.08.12_2014.08.12.dat"
       ]
      },
      {
       "output_type": "stream",
       "stream": "stdout",
       "text": [
        " (375841, 2)\n",
        "USDSGD_UTC_1_Min_Ask_2013.08.12_2014.08.12.dat"
       ]
      },
      {
       "output_type": "stream",
       "stream": "stdout",
       "text": [
        " (375841, 2)\n",
        "(375841, 18)"
       ]
      },
      {
       "output_type": "stream",
       "stream": "stdout",
       "text": [
        "\n"
       ]
      }
     ],
     "prompt_number": 24
    },
    {
     "cell_type": "code",
     "collapsed": false,
     "input": [
      "file_lists = bid_list[1:]\n",
      "prices = pd.read_csv(bid_list[0])\n",
      "prices.columns=['Time',bid_list[0][0:6]]\n",
      "\n",
      "for filename in file_lists:\n",
      "    DF = pd.read_csv(filename) \n",
      "    print filename, DF.shape\n",
      "    DF.columns=['Time', filename[0:6]]\n",
      "    prices = pd.merge(prices, DF, on='Time',how='outer')\n",
      "\n",
      "print prices.shape\n",
      "prices.index = pd.to_datetime(prices.pop('Time'),format='%d-%m-%Y %H:%M:%S')\n",
      "prices.to_csv('/home/parce/Dropbox/doctorado/research/data_csv/data_bid_all.csv')\n",
      "#376378"
     ],
     "language": "python",
     "metadata": {},
     "outputs": [
      {
       "output_type": "stream",
       "stream": "stdout",
       "text": [
        "EURCAD_UTC_1_Min_Bid_2013.08.12_2014.08.12.dat (375841, 2)\n",
        "EURCHF_UTC_1_Min_Bid_2013.08.12_2014.08.12.dat"
       ]
      },
      {
       "output_type": "stream",
       "stream": "stdout",
       "text": [
        " (375841, 2)\n",
        "EURGBP_UTC_1_Min_Bid_2013.08.12_2014.08.12.dat"
       ]
      },
      {
       "output_type": "stream",
       "stream": "stdout",
       "text": [
        " (375841, 2)\n",
        "EURJPY_UTC_1_Min_Bid_2013.08.12_2014.08.12.dat"
       ]
      },
      {
       "output_type": "stream",
       "stream": "stdout",
       "text": [
        " (375841, 2)\n",
        "EURNZD_UTC_1_Min_Bid_2013.08.12_2014.08.12.dat"
       ]
      },
      {
       "output_type": "stream",
       "stream": "stdout",
       "text": [
        " (375841, 2)\n",
        "EURUSD_UTC_1_Min_Bid_2013.08.12_2014.08.12.dat"
       ]
      },
      {
       "output_type": "stream",
       "stream": "stdout",
       "text": [
        " (375841, 2)\n",
        "GBPCAD_UTC_1_Min_Bid_2013.08.12_2014.08.12.dat"
       ]
      },
      {
       "output_type": "stream",
       "stream": "stdout",
       "text": [
        " (375841, 2)\n",
        "GBPCHF_UTC_1_Min_Bid_2013.08.12_2014.08.12.dat"
       ]
      },
      {
       "output_type": "stream",
       "stream": "stdout",
       "text": [
        " (375841, 2)\n",
        "GBPJPY_UTC_1_Min_Bid_2013.08.12_2014.08.12.dat"
       ]
      },
      {
       "output_type": "stream",
       "stream": "stdout",
       "text": [
        " (375841, 2)\n",
        "GBPNZD_UTC_1_Min_Bid_2013.08.12_2014.08.12.dat"
       ]
      },
      {
       "output_type": "stream",
       "stream": "stdout",
       "text": [
        " (375841, 2)\n",
        "GBPUSD_UTC_1_Min_Bid_2013.08.12_2014.08.12.dat"
       ]
      },
      {
       "output_type": "stream",
       "stream": "stdout",
       "text": [
        " (375841, 2)\n",
        "NZDUSD_UTC_1_Min_Bid_2013.08.12_2014.08.12.dat"
       ]
      },
      {
       "output_type": "stream",
       "stream": "stdout",
       "text": [
        " (375841, 2)\n",
        "USDCAD_UTC_1_Min_Bid_2013.08.12_2014.08.12.dat"
       ]
      },
      {
       "output_type": "stream",
       "stream": "stdout",
       "text": [
        " (375841, 2)\n",
        "USDCHF_UTC_1_Min_Bid_2013.08.12_2014.08.12.dat"
       ]
      },
      {
       "output_type": "stream",
       "stream": "stdout",
       "text": [
        " (375841, 2)\n",
        "USDJPY_UTC_1_Min_Bid_2013.08.12_2014.08.12.dat"
       ]
      },
      {
       "output_type": "stream",
       "stream": "stdout",
       "text": [
        " (375841, 2)\n",
        "USDSGD_UTC_1_Min_Bid_2013.08.12_2014.08.12.dat"
       ]
      },
      {
       "output_type": "stream",
       "stream": "stdout",
       "text": [
        " (375841, 2)\n",
        "(375841, 18)"
       ]
      },
      {
       "output_type": "stream",
       "stream": "stdout",
       "text": [
        "\n"
       ]
      }
     ],
     "prompt_number": 25
    },
    {
     "cell_type": "code",
     "collapsed": false,
     "input": [
      "prices['EURUSD'][datetime(2014, 8, 8, 20, 0, 0):datetime(2014, 8, 11, 0, 0, 0)]"
     ],
     "language": "python",
     "metadata": {},
     "outputs": []
    },
    {
     "cell_type": "code",
     "collapsed": false,
     "input": [
      "# Loading data\n",
      "tickers = ['EURUSD','GBPUSD']\n",
      "rtickers = ['USDCHF','USDJPY']\n",
      "\n",
      "reader = cl.Reader('../../data_csv/data_ask_all.csv')\n",
      "y = reader.load_data(tickers,rtickers)\n",
      "# Saving data o a csv\n",
      "y.to_csv('../../data_csv/data_ask.csv')"
     ],
     "language": "python",
     "metadata": {},
     "outputs": []
    }
   ],
   "metadata": {}
  }
 ]
}