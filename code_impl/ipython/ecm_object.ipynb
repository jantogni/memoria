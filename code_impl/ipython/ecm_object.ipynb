{
 "metadata": {
  "name": "",
  "signature": "sha256:22d7c1e42d27cfc7a8602e028063818005cfac157e4a83400dff10118280ff35"
 },
 "nbformat": 3,
 "nbformat_minor": 0,
 "worksheets": [
  {
   "cells": [
    {
     "cell_type": "code",
     "collapsed": false,
     "input": [
      "import sys\n",
      "sys.path.insert(0, '../python/')\n",
      "import classes as cl\n",
      "import algorithms as alg\n",
      "import pandas as pd\n",
      "import numpy as np\n",
      "import matplotlib.pyplot as plt\n",
      "from scipy import stats\n",
      "import time"
     ],
     "language": "python",
     "metadata": {},
     "outputs": [],
     "prompt_number": 1
    },
    {
     "cell_type": "code",
     "collapsed": false,
     "input": [
      "filename = '../data_csv/urates.dat'\n",
      "reader = cl.Reader(filename)\n",
      "df = pd.read_csv(filename,delimiter='   ', header = None)"
     ],
     "language": "python",
     "metadata": {},
     "outputs": [],
     "prompt_number": 2
    },
    {
     "cell_type": "code",
     "collapsed": false,
     "input": [
      "def ECM(y, L, offset, P):\n",
      "    m = cl.Matrix()\n",
      "    start_time = time.time()\n",
      "\n",
      "    L_max, n_var = y.shape\n",
      "    if L > L_max:\n",
      "        print \"L is bigger than L max\"\n",
      "        return\n",
      "\n",
      "    y_i = y[offset : offset + L]\n",
      "\n",
      "    beta = m.get_johansen(y_i.as_matrix(), P, 0)\n",
      "    A, B = m.vec_matrix(y_i, P, beta.evecr)\n",
      "\n",
      "    x, residuals, rank, s = np.linalg.lstsq(A, B)\n",
      "    Ax = np.dot(A, x)\n",
      "    residuals = B - Ax\n",
      "    \n",
      "    #ecm = cl.ecm(y_i, Ax + y_i[P:-1], B, Ax, beta, P)\n",
      "    ecm = cl.ecm(y_i, Ax + y_i[P:-1], y.diff(), Ax, beta, P)\n",
      "    \n",
      "    #return A, B, beta.r, x, residuals, time.time() - start_time\n",
      "    return ecm"
     ],
     "language": "python",
     "metadata": {},
     "outputs": [],
     "prompt_number": 3
    },
    {
     "cell_type": "code",
     "collapsed": false,
     "input": [
      "L, var = df.shape\n",
      "P = 2\n",
      "ecm = ECM(df, L, 0, P)\n",
      "\n",
      "ecm.y[0].head(12).plot()\n",
      "ecm.yhat[0].head(10).plot()"
     ],
     "language": "python",
     "metadata": {},
     "outputs": [
      {
       "metadata": {},
       "output_type": "pyout",
       "prompt_number": 9,
       "text": [
        "<matplotlib.axes.AxesSubplot at 0x1141355d0>"
       ]
      },
      {
       "metadata": {},
       "output_type": "display_data",
       "png": "[encoded data removed]",
       "text": [
        "<matplotlib.figure.Figure at 0x1141fbdd0>"
       ]
      }
     ],
     "prompt_number": 9
    },
    {
     "cell_type": "code",
     "collapsed": false,
     "input": [],
     "language": "python",
     "metadata": {},
     "outputs": []
    }
   ],
   "metadata": {}
  }
 ]
}