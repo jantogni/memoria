{
 "metadata": {
  "name": "",
  "signature": "sha256:a4b82299ae9e7b734d28658971521d1c1d6581802cca3bab5bd02edb793f1465"
 },
 "nbformat": 3,
 "nbformat_minor": 0,
 "worksheets": [
  {
   "cells": [
    {
     "cell_type": "code",
     "collapsed": false,
     "input": [
      "import sys\n",
      "sys.path.insert(0, '../python/')\n",
      "import classes as cl\n",
      "import algorithms as alg\n",
      "import pandas as pd\n",
      "import numpy as np\n",
      "import matplotlib.pyplot as plt\n",
      "from scipy import stats\n",
      "import time"
     ],
     "language": "python",
     "metadata": {},
     "outputs": [],
     "prompt_number": 4
    },
    {
     "cell_type": "code",
     "collapsed": false,
     "input": [
      "path = '../data_csv/data_ticks/august_11/'\n",
      "assets = ['EURUSD','GBPUSD']#,'USDCHF','USDJPY']\n",
      "\n",
      "data_list = [path + i + '.csv' for i in assets]\n",
      "    \n",
      "reader = cl.Reader(data_list)\n",
      "ticks_list = reader.load()\n",
      "\n",
      "print \"Done\""
     ],
     "language": "python",
     "metadata": {},
     "outputs": [
      {
       "output_type": "stream",
       "stream": "stdout",
       "text": [
        "Done\n"
       ]
      }
     ],
     "prompt_number": 5
    },
    {
     "cell_type": "code",
     "collapsed": false,
     "input": [
      "def OVECM(y, L, P, it, avg_error, r, n):\n",
      "    it2, l = y.shape\n",
      "\n",
      "    dy_true = np.zeros([it, l],dtype=np.float32)\n",
      "    dy_pred = np.zeros([it, l],dtype=np.float32)\n",
      "    mape = np.zeros([it, l],dtype=np.float32)\n",
      "    mae = np.zeros([it, l],dtype=np.float32)\n",
      "    rmse = np.zeros([it, l],dtype=np.float32)\n",
      "    \n",
      "    m = cl.Matrix()\n",
      "    \n",
      "    start_time = time.time()\n",
      "\n",
      "    for i in range(it):\n",
      "        #sys.stdout.write(\"\\r{0}%\".format((float(i + 1) / it) * 100))\n",
      "        #sys.stdout.flush()\n",
      "        y_i = y[i:i+L]\n",
      "\n",
      "        if i == 0:\n",
      "            #Initialization\n",
      "            beta = m.get_johansen(y_i.as_matrix(), P, r)\n",
      "            A, B = m.vec_matrix(y_i, P, beta.evecr)\n",
      "        else:\n",
      "            #Update & Out-of-sample forecast\n",
      "            A, B = m.vec_matrix_online(A, B, y_i, P, beta.evecr)\n",
      "            dy_true[i-1,:] = B[-1,:]\n",
      "            dy_pred[i-1,:] = np.dot(A[-1,:], x)\n",
      "\n",
      "        #OLS\n",
      "        x, residuals, rank, s = np.linalg.lstsq(A, B)\n",
      "        Ax = np.dot(A, x)\n",
      "\n",
      "        #Internal mape\n",
      "        y_true = y_i.as_matrix()[-n:]\n",
      "        y_pred = Ax[-n:] + y_i.as_matrix()[-n-1:-1]\n",
      "        \n",
      "        #Stats info\n",
      "        stats = cl.stats(y_true, y_pred)\n",
      "        mape[i,:], mae[i,:], rmse[i,:] = stats.mape, stats.mae, stats.rmse\n",
      "        avg_mape = np.average(mape[i,:])\n",
      "        \n",
      "        #Beta update\n",
      "        if avg_mape > avg_error:\n",
      "            beta = m.get_johansen(y_i.as_matrix(), P)            \n",
      "            r = beta.r\n",
      "            A = m.vec_matrix_update(A, y_i, P, beta.evecr)\n",
      "            x, residuals, rank, s = np.linalg.lstsq(A, B)\n",
      "\n",
      "    oecm = cl.model_it(y[L:L+it], dy_pred + y[L-1:L+it-1], dy_true, dy_pred, mape, mae, rmse)\n",
      "    return oecm"
     ],
     "language": "python",
     "metadata": {},
     "outputs": [],
     "prompt_number": 6
    },
    {
     "cell_type": "code",
     "collapsed": false,
     "input": [
      "def OOVECM(y, L, P, it, r, n):\n",
      "    it2, l = y.shape\n",
      "\n",
      "    dy_true = np.zeros([it, l])\n",
      "    dy_pred = np.zeros([it, l], dtype=np.float32)\n",
      "    mape = np.zeros([it, l], dtype=np.float32)\n",
      "    mae = np.zeros([it, l], dtype=np.float32)\n",
      "    rmse = np.zeros([it, l], dtype=np.float32)\n",
      "\n",
      "    m = cl.Matrix()\n",
      "    start_time = time.time()\n",
      "    for i in range(1, it):\n",
      "        y_i = y[i:i + L]\n",
      "        beta = m.get_johansen(y_i.as_matrix(), P, r)\n",
      "        A, B = m.vec_matrix(y_i, P, beta.evecr)\n",
      "\n",
      "        x, residuals, rank, s = np.linalg.lstsq(A, B)\n",
      "        Ax = np.dot(A, x)\n",
      "\n",
      "\n",
      "        dy_true[i, :] = B[-1,:]\n",
      "        dy_pred[i, :] = Ax[-1,:]\n",
      "        \n",
      "        y_true = y_i.as_matrix()[-n:]\n",
      "        y_pred = Ax[-n:] + y_i.as_matrix()[-n - 1:-1]\n",
      "        \n",
      "        stats = cl.stats(y_true, y_pred)\n",
      "        mape[i, :], mae[i,:], rmse[i,:] = stats.mape, stats.mae, stats.rmse\n",
      "\n",
      "    oecm = cl.model_it(y[L:L + it], dy_pred + y[L - 1:L + it - 1], dy_true, dy_pred, mape, mae, rmse)\n",
      "    return oecm"
     ],
     "language": "python",
     "metadata": {},
     "outputs": [],
     "prompt_number": 15
    },
    {
     "cell_type": "code",
     "collapsed": false,
     "input": [
      "r = 0\n",
      "L = 300\n",
      "P = 3\n",
      "it = 11\n",
      "n = 10\n",
      "avg_error = 0\n",
      "\n",
      "ask_norm, bid_norm = reader.resample_list(ticks_list, '10s')\n",
      "y = ask_norm\n",
      "\n",
      "oecm_alg = alg.OVECM(y, L, P, it, avg_error, r, n)\n",
      "oecm_ipynb = OVECM(y, L, P, it, avg_error, r, n)\n",
      "\n",
      "stats_alg = cl.stats(oecm_alg.y.as_matrix(), oecm_alg.yhat.as_matrix())\n",
      "stats_ipynb = cl.stats(oecm_ipynb.y.as_matrix(), oecm_ipynb.yhat.as_matrix())\n",
      "\n",
      "print stats_alg.mape\n",
      "print stats_ipynb.mape"
     ],
     "language": "python",
     "metadata": {},
     "outputs": [
      {
       "output_type": "stream",
       "stream": "stdout",
       "text": [
        "[ 0.00088691  0.00077189]\n",
        "[ 0.00088691  0.00077189]\n"
       ]
      }
     ],
     "prompt_number": 16
    },
    {
     "cell_type": "code",
     "collapsed": false,
     "input": [
      "r = 0\n",
      "L = 300\n",
      "P = 3\n",
      "it = 11\n",
      "n = 10\n",
      "\n",
      "ask_norm, bid_norm = reader.resample_list(ticks_list, '30s')\n",
      "y = ask_norm\n",
      "\n",
      "ooecm = OOVECM(y, L, P, it, r, n)\n",
      "print ooecm.mapes"
     ],
     "language": "python",
     "metadata": {},
     "outputs": [
      {
       "output_type": "stream",
       "stream": "stdout",
       "text": [
        "[[ 0.          0.        ]\n",
        " [ 0.00142593  0.00083431]\n",
        " [ 0.00123571  0.00084692]\n",
        " [ 0.00116175  0.00091517]\n",
        " [ 0.0011922   0.00088426]\n",
        " [ 0.00066679  0.00102457]\n",
        " [ 0.00063239  0.00099876]\n",
        " [ 0.00062138  0.0006245 ]\n",
        " [ 0.00059332  0.00064005]\n",
        " [ 0.00051179  0.00060533]\n",
        " [ 0.00063179  0.0006462 ]]\n"
       ]
      }
     ],
     "prompt_number": 18
    },
    {
     "cell_type": "code",
     "collapsed": false,
     "input": [],
     "language": "python",
     "metadata": {},
     "outputs": [],
     "prompt_number": 14
    },
    {
     "cell_type": "code",
     "collapsed": false,
     "input": [],
     "language": "python",
     "metadata": {},
     "outputs": []
    }
   ],
   "metadata": {}
  }
 ]
}