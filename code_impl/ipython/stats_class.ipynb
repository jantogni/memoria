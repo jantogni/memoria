{
 "metadata": {
  "name": "",
  "signature": "sha256:68e9d6e73bb2dac7e39c00986d5d07e1bb05be0ce2b83dd365566bb6b6572f7a"
 },
 "nbformat": 3,
 "nbformat_minor": 0,
 "worksheets": [
  {
   "cells": [
    {
     "cell_type": "code",
     "collapsed": false,
     "input": [
      "import sys\n",
      "sys.path.insert(0, '../python/')\n",
      "import classes as cl\n",
      "import numpy as np"
     ],
     "language": "python",
     "metadata": {},
     "outputs": [],
     "prompt_number": 1
    },
    {
     "cell_type": "code",
     "collapsed": false,
     "input": [
      "#Alternative 1\n",
      "y_true = np.array([3, -0.5, 2, 7])\n",
      "y_pred = np.array([2.5, 0.0, 2, 8])\n",
      "\n",
      "stats = cl.stats()\n",
      "\n",
      "print stats.MAPE(y_true, y_pred), stats.MAE(y_true, y_pred), stats.RMSE(y_true, y_pred)"
     ],
     "language": "python",
     "metadata": {},
     "outputs": [
      {
       "output_type": "stream",
       "stream": "stdout",
       "text": [
        "[ 32.73809524] [ 0.5] [ 0.61237244]\n"
       ]
      }
     ],
     "prompt_number": 4
    },
    {
     "cell_type": "code",
     "collapsed": false,
     "input": [
      "#Alternative 2\n",
      "y_true = np.array([3, -0.5, 2, 7])\n",
      "y_pred = np.array([2.5, 0.0, 2, 8])\n",
      "\n",
      "stats = cl.stats(y_true, y_pred)\n",
      "\n",
      "print stats.mape, stats.mape, stats.rmse"
     ],
     "language": "python",
     "metadata": {},
     "outputs": [
      {
       "output_type": "stream",
       "stream": "stdout",
       "text": [
        "[ 32.73809524] [ 32.73809524] [ 0.61237244]\n"
       ]
      }
     ],
     "prompt_number": 5
    }
   ],
   "metadata": {}
  }
 ]
}