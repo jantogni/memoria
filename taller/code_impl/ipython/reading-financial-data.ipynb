{
 "metadata": {
  "name": "",
  "signature": "sha256:7a812afeb1ce88ced1446e6677a8e058e6ae808b328098a1210f7a2648ed3648"
 },
 "nbformat": 3,
 "nbformat_minor": 0,
 "worksheets": [
  {
   "cells": [
    {
     "cell_type": "code",
     "collapsed": false,
     "input": [
      "import sys\n",
      "import StringIO\n",
      "#import pandas as pd\n",
      "#import numpy as np\n",
      "import matplotlib.pyplot as plt\n",
      "import re\n",
      "from datetime import datetime, date, time\n",
      "#from statsmodels.tsa.johansen import coint_johansen\n",
      "from utils import load_data\n",
      "from vec import vec_matrix, get_johansen\n",
      "pylab.rcParams['figure.figsize'] = (10.0, 8.0)"
     ],
     "language": "python",
     "metadata": {},
     "outputs": [],
     "prompt_number": 2
    },
    {
     "cell_type": "code",
     "collapsed": false,
     "input": [
      "def var_matrix(y, p):\n",
      "    \"\"\" Create vector autorregresive (VAR) matrix\n",
      "    \n",
      "    Parameters\n",
      "    ----------\n",
      "    y: pandas DataFrame\n",
      "       prices time series of differents assets\n",
      "    p: int\n",
      "       number of lags of VAR model\n",
      "\n",
      "    Returns\n",
      "    -------\n",
      "    A: pandas DataFrame\n",
      "       Design Matrix\n",
      "    B: pandas DataFrame \n",
      "       Matrix of responses\"\"\"\n",
      "    N, l = y.shape            # N: n of prices, l: n of time series\n",
      "    new_col = y\n",
      "    A = new_col\n",
      "\n",
      "    for i in range(p - 2):\n",
      "        new_col = new_col.shift(1)             # Column shifted\n",
      "        A = [new_col, A]                       # Adding columns\n",
      "        A = pd.concat(A, axis=1)               # Concatenate columns\n",
      "\n",
      "    A['ones'] = np.ones(N)                     # Adding columns with 1's\n",
      "    A = A[p - 1:]                              # Removing first p-1 rows (with Nan values)\n",
      "    B = y[p:]\n",
      "    return (A, B)"
     ],
     "language": "python",
     "metadata": {},
     "outputs": [],
     "prompt_number": 3
    },
    {
     "cell_type": "code",
     "collapsed": false,
     "input": [
      "#filename = 'dukascopy-data/alldata-ask.csv'\n",
      "filename = 'dukascopy-data/data.csv'\n",
      "prices = load_data(filename)"
     ],
     "language": "python",
     "metadata": {},
     "outputs": [],
     "prompt_number": 4
    },
    {
     "cell_type": "code",
     "collapsed": false,
     "input": [
      "def select_currencies(prices,currency, start_time, end_time):\n",
      "    alltickers = ['AUDCAD','AUDCHF','AUDJPY','AUDNZD','AUDSGD','AUDUSD',\n",
      "    'CADCHF','CADHKD','CADJPY','CHFJPY','CHFSGD','EURAUD','EURCAD',\n",
      "    'EURCHF','EURDKK','EURGBP','EURHKD','EURJPY','EURNOK','EURNZD',\n",
      "    'EURPLN','EURSEK','EURSGD','EURTRY','EURUSD','GBPAUD','GBPCAD',\n",
      "    'GBPCHF','GBPJPY','GBPNZD','GBPUSD','HKDJPY','NZDCAD','NZDCHF',\n",
      "    'NZDJPY','NZDUSD','SGDJPY','USDCAD','USDCHF','USDDKK','USDHKD',\n",
      "    'USDJPY','USDMXN','USDNOK','USDPLN','USDRUB','USDSEK','USDSGD',\n",
      "    'USDTRY','USDZAR','XAGUSD','XAUUSD']\n",
      "    regex=re.compile(\".*(\"+currency+\").*\")                                      # Regular expressionregex=re.compile(\".*(USD).*\")   \n",
      "    tickers=[m.group(0) for ticker in alltickers for m in [regex.search(ticker)] if m] # All USD currencies\n",
      "    y = prices[tickers][start_time:end_time]                                           # Data selection\n",
      "    print 'List of tickers:',tickers\n",
      "    print 'Number of tickers:',len(tickers)\n",
      "    return y"
     ],
     "language": "python",
     "metadata": {},
     "outputs": [],
     "prompt_number": 5
    },
    {
     "cell_type": "code",
     "collapsed": false,
     "input": [
      "#Parameters\n",
      "L = 4000                       # Windows size\n",
      "p = 3                          # Number of lags\n",
      "r = 0                          # Number of significant cointegration vectorsi\n",
      "gamma=0.001                    # gamma for SLAAR\n",
      "jstep = 100                    # Rate update Johansen for SLAAR\n",
      "Y =select_currencies(prices,'USD', datetime(2012, 1, 2, 0, 0, 0) , datetime(2012, 1, 5, 9, 0, 0) )\n",
      "Y.shape"
     ],
     "language": "python",
     "metadata": {},
     "outputs": [
      {
       "output_type": "stream",
       "stream": "stdout",
       "text": [
        "List of tickers: ['AUDUSD', 'EURUSD', 'GBPUSD', 'NZDUSD', 'USDCAD', 'USDCHF', 'USDDKK', 'USDHKD', 'USDJPY', 'USDMXN', 'USDNOK', 'USDPLN', 'USDRUB', 'USDSEK', 'USDSGD', 'USDTRY', 'USDZAR', 'XAGUSD', 'XAUUSD']\n",
        "Number of tickers: 19\n"
       ]
      },
      {
       "metadata": {},
       "output_type": "pyout",
       "prompt_number": 6,
       "text": [
        "(99, 19)"
       ]
      }
     ],
     "prompt_number": 6
    },
    {
     "cell_type": "code",
     "collapsed": false,
     "input": [
      "\"\"\"\n",
      "Calculating cointegration vectors at every step\n",
      "\"\"\"\n",
      "nr = []\n",
      "coint_vectors = []\n",
      "#stdout = sys.stdout  #keep a handle on the real standard output\n",
      "#sys.stdout = StringIO.StringIO() \n",
      "\n",
      "for l in range(L,len(Y)):\n",
      "    y = Y[l-L:l]\n",
      "    A, B, beta = vec_matrix(y,p)\n",
      "    nr.append(beta.r)\n",
      "    coint_vectors.append(beta.evecr)\n",
      "\n",
      "#sys.stdout = stdout\n",
      "print nr"
     ],
     "language": "python",
     "metadata": {},
     "outputs": [
      {
       "output_type": "stream",
       "stream": "stdout",
       "text": [
        "(3999, 57)\n",
        "(3999, 19)\n",
        "rkt"
       ]
      },
      {
       "output_type": "stream",
       "stream": "stdout",
       "text": [
        " (3996, 19) (3996, 57)\n",
        "(3999, 57)"
       ]
      },
      {
       "output_type": "stream",
       "stream": "stdout",
       "text": [
        "\n",
        "(3999, 19)\n",
        "rkt"
       ]
      },
      {
       "output_type": "stream",
       "stream": "stdout",
       "text": [
        " (3996, 19) (3996, 57)\n",
        "(3999, 57)"
       ]
      },
      {
       "output_type": "stream",
       "stream": "stdout",
       "text": [
        "\n",
        "(3999, 19)\n",
        "rkt"
       ]
      },
      {
       "output_type": "stream",
       "stream": "stdout",
       "text": [
        " (3996, 19) (3996, 57)\n",
        "(3999, 57)"
       ]
      },
      {
       "output_type": "stream",
       "stream": "stdout",
       "text": [
        "\n",
        "(3999, 19)\n",
        "rkt"
       ]
      },
      {
       "output_type": "stream",
       "stream": "stdout",
       "text": [
        " (3996, 19) (3996, 57)\n",
        "(3999, 57)"
       ]
      },
      {
       "output_type": "stream",
       "stream": "stdout",
       "text": [
        "\n",
        "(3999, 19)\n",
        "rkt"
       ]
      },
      {
       "output_type": "stream",
       "stream": "stdout",
       "text": [
        " (3996, 19) (3996, 57)\n",
        "(3999, 57)"
       ]
      },
      {
       "output_type": "stream",
       "stream": "stdout",
       "text": [
        "\n",
        "(3999, 19)\n",
        "rkt"
       ]
      },
      {
       "output_type": "stream",
       "stream": "stdout",
       "text": [
        " (3996, 19) (3996, 57)\n",
        "(3999, 57)"
       ]
      },
      {
       "output_type": "stream",
       "stream": "stdout",
       "text": [
        "\n",
        "(3999, 19)\n",
        "rkt"
       ]
      },
      {
       "output_type": "stream",
       "stream": "stdout",
       "text": [
        " (3996, 19) (3996, 57)\n",
        "(3999, 57)"
       ]
      },
      {
       "output_type": "stream",
       "stream": "stdout",
       "text": [
        "\n",
        "(3999, 19)\n",
        "rkt"
       ]
      },
      {
       "output_type": "stream",
       "stream": "stdout",
       "text": [
        " (3996, 19) (3996, 57)\n",
        "(3999, 57)"
       ]
      },
      {
       "output_type": "stream",
       "stream": "stdout",
       "text": [
        "\n",
        "(3999, 19)\n",
        "rkt"
       ]
      },
      {
       "output_type": "stream",
       "stream": "stdout",
       "text": [
        " (3996, 19) (3996, 57)\n",
        "(3999, 57)"
       ]
      },
      {
       "output_type": "stream",
       "stream": "stdout",
       "text": [
        "\n",
        "(3999, 19)\n",
        "rkt"
       ]
      },
      {
       "output_type": "stream",
       "stream": "stdout",
       "text": [
        " (3996, 19) (3996, 57)\n",
        "(3999, 57)"
       ]
      },
      {
       "output_type": "stream",
       "stream": "stdout",
       "text": [
        "\n",
        "(3999, 19)\n",
        "rkt"
       ]
      },
      {
       "output_type": "stream",
       "stream": "stdout",
       "text": [
        " (3996, 19) (3996, 57)\n",
        "(3999, 57)"
       ]
      },
      {
       "output_type": "stream",
       "stream": "stdout",
       "text": [
        "\n",
        "(3999, 19)\n",
        "rkt"
       ]
      },
      {
       "output_type": "stream",
       "stream": "stdout",
       "text": [
        " (3996, 19) (3996, 57)\n",
        "(3999, 57)"
       ]
      },
      {
       "output_type": "stream",
       "stream": "stdout",
       "text": [
        "\n",
        "(3999, 19)\n",
        "rkt"
       ]
      },
      {
       "output_type": "stream",
       "stream": "stdout",
       "text": [
        " (3996, 19) (3996, 57)\n",
        "(3999, 57)"
       ]
      },
      {
       "output_type": "stream",
       "stream": "stdout",
       "text": [
        "\n",
        "(3999, 19)\n",
        "rkt"
       ]
      },
      {
       "output_type": "stream",
       "stream": "stdout",
       "text": [
        " (3996, 19) (3996, 57)\n",
        "(3999, 57)"
       ]
      },
      {
       "output_type": "stream",
       "stream": "stdout",
       "text": [
        "\n",
        "(3999, 19)\n",
        "rkt"
       ]
      },
      {
       "output_type": "stream",
       "stream": "stdout",
       "text": [
        " (3996, 19) (3996, 57)\n",
        "(3999, 57)"
       ]
      },
      {
       "output_type": "stream",
       "stream": "stdout",
       "text": [
        "\n",
        "(3999, 19)\n",
        "rkt"
       ]
      },
      {
       "output_type": "stream",
       "stream": "stdout",
       "text": [
        " (3996, 19) (3996, 57)\n",
        "(3999, 57)"
       ]
      },
      {
       "output_type": "stream",
       "stream": "stdout",
       "text": [
        "\n",
        "(3999, 19)\n",
        "rkt"
       ]
      },
      {
       "output_type": "stream",
       "stream": "stdout",
       "text": [
        " (3996, 19) (3996, 57)\n",
        "(3999, 57)"
       ]
      },
      {
       "output_type": "stream",
       "stream": "stdout",
       "text": [
        "\n",
        "(3999, 19)\n",
        "rkt"
       ]
      },
      {
       "output_type": "stream",
       "stream": "stdout",
       "text": [
        " (3996, 19) (3996, 57)\n",
        "(3999, 57)"
       ]
      },
      {
       "output_type": "stream",
       "stream": "stdout",
       "text": [
        "\n",
        "(3999, 19)\n",
        "rkt"
       ]
      },
      {
       "output_type": "stream",
       "stream": "stdout",
       "text": [
        " (3996, 19) (3996, 57)\n",
        "(3999, 57)"
       ]
      },
      {
       "output_type": "stream",
       "stream": "stdout",
       "text": [
        "\n",
        "(3999, 19)\n",
        "rkt"
       ]
      },
      {
       "output_type": "stream",
       "stream": "stdout",
       "text": [
        " (3996, 19) (3996, 57)\n",
        "(3999, 57)"
       ]
      },
      {
       "output_type": "stream",
       "stream": "stdout",
       "text": [
        "\n",
        "(3999, 19)\n",
        "rkt"
       ]
      },
      {
       "output_type": "stream",
       "stream": "stdout",
       "text": [
        " (3996, 19) (3996, 57)\n",
        "(3999, 57)"
       ]
      },
      {
       "output_type": "stream",
       "stream": "stdout",
       "text": [
        "\n",
        "(3999, 19)\n",
        "rkt"
       ]
      },
      {
       "output_type": "stream",
       "stream": "stdout",
       "text": [
        " (3996, 19) (3996, 57)\n",
        "(3999, 57)"
       ]
      },
      {
       "output_type": "stream",
       "stream": "stdout",
       "text": [
        "\n",
        "(3999, 19)\n",
        "rkt"
       ]
      },
      {
       "output_type": "stream",
       "stream": "stdout",
       "text": [
        " (3996, 19) (3996, 57)\n",
        "(3999, 57)"
       ]
      },
      {
       "output_type": "stream",
       "stream": "stdout",
       "text": [
        "\n",
        "(3999, 19)\n",
        "rkt"
       ]
      },
      {
       "output_type": "stream",
       "stream": "stdout",
       "text": [
        " (3996, 19) (3996, 57)\n",
        "(3999, 57)"
       ]
      },
      {
       "output_type": "stream",
       "stream": "stdout",
       "text": [
        "\n",
        "(3999, 19)\n",
        "rkt"
       ]
      },
      {
       "output_type": "stream",
       "stream": "stdout",
       "text": [
        " (3996, 19) (3996, 57)\n",
        "(3999, 57)"
       ]
      },
      {
       "output_type": "stream",
       "stream": "stdout",
       "text": [
        "\n",
        "(3999, 19)\n",
        "rkt"
       ]
      },
      {
       "output_type": "stream",
       "stream": "stdout",
       "text": [
        " (3996, 19) (3996, 57)\n",
        "(3999, 57)"
       ]
      },
      {
       "output_type": "stream",
       "stream": "stdout",
       "text": [
        "\n",
        "(3999, 19)\n",
        "rkt"
       ]
      },
      {
       "output_type": "stream",
       "stream": "stdout",
       "text": [
        " (3996, 19) (3996, 57)\n",
        "(3999, 57)"
       ]
      },
      {
       "output_type": "stream",
       "stream": "stdout",
       "text": [
        "\n",
        "(3999, 19)\n",
        "rkt"
       ]
      },
      {
       "output_type": "stream",
       "stream": "stdout",
       "text": [
        " (3996, 19) (3996, 57)\n",
        "(3999, 57)"
       ]
      },
      {
       "output_type": "stream",
       "stream": "stdout",
       "text": [
        "\n",
        "(3999, 19)\n",
        "rkt"
       ]
      },
      {
       "output_type": "stream",
       "stream": "stdout",
       "text": [
        " (3996, 19) (3996, 57)\n",
        "(3999, 57)"
       ]
      },
      {
       "output_type": "stream",
       "stream": "stdout",
       "text": [
        "\n",
        "(3999, 19)\n",
        "rkt"
       ]
      },
      {
       "output_type": "stream",
       "stream": "stdout",
       "text": [
        " (3996, 19) (3996, 57)\n",
        "(3999, 57)"
       ]
      },
      {
       "output_type": "stream",
       "stream": "stdout",
       "text": [
        "\n",
        "(3999, 19)\n",
        "rkt"
       ]
      },
      {
       "output_type": "stream",
       "stream": "stdout",
       "text": [
        " (3996, 19) (3996, 57)\n",
        "(3999, 57)"
       ]
      },
      {
       "output_type": "stream",
       "stream": "stdout",
       "text": [
        "\n",
        "(3999, 19)\n",
        "rkt"
       ]
      },
      {
       "output_type": "stream",
       "stream": "stdout",
       "text": [
        " (3996, 19) (3996, 57)\n",
        "(3999, 57)"
       ]
      },
      {
       "output_type": "stream",
       "stream": "stdout",
       "text": [
        "\n",
        "(3999, 19)\n",
        "rkt"
       ]
      },
      {
       "output_type": "stream",
       "stream": "stdout",
       "text": [
        " (3996, 19) (3996, 57)\n",
        "(3999, 57)"
       ]
      },
      {
       "output_type": "stream",
       "stream": "stdout",
       "text": [
        "\n",
        "(3999, 19)\n",
        "rkt"
       ]
      },
      {
       "output_type": "stream",
       "stream": "stdout",
       "text": [
        " (3996, 19) (3996, 57)\n",
        "(3999, 57)"
       ]
      },
      {
       "output_type": "stream",
       "stream": "stdout",
       "text": [
        "\n",
        "(3999, 19)\n",
        "rkt"
       ]
      },
      {
       "output_type": "stream",
       "stream": "stdout",
       "text": [
        " (3996, 19) (3996, 57)\n",
        "(3999, 57)"
       ]
      },
      {
       "output_type": "stream",
       "stream": "stdout",
       "text": [
        "\n",
        "(3999, 19)\n",
        "rkt"
       ]
      },
      {
       "output_type": "stream",
       "stream": "stdout",
       "text": [
        " (3996, 19) (3996, 57)\n",
        "(3999, 57)"
       ]
      },
      {
       "output_type": "stream",
       "stream": "stdout",
       "text": [
        "\n",
        "(3999, 19)\n",
        "rkt"
       ]
      },
      {
       "output_type": "stream",
       "stream": "stdout",
       "text": [
        " (3996, 19) (3996, 57)\n",
        "(3999, 57)"
       ]
      },
      {
       "output_type": "stream",
       "stream": "stdout",
       "text": [
        "\n",
        "(3999, 19)\n",
        "rkt"
       ]
      },
      {
       "output_type": "stream",
       "stream": "stdout",
       "text": [
        " (3996, 19) (3996, 57)\n",
        "(3999, 57)"
       ]
      },
      {
       "output_type": "stream",
       "stream": "stdout",
       "text": [
        "\n",
        "(3999, 19)\n",
        "rkt"
       ]
      },
      {
       "output_type": "stream",
       "stream": "stdout",
       "text": [
        " (3996, 19) (3996, 57)\n",
        "(3999, 57)"
       ]
      },
      {
       "output_type": "stream",
       "stream": "stdout",
       "text": [
        "\n",
        "(3999, 19)\n",
        "rkt"
       ]
      },
      {
       "output_type": "stream",
       "stream": "stdout",
       "text": [
        " (3996, 19) (3996, 57)\n",
        "(3999, 57)"
       ]
      },
      {
       "output_type": "stream",
       "stream": "stdout",
       "text": [
        "\n",
        "(3999, 19)\n",
        "rkt"
       ]
      },
      {
       "output_type": "stream",
       "stream": "stdout",
       "text": [
        " (3996, 19) (3996, 57)\n",
        "(3999, 57)"
       ]
      },
      {
       "output_type": "stream",
       "stream": "stdout",
       "text": [
        "\n",
        "(3999, 19)\n",
        "rkt"
       ]
      },
      {
       "output_type": "stream",
       "stream": "stdout",
       "text": [
        " (3996, 19) (3996, 57)\n",
        "(3999, 57)"
       ]
      },
      {
       "output_type": "stream",
       "stream": "stdout",
       "text": [
        "\n",
        "(3999, 19)\n",
        "rkt"
       ]
      },
      {
       "output_type": "stream",
       "stream": "stdout",
       "text": [
        " (3996, 19) (3996, 57)\n",
        "(3999, 57)"
       ]
      },
      {
       "output_type": "stream",
       "stream": "stdout",
       "text": [
        "\n",
        "(3999, 19)\n",
        "rkt"
       ]
      },
      {
       "output_type": "stream",
       "stream": "stdout",
       "text": [
        " (3996, 19) (3996, 57)\n",
        "(3999, 57)"
       ]
      },
      {
       "output_type": "stream",
       "stream": "stdout",
       "text": [
        "\n",
        "(3999, 19)\n",
        "rkt"
       ]
      },
      {
       "output_type": "stream",
       "stream": "stdout",
       "text": [
        " (3996, 19) (3996, 57)\n",
        "(3999, 57)"
       ]
      },
      {
       "output_type": "stream",
       "stream": "stdout",
       "text": [
        "\n",
        "(3999, 19)\n",
        "rkt"
       ]
      },
      {
       "output_type": "stream",
       "stream": "stdout",
       "text": [
        " (3996, 19) (3996, 57)\n",
        "(3999, 57)"
       ]
      },
      {
       "output_type": "stream",
       "stream": "stdout",
       "text": [
        "\n",
        "(3999, 19)\n",
        "rkt"
       ]
      },
      {
       "output_type": "stream",
       "stream": "stdout",
       "text": [
        " (3996, 19) (3996, 57)\n",
        "(3999, 57)"
       ]
      },
      {
       "output_type": "stream",
       "stream": "stdout",
       "text": [
        "\n",
        "(3999, 19)\n",
        "rkt"
       ]
      },
      {
       "output_type": "stream",
       "stream": "stdout",
       "text": [
        " (3996, 19) (3996, 57)\n",
        "(3999, 57)"
       ]
      },
      {
       "output_type": "stream",
       "stream": "stdout",
       "text": [
        "\n",
        "(3999, 19)\n",
        "rkt"
       ]
      },
      {
       "output_type": "stream",
       "stream": "stdout",
       "text": [
        " (3996, 19) (3996, 57)\n",
        "(3999, 57)"
       ]
      },
      {
       "output_type": "stream",
       "stream": "stdout",
       "text": [
        "\n",
        "(3999, 19)\n",
        "rkt"
       ]
      },
      {
       "output_type": "stream",
       "stream": "stdout",
       "text": [
        " (3996, 19) (3996, 57)\n",
        "(3999, 57)"
       ]
      },
      {
       "output_type": "stream",
       "stream": "stdout",
       "text": [
        "\n",
        "(3999, 19)\n",
        "rkt"
       ]
      },
      {
       "output_type": "stream",
       "stream": "stdout",
       "text": [
        " (3996, 19) (3996, 57)\n",
        "(3999, 57)"
       ]
      },
      {
       "output_type": "stream",
       "stream": "stdout",
       "text": [
        "\n",
        "(3999, 19)\n",
        "rkt"
       ]
      },
      {
       "output_type": "stream",
       "stream": "stdout",
       "text": [
        " (3996, 19) (3996, 57)\n",
        "(3999, 57)"
       ]
      },
      {
       "output_type": "stream",
       "stream": "stdout",
       "text": [
        "\n",
        "(3999, 19)\n",
        "rkt"
       ]
      },
      {
       "output_type": "stream",
       "stream": "stdout",
       "text": [
        " (3996, 19) (3996, 57)\n",
        "(3999, 57)"
       ]
      },
      {
       "output_type": "stream",
       "stream": "stdout",
       "text": [
        "\n",
        "(3999, 19)\n",
        "rkt"
       ]
      },
      {
       "output_type": "stream",
       "stream": "stdout",
       "text": [
        " (3996, 19) (3996, 57)\n",
        "(3999, 57)"
       ]
      },
      {
       "output_type": "stream",
       "stream": "stdout",
       "text": [
        "\n",
        "(3999, 19)\n",
        "rkt"
       ]
      },
      {
       "output_type": "stream",
       "stream": "stdout",
       "text": [
        " (3996, 19) (3996, 57)\n",
        "(3999, 57)"
       ]
      },
      {
       "output_type": "stream",
       "stream": "stdout",
       "text": [
        "\n",
        "(3999, 19)\n",
        "rkt"
       ]
      },
      {
       "output_type": "stream",
       "stream": "stdout",
       "text": [
        " (3996, 19) (3996, 57)\n",
        "(3999, 57)"
       ]
      },
      {
       "output_type": "stream",
       "stream": "stdout",
       "text": [
        "\n",
        "(3999, 19)\n",
        "rkt"
       ]
      },
      {
       "output_type": "stream",
       "stream": "stdout",
       "text": [
        " (3996, 19) (3996, 57)\n",
        "(3999, 57)"
       ]
      },
      {
       "output_type": "stream",
       "stream": "stdout",
       "text": [
        "\n",
        "(3999, 19)\n",
        "rkt"
       ]
      },
      {
       "output_type": "stream",
       "stream": "stdout",
       "text": [
        " (3996, 19) (3996, 57)\n",
        "(3999, 57)"
       ]
      },
      {
       "output_type": "stream",
       "stream": "stdout",
       "text": [
        "\n",
        "(3999, 19)\n",
        "rkt"
       ]
      },
      {
       "output_type": "stream",
       "stream": "stdout",
       "text": [
        " (3996, 19) (3996, 57)\n",
        "(3999, 57)"
       ]
      },
      {
       "output_type": "stream",
       "stream": "stdout",
       "text": [
        "\n",
        "(3999, 19)\n",
        "rkt"
       ]
      },
      {
       "output_type": "stream",
       "stream": "stdout",
       "text": [
        " (3996, 19) (3996, 57)\n",
        "(3999, 57)"
       ]
      },
      {
       "output_type": "stream",
       "stream": "stdout",
       "text": [
        "\n",
        "(3999, 19)\n",
        "rkt"
       ]
      },
      {
       "output_type": "stream",
       "stream": "stdout",
       "text": [
        " (3996, 19) (3996, 57)\n",
        "(3999, 57)"
       ]
      },
      {
       "output_type": "stream",
       "stream": "stdout",
       "text": [
        "\n",
        "(3999, 19)\n",
        "rkt"
       ]
      },
      {
       "output_type": "stream",
       "stream": "stdout",
       "text": [
        " (3996, 19) (3996, 57)\n",
        "(3999, 57)"
       ]
      },
      {
       "output_type": "stream",
       "stream": "stdout",
       "text": [
        "\n",
        "(3999, 19)\n",
        "rkt"
       ]
      },
      {
       "output_type": "stream",
       "stream": "stdout",
       "text": [
        " (3996, 19) (3996, 57)\n",
        "(3999, 57)"
       ]
      },
      {
       "output_type": "stream",
       "stream": "stdout",
       "text": [
        "\n",
        "(3999, 19)\n",
        "rkt"
       ]
      },
      {
       "output_type": "stream",
       "stream": "stdout",
       "text": [
        " (3996, 19) (3996, 57)\n",
        "(3999, 57)"
       ]
      },
      {
       "output_type": "stream",
       "stream": "stdout",
       "text": [
        "\n",
        "(3999, 19)\n",
        "rkt"
       ]
      },
      {
       "output_type": "stream",
       "stream": "stdout",
       "text": [
        " (3996, 19) (3996, 57)\n",
        "(3999, 57)"
       ]
      },
      {
       "output_type": "stream",
       "stream": "stdout",
       "text": [
        "\n",
        "(3999, 19)\n",
        "rkt"
       ]
      },
      {
       "output_type": "stream",
       "stream": "stdout",
       "text": [
        " (3996, 19) (3996, 57)\n",
        "(3999, 57)"
       ]
      },
      {
       "output_type": "stream",
       "stream": "stdout",
       "text": [
        "\n",
        "(3999, 19)\n",
        "rkt"
       ]
      },
      {
       "output_type": "stream",
       "stream": "stdout",
       "text": [
        " (3996, 19) (3996, 57)\n",
        "(3999, 57)"
       ]
      },
      {
       "output_type": "stream",
       "stream": "stdout",
       "text": [
        "\n",
        "(3999, 19)\n",
        "rkt"
       ]
      },
      {
       "output_type": "stream",
       "stream": "stdout",
       "text": [
        " (3996, 19) (3996, 57)\n",
        "(3999, 57)"
       ]
      },
      {
       "output_type": "stream",
       "stream": "stdout",
       "text": [
        "\n",
        "(3999, 19)\n",
        "rkt"
       ]
      },
      {
       "output_type": "stream",
       "stream": "stdout",
       "text": [
        " (3996, 19) (3996, 57)\n",
        "(3999, 57)"
       ]
      },
      {
       "output_type": "stream",
       "stream": "stdout",
       "text": [
        "\n",
        "(3999, 19)\n",
        "rkt"
       ]
      },
      {
       "output_type": "stream",
       "stream": "stdout",
       "text": [
        " (3996, 19) (3996, 57)\n",
        "(3999, 57)"
       ]
      },
      {
       "output_type": "stream",
       "stream": "stdout",
       "text": [
        "\n",
        "(3999, 19)\n",
        "rkt"
       ]
      },
      {
       "output_type": "stream",
       "stream": "stdout",
       "text": [
        " (3996, 19) (3996, 57)\n",
        "(3999, 57)"
       ]
      },
      {
       "output_type": "stream",
       "stream": "stdout",
       "text": [
        "\n",
        "(3999, 19)\n",
        "rkt"
       ]
      },
      {
       "output_type": "stream",
       "stream": "stdout",
       "text": [
        " (3996, 19) (3996, 57)\n",
        "(3999, 57)"
       ]
      },
      {
       "output_type": "stream",
       "stream": "stdout",
       "text": [
        "\n",
        "(3999, 19)\n",
        "rkt"
       ]
      },
      {
       "output_type": "stream",
       "stream": "stdout",
       "text": [
        " (3996, 19) (3996, 57)\n",
        "(3999, 57)"
       ]
      },
      {
       "output_type": "stream",
       "stream": "stdout",
       "text": [
        "\n",
        "(3999, 19)\n",
        "rkt"
       ]
      },
      {
       "output_type": "stream",
       "stream": "stdout",
       "text": [
        " (3996, 19) (3996, 57)\n",
        "(3999, 57)"
       ]
      },
      {
       "output_type": "stream",
       "stream": "stdout",
       "text": [
        "\n",
        "(3999, 19)\n",
        "rkt"
       ]
      },
      {
       "output_type": "stream",
       "stream": "stdout",
       "text": [
        " (3996, 19) (3996, 57)\n",
        "(3999, 57)"
       ]
      },
      {
       "output_type": "stream",
       "stream": "stdout",
       "text": [
        "\n",
        "(3999, 19)\n",
        "rkt"
       ]
      },
      {
       "output_type": "stream",
       "stream": "stdout",
       "text": [
        " (3996, 19) (3996, 57)\n",
        "(3999, 57)"
       ]
      },
      {
       "output_type": "stream",
       "stream": "stdout",
       "text": [
        "\n",
        "(3999, 19)\n",
        "rkt"
       ]
      },
      {
       "output_type": "stream",
       "stream": "stdout",
       "text": [
        " (3996, 19) (3996, 57)\n",
        "(3999, 57)"
       ]
      },
      {
       "output_type": "stream",
       "stream": "stdout",
       "text": [
        "\n",
        "(3999, 19)\n",
        "rkt"
       ]
      },
      {
       "output_type": "stream",
       "stream": "stdout",
       "text": [
        " (3996, 19) (3996, 57)\n",
        "(3999, 57)"
       ]
      },
      {
       "output_type": "stream",
       "stream": "stdout",
       "text": [
        "\n",
        "(3999, 19)\n",
        "rkt"
       ]
      },
      {
       "output_type": "stream",
       "stream": "stdout",
       "text": [
        " (3996, 19) (3996, 57)\n",
        "(3999, 57)"
       ]
      },
      {
       "output_type": "stream",
       "stream": "stdout",
       "text": [
        "\n",
        "(3999, 19)\n",
        "rkt"
       ]
      },
      {
       "output_type": "stream",
       "stream": "stdout",
       "text": [
        " (3996, 19) (3996, 57)\n",
        "(3999, 57)"
       ]
      },
      {
       "output_type": "stream",
       "stream": "stdout",
       "text": [
        "\n",
        "(3999, 19)\n",
        "rkt"
       ]
      },
      {
       "output_type": "stream",
       "stream": "stdout",
       "text": [
        " (3996, 19) (3996, 57)\n",
        "(3999, 57)"
       ]
      },
      {
       "output_type": "stream",
       "stream": "stdout",
       "text": [
        "\n",
        "(3999, 19)\n",
        "rkt"
       ]
      },
      {
       "output_type": "stream",
       "stream": "stdout",
       "text": [
        " (3996, 19) (3996, 57)\n",
        "(3999, 57)"
       ]
      },
      {
       "output_type": "stream",
       "stream": "stdout",
       "text": [
        "\n",
        "(3999, 19)\n",
        "rkt"
       ]
      },
      {
       "output_type": "stream",
       "stream": "stdout",
       "text": [
        " (3996, 19) (3996, 57)\n",
        "(3999, 57)"
       ]
      },
      {
       "output_type": "stream",
       "stream": "stdout",
       "text": [
        "\n",
        "(3999, 19)\n",
        "rkt"
       ]
      },
      {
       "output_type": "stream",
       "stream": "stdout",
       "text": [
        " (3996, 19) (3996, 57)\n",
        "(3999, 57)"
       ]
      },
      {
       "output_type": "stream",
       "stream": "stdout",
       "text": [
        "\n",
        "(3999, 19)\n",
        "rkt"
       ]
      },
      {
       "output_type": "stream",
       "stream": "stdout",
       "text": [
        " (3996, 19) (3996, 57)\n",
        "(3999, 57)"
       ]
      },
      {
       "output_type": "stream",
       "stream": "stdout",
       "text": [
        "\n",
        "(3999, 19)\n",
        "rkt"
       ]
      },
      {
       "output_type": "stream",
       "stream": "stdout",
       "text": [
        " (3996, 19) (3996, 57)\n",
        "(3999, 57)"
       ]
      },
      {
       "output_type": "stream",
       "stream": "stdout",
       "text": [
        "\n",
        "(3999, 19)\n",
        "rkt"
       ]
      },
      {
       "output_type": "stream",
       "stream": "stdout",
       "text": [
        " (3996, 19) (3996, 57)\n",
        "(3999, 57)"
       ]
      },
      {
       "output_type": "stream",
       "stream": "stdout",
       "text": [
        "\n",
        "(3999, 19)\n",
        "rkt"
       ]
      },
      {
       "output_type": "stream",
       "stream": "stdout",
       "text": [
        " (3996, 19) (3996, 57)\n",
        "(3999, 57)"
       ]
      },
      {
       "output_type": "stream",
       "stream": "stdout",
       "text": [
        "\n",
        "(3999, 19)\n",
        "rkt"
       ]
      },
      {
       "output_type": "stream",
       "stream": "stdout",
       "text": [
        " (3996, 19) (3996, 57)\n",
        "(3999, 57)"
       ]
      },
      {
       "output_type": "stream",
       "stream": "stdout",
       "text": [
        "\n",
        "(3999, 19)\n",
        "rkt"
       ]
      },
      {
       "output_type": "stream",
       "stream": "stdout",
       "text": [
        " (3996, 19) (3996, 57)\n",
        "(3999, 57)"
       ]
      },
      {
       "output_type": "stream",
       "stream": "stdout",
       "text": [
        "\n",
        "(3999, 19)\n",
        "rkt"
       ]
      },
      {
       "output_type": "stream",
       "stream": "stdout",
       "text": [
        " (3996, 19) (3996, 57)\n",
        "(3999, 57)"
       ]
      },
      {
       "output_type": "stream",
       "stream": "stdout",
       "text": [
        "\n",
        "(3999, 19)\n",
        "rkt"
       ]
      },
      {
       "output_type": "stream",
       "stream": "stdout",
       "text": [
        " (3996, 19) (3996, 57)\n",
        "(3999, 57)"
       ]
      },
      {
       "output_type": "stream",
       "stream": "stdout",
       "text": [
        "\n",
        "(3999, 19)\n",
        "rkt"
       ]
      },
      {
       "output_type": "stream",
       "stream": "stdout",
       "text": [
        " (3996, 19) (3996, 57)\n",
        "(3999, 57)"
       ]
      },
      {
       "output_type": "stream",
       "stream": "stdout",
       "text": [
        "\n",
        "(3999, 19)\n",
        "rkt"
       ]
      },
      {
       "output_type": "stream",
       "stream": "stdout",
       "text": [
        " (3996, 19) (3996, 57)\n",
        "(3999, 57)"
       ]
      },
      {
       "output_type": "stream",
       "stream": "stdout",
       "text": [
        "\n",
        "(3999, 19)\n",
        "rkt"
       ]
      },
      {
       "output_type": "stream",
       "stream": "stdout",
       "text": [
        " (3996, 19) (3996, 57)\n",
        "(3999, 57)"
       ]
      },
      {
       "output_type": "stream",
       "stream": "stdout",
       "text": [
        "\n",
        "(3999, 19)\n",
        "rkt"
       ]
      },
      {
       "output_type": "stream",
       "stream": "stdout",
       "text": [
        " (3996, 19) (3996, 57)\n",
        "(3999, 57)"
       ]
      },
      {
       "output_type": "stream",
       "stream": "stdout",
       "text": [
        "\n",
        "(3999, 19)\n",
        "rkt"
       ]
      },
      {
       "output_type": "stream",
       "stream": "stdout",
       "text": [
        " (3996, 19) (3996, 57)\n",
        "(3999, 57)"
       ]
      },
      {
       "output_type": "stream",
       "stream": "stdout",
       "text": [
        "\n",
        "(3999, 19)\n",
        "rkt"
       ]
      },
      {
       "output_type": "stream",
       "stream": "stdout",
       "text": [
        " (3996, 19) (3996, 57)\n",
        "(3999, 57)"
       ]
      },
      {
       "output_type": "stream",
       "stream": "stdout",
       "text": [
        "\n",
        "(3999, 19)\n",
        "rkt"
       ]
      },
      {
       "output_type": "stream",
       "stream": "stdout",
       "text": [
        " (3996, 19) (3996, 57)\n",
        "(3999, 57)"
       ]
      },
      {
       "output_type": "stream",
       "stream": "stdout",
       "text": [
        "\n",
        "(3999, 19)\n",
        "rkt"
       ]
      },
      {
       "output_type": "stream",
       "stream": "stdout",
       "text": [
        " (3996, 19) (3996, 57)\n",
        "(3999, 57)"
       ]
      },
      {
       "output_type": "stream",
       "stream": "stdout",
       "text": [
        "\n",
        "(3999, 19)\n",
        "rkt"
       ]
      },
      {
       "output_type": "stream",
       "stream": "stdout",
       "text": [
        " (3996, 19) (3996, 57)\n",
        "(3999, 57)"
       ]
      },
      {
       "output_type": "stream",
       "stream": "stdout",
       "text": [
        "\n",
        "(3999, 19)\n",
        "rkt"
       ]
      },
      {
       "output_type": "stream",
       "stream": "stdout",
       "text": [
        " (3996, 19) (3996, 57)\n",
        "(3999, 57)"
       ]
      },
      {
       "output_type": "stream",
       "stream": "stdout",
       "text": [
        "\n",
        "(3999, 19)\n",
        "rkt"
       ]
      },
      {
       "output_type": "stream",
       "stream": "stdout",
       "text": [
        " (3996, 19) (3996, 57)\n",
        "(3999, 57)"
       ]
      },
      {
       "output_type": "stream",
       "stream": "stdout",
       "text": [
        "\n",
        "(3999, 19)\n",
        "rkt"
       ]
      },
      {
       "output_type": "stream",
       "stream": "stdout",
       "text": [
        " (3996, 19) (3996, 57)\n",
        "(3999, 57)"
       ]
      },
      {
       "output_type": "stream",
       "stream": "stdout",
       "text": [
        "\n",
        "(3999, 19)\n",
        "rkt"
       ]
      },
      {
       "output_type": "stream",
       "stream": "stdout",
       "text": [
        " (3996, 19) (3996, 57)\n",
        "(3999, 57)"
       ]
      },
      {
       "output_type": "stream",
       "stream": "stdout",
       "text": [
        "\n",
        "(3999, 19)\n",
        "rkt"
       ]
      },
      {
       "output_type": "stream",
       "stream": "stdout",
       "text": [
        " (3996, 19) (3996, 57)\n",
        "(3999, 57)"
       ]
      },
      {
       "output_type": "stream",
       "stream": "stdout",
       "text": [
        "\n",
        "(3999, 19)\n",
        "rkt"
       ]
      },
      {
       "output_type": "stream",
       "stream": "stdout",
       "text": [
        " (3996, 19) (3996, 57)\n",
        "(3999, 57)"
       ]
      },
      {
       "output_type": "stream",
       "stream": "stdout",
       "text": [
        "\n",
        "(3999, 19)\n",
        "rkt"
       ]
      },
      {
       "output_type": "stream",
       "stream": "stdout",
       "text": [
        " (3996, 19) (3996, 57)\n",
        "(3999, 57)"
       ]
      },
      {
       "output_type": "stream",
       "stream": "stdout",
       "text": [
        "\n",
        "(3999, 19)\n",
        "rkt"
       ]
      },
      {
       "output_type": "stream",
       "stream": "stdout",
       "text": [
        " (3996, 19) (3996, 57)\n",
        "(3999, 57)"
       ]
      },
      {
       "output_type": "stream",
       "stream": "stdout",
       "text": [
        "\n",
        "(3999, 19)\n",
        "rkt"
       ]
      },
      {
       "output_type": "stream",
       "stream": "stdout",
       "text": [
        " (3996, 19) (3996, 57)\n",
        "(3999, 57)"
       ]
      },
      {
       "output_type": "stream",
       "stream": "stdout",
       "text": [
        "\n",
        "(3999, 19)\n",
        "rkt"
       ]
      },
      {
       "output_type": "stream",
       "stream": "stdout",
       "text": [
        " (3996, 19) (3996, 57)\n",
        "(3999, 57)"
       ]
      },
      {
       "output_type": "stream",
       "stream": "stdout",
       "text": [
        "\n",
        "(3999, 19)\n",
        "rkt"
       ]
      },
      {
       "output_type": "stream",
       "stream": "stdout",
       "text": [
        " (3996, 19) (3996, 57)\n",
        "(3999, 57)"
       ]
      },
      {
       "output_type": "stream",
       "stream": "stdout",
       "text": [
        "\n",
        "(3999, 19)\n",
        "rkt"
       ]
      },
      {
       "output_type": "stream",
       "stream": "stdout",
       "text": [
        " (3996, 19) (3996, 57)\n",
        "(3999, 57)"
       ]
      },
      {
       "output_type": "stream",
       "stream": "stdout",
       "text": [
        "\n",
        "(3999, 19)\n",
        "rkt"
       ]
      },
      {
       "output_type": "stream",
       "stream": "stdout",
       "text": [
        " (3996, 19) (3996, 57)\n",
        "(3999, 57)"
       ]
      },
      {
       "output_type": "stream",
       "stream": "stdout",
       "text": [
        "\n",
        "(3999, 19)\n",
        "rkt"
       ]
      },
      {
       "output_type": "stream",
       "stream": "stdout",
       "text": [
        " (3996, 19) (3996, 57)\n",
        "(3999, 57)"
       ]
      },
      {
       "output_type": "stream",
       "stream": "stdout",
       "text": [
        "\n",
        "(3999, 19)\n",
        "rkt"
       ]
      },
      {
       "output_type": "stream",
       "stream": "stdout",
       "text": [
        " (3996, 19) (3996, 57)\n",
        "(3999, 57)"
       ]
      },
      {
       "output_type": "stream",
       "stream": "stdout",
       "text": [
        "\n",
        "(3999, 19)\n",
        "rkt"
       ]
      },
      {
       "output_type": "stream",
       "stream": "stdout",
       "text": [
        " (3996, 19) (3996, 57)\n",
        "(3999, 57)"
       ]
      },
      {
       "output_type": "stream",
       "stream": "stdout",
       "text": [
        "\n",
        "(3999, 19)\n",
        "rkt"
       ]
      },
      {
       "output_type": "stream",
       "stream": "stdout",
       "text": [
        " (3996, 19) (3996, 57)\n",
        "(3999, 57)"
       ]
      },
      {
       "output_type": "stream",
       "stream": "stdout",
       "text": [
        "\n",
        "(3999, 19)\n",
        "rkt"
       ]
      },
      {
       "output_type": "stream",
       "stream": "stdout",
       "text": [
        " (3996, 19) (3996, 57)\n",
        "(3999, 57)"
       ]
      },
      {
       "output_type": "stream",
       "stream": "stdout",
       "text": [
        "\n",
        "(3999, 19)\n",
        "rkt"
       ]
      },
      {
       "output_type": "stream",
       "stream": "stdout",
       "text": [
        " (3996, 19) (3996, 57)\n",
        "(3999, 57)"
       ]
      },
      {
       "output_type": "stream",
       "stream": "stdout",
       "text": [
        "\n",
        "(3999, 19)\n",
        "rkt"
       ]
      },
      {
       "output_type": "stream",
       "stream": "stdout",
       "text": [
        " (3996, 19) (3996, 57)\n",
        "(3999, 57)"
       ]
      },
      {
       "output_type": "stream",
       "stream": "stdout",
       "text": [
        "\n",
        "(3999, 19)\n",
        "rkt"
       ]
      },
      {
       "output_type": "stream",
       "stream": "stdout",
       "text": [
        " (3996, 19) (3996, 57)\n",
        "(3999, 57)"
       ]
      },
      {
       "output_type": "stream",
       "stream": "stdout",
       "text": [
        "\n",
        "(3999, 19)\n",
        "rkt"
       ]
      },
      {
       "output_type": "stream",
       "stream": "stdout",
       "text": [
        " (3996, 19) (3996, 57)\n",
        "(3999, 57)"
       ]
      },
      {
       "output_type": "stream",
       "stream": "stdout",
       "text": [
        "\n",
        "(3999, 19)\n",
        "rkt"
       ]
      },
      {
       "output_type": "stream",
       "stream": "stdout",
       "text": [
        " (3996, 19) (3996, 57)\n",
        "(3999, 57)"
       ]
      },
      {
       "output_type": "stream",
       "stream": "stdout",
       "text": [
        "\n",
        "(3999, 19)\n",
        "rkt"
       ]
      },
      {
       "output_type": "stream",
       "stream": "stdout",
       "text": [
        " (3996, 19) (3996, 57)\n",
        "(3999, 57)"
       ]
      },
      {
       "output_type": "stream",
       "stream": "stdout",
       "text": [
        "\n",
        "(3999, 19)\n",
        "rkt"
       ]
      },
      {
       "output_type": "stream",
       "stream": "stdout",
       "text": [
        " (3996, 19) (3996, 57)\n",
        "(3999, 57)"
       ]
      },
      {
       "output_type": "stream",
       "stream": "stdout",
       "text": [
        "\n",
        "(3999, 19)\n",
        "rkt"
       ]
      },
      {
       "output_type": "stream",
       "stream": "stdout",
       "text": [
        " (3996, 19) (3996, 57)\n",
        "(3999, 57)"
       ]
      },
      {
       "output_type": "stream",
       "stream": "stdout",
       "text": [
        "\n",
        "(3999, 19)\n",
        "rkt"
       ]
      },
      {
       "output_type": "stream",
       "stream": "stdout",
       "text": [
        " (3996, 19) (3996, 57)\n",
        "(3999, 57)"
       ]
      },
      {
       "output_type": "stream",
       "stream": "stdout",
       "text": [
        "\n",
        "(3999, 19)\n",
        "rkt"
       ]
      },
      {
       "output_type": "stream",
       "stream": "stdout",
       "text": [
        " (3996, 19) (3996, 57)\n",
        "(3999, 57)"
       ]
      },
      {
       "output_type": "stream",
       "stream": "stdout",
       "text": [
        "\n",
        "(3999, 19)\n",
        "rkt"
       ]
      },
      {
       "output_type": "stream",
       "stream": "stdout",
       "text": [
        " (3996, 19) (3996, 57)\n",
        "(3999, 57)"
       ]
      },
      {
       "output_type": "stream",
       "stream": "stdout",
       "text": [
        "\n",
        "(3999, 19)\n",
        "rkt"
       ]
      },
      {
       "output_type": "stream",
       "stream": "stdout",
       "text": [
        " (3996, 19) (3996, 57)\n",
        "(3999, 57)"
       ]
      },
      {
       "output_type": "stream",
       "stream": "stdout",
       "text": [
        "\n",
        "(3999, 19)\n",
        "rkt"
       ]
      },
      {
       "output_type": "stream",
       "stream": "stdout",
       "text": [
        " (3996, 19) (3996, 57)\n",
        "(3999, 57)"
       ]
      },
      {
       "output_type": "stream",
       "stream": "stdout",
       "text": [
        "\n",
        "(3999, 19)\n",
        "rkt"
       ]
      },
      {
       "output_type": "stream",
       "stream": "stdout",
       "text": [
        " (3996, 19) (3996, 57)\n",
        "(3999, 57)"
       ]
      },
      {
       "output_type": "stream",
       "stream": "stdout",
       "text": [
        "\n",
        "(3999, 19)\n",
        "rkt"
       ]
      },
      {
       "output_type": "stream",
       "stream": "stdout",
       "text": [
        " (3996, 19) (3996, 57)\n",
        "(3999, 57)"
       ]
      },
      {
       "output_type": "stream",
       "stream": "stdout",
       "text": [
        "\n",
        "(3999, 19)\n",
        "rkt"
       ]
      },
      {
       "output_type": "stream",
       "stream": "stdout",
       "text": [
        " (3996, 19) (3996, 57)\n",
        "(3999, 57)"
       ]
      },
      {
       "output_type": "stream",
       "stream": "stdout",
       "text": [
        "\n",
        "(3999, 19)\n",
        "rkt"
       ]
      },
      {
       "output_type": "stream",
       "stream": "stdout",
       "text": [
        " (3996, 19) (3996, 57)\n",
        "(3999, 57)"
       ]
      },
      {
       "output_type": "stream",
       "stream": "stdout",
       "text": [
        "\n",
        "(3999, 19)\n",
        "rkt"
       ]
      },
      {
       "output_type": "stream",
       "stream": "stdout",
       "text": [
        " (3996, 19) (3996, 57)\n",
        "(3999, 57)"
       ]
      },
      {
       "output_type": "stream",
       "stream": "stdout",
       "text": [
        "\n",
        "(3999, 19)\n",
        "rkt"
       ]
      },
      {
       "output_type": "stream",
       "stream": "stdout",
       "text": [
        " (3996, 19) (3996, 57)\n",
        "(3999, 57)"
       ]
      },
      {
       "output_type": "stream",
       "stream": "stdout",
       "text": [
        "\n",
        "(3999, 19)\n",
        "rkt"
       ]
      },
      {
       "output_type": "stream",
       "stream": "stdout",
       "text": [
        " (3996, 19) (3996, 57)\n",
        "(3999, 57)"
       ]
      },
      {
       "output_type": "stream",
       "stream": "stdout",
       "text": [
        "\n",
        "(3999, 19)\n",
        "rkt"
       ]
      },
      {
       "output_type": "stream",
       "stream": "stdout",
       "text": [
        " (3996, 19) (3996, 57)\n",
        "(3999, 57)"
       ]
      },
      {
       "output_type": "stream",
       "stream": "stdout",
       "text": [
        "\n",
        "(3999, 19)\n",
        "rkt"
       ]
      },
      {
       "output_type": "stream",
       "stream": "stdout",
       "text": [
        " (3996, 19) (3996, 57)\n",
        "(3999, 57)"
       ]
      },
      {
       "output_type": "stream",
       "stream": "stdout",
       "text": [
        "\n",
        "(3999, 19)\n",
        "rkt"
       ]
      },
      {
       "output_type": "stream",
       "stream": "stdout",
       "text": [
        " (3996, 19) (3996, 57)\n",
        "(3999, 57)"
       ]
      },
      {
       "output_type": "stream",
       "stream": "stdout",
       "text": [
        "\n",
        "(3999, 19)\n",
        "rkt"
       ]
      },
      {
       "output_type": "stream",
       "stream": "stdout",
       "text": [
        " (3996, 19) (3996, 57)\n",
        "(3999, 57)"
       ]
      },
      {
       "output_type": "stream",
       "stream": "stdout",
       "text": [
        "\n",
        "(3999, 19)\n",
        "rkt"
       ]
      },
      {
       "output_type": "stream",
       "stream": "stdout",
       "text": [
        " (3996, 19) (3996, 57)\n",
        "(3999, 57)"
       ]
      },
      {
       "output_type": "stream",
       "stream": "stdout",
       "text": [
        "\n",
        "(3999, 19)\n",
        "rkt"
       ]
      },
      {
       "output_type": "stream",
       "stream": "stdout",
       "text": [
        " (3996, 19) (3996, 57)\n",
        "(3999, 57)"
       ]
      },
      {
       "output_type": "stream",
       "stream": "stdout",
       "text": [
        "\n",
        "(3999, 19)\n",
        "rkt"
       ]
      },
      {
       "output_type": "stream",
       "stream": "stdout",
       "text": [
        " (3996, 19) (3996, 57)\n",
        "(3999, 57)"
       ]
      },
      {
       "output_type": "stream",
       "stream": "stdout",
       "text": [
        "\n",
        "(3999, 19)\n",
        "rkt"
       ]
      },
      {
       "output_type": "stream",
       "stream": "stdout",
       "text": [
        " (3996, 19) (3996, 57)\n",
        "(3999, 57)"
       ]
      },
      {
       "output_type": "stream",
       "stream": "stdout",
       "text": [
        "\n",
        "(3999, 19)\n",
        "rkt"
       ]
      },
      {
       "output_type": "stream",
       "stream": "stdout",
       "text": [
        " (3996, 19) (3996, 57)\n",
        "(3999, 57)"
       ]
      },
      {
       "output_type": "stream",
       "stream": "stdout",
       "text": [
        "\n",
        "(3999, 19)\n",
        "rkt"
       ]
      },
      {
       "output_type": "stream",
       "stream": "stdout",
       "text": [
        " (3996, 19) (3996, 57)\n",
        "(3999, 57)"
       ]
      },
      {
       "output_type": "stream",
       "stream": "stdout",
       "text": [
        "\n",
        "(3999, 19)\n",
        "rkt"
       ]
      },
      {
       "output_type": "stream",
       "stream": "stdout",
       "text": [
        " (3996, 19) (3996, 57)\n",
        "(3999, 57)"
       ]
      },
      {
       "output_type": "stream",
       "stream": "stdout",
       "text": [
        "\n",
        "(3999, 19)\n",
        "rkt"
       ]
      },
      {
       "output_type": "stream",
       "stream": "stdout",
       "text": [
        " (3996, 19) (3996, 57)\n",
        "(3999, 57)"
       ]
      },
      {
       "output_type": "stream",
       "stream": "stdout",
       "text": [
        "\n",
        "(3999, 19)\n",
        "rkt"
       ]
      },
      {
       "output_type": "stream",
       "stream": "stdout",
       "text": [
        " (3996, 19) (3996, 57)\n",
        "(3999, 57)"
       ]
      },
      {
       "output_type": "stream",
       "stream": "stdout",
       "text": [
        "\n",
        "(3999, 19)\n",
        "rkt"
       ]
      },
      {
       "output_type": "stream",
       "stream": "stdout",
       "text": [
        " (3996, 19) (3996, 57)\n",
        "(3999, 57)"
       ]
      },
      {
       "output_type": "stream",
       "stream": "stdout",
       "text": [
        "\n",
        "(3999, 19)\n",
        "rkt"
       ]
      },
      {
       "output_type": "stream",
       "stream": "stdout",
       "text": [
        " (3996, 19) (3996, 57)\n",
        "(3999, 57)"
       ]
      },
      {
       "output_type": "stream",
       "stream": "stdout",
       "text": [
        "\n",
        "(3999, 19)\n",
        "rkt"
       ]
      },
      {
       "output_type": "stream",
       "stream": "stdout",
       "text": [
        " (3996, 19) (3996, 57)\n",
        "(3999, 57)"
       ]
      },
      {
       "output_type": "stream",
       "stream": "stdout",
       "text": [
        "\n",
        "(3999, 19)\n",
        "rkt"
       ]
      },
      {
       "output_type": "stream",
       "stream": "stdout",
       "text": [
        " (3996, 19) (3996, 57)\n",
        "(3999, 57)"
       ]
      },
      {
       "output_type": "stream",
       "stream": "stdout",
       "text": [
        "\n",
        "(3999, 19)\n",
        "rkt"
       ]
      },
      {
       "output_type": "stream",
       "stream": "stdout",
       "text": [
        " (3996, 19) (3996, 57)\n",
        "(3999, 57)"
       ]
      },
      {
       "output_type": "stream",
       "stream": "stdout",
       "text": [
        "\n",
        "(3999, 19)\n",
        "rkt"
       ]
      },
      {
       "output_type": "stream",
       "stream": "stdout",
       "text": [
        " (3996, 19) (3996, 57)\n",
        "(3999, 57)"
       ]
      },
      {
       "output_type": "stream",
       "stream": "stdout",
       "text": [
        "\n",
        "(3999, 19)\n",
        "rkt"
       ]
      },
      {
       "output_type": "stream",
       "stream": "stdout",
       "text": [
        " (3996, 19) (3996, 57)\n",
        "(3999, 57)"
       ]
      },
      {
       "output_type": "stream",
       "stream": "stdout",
       "text": [
        "\n",
        "(3999, 19)\n",
        "rkt"
       ]
      },
      {
       "output_type": "stream",
       "stream": "stdout",
       "text": [
        " (3996, 19) (3996, 57)\n",
        "(3999, 57)"
       ]
      },
      {
       "output_type": "stream",
       "stream": "stdout",
       "text": [
        "\n",
        "(3999, 19)\n",
        "rkt"
       ]
      },
      {
       "output_type": "stream",
       "stream": "stdout",
       "text": [
        " (3996, 19) (3996, 57)\n",
        "(3999, 57)"
       ]
      },
      {
       "output_type": "stream",
       "stream": "stdout",
       "text": [
        "\n",
        "(3999, 19)\n",
        "rkt"
       ]
      },
      {
       "output_type": "stream",
       "stream": "stdout",
       "text": [
        " (3996, 19) (3996, 57)\n",
        "(3999, 57)"
       ]
      },
      {
       "output_type": "stream",
       "stream": "stdout",
       "text": [
        "\n",
        "(3999, 19)\n",
        "rkt"
       ]
      },
      {
       "output_type": "stream",
       "stream": "stdout",
       "text": [
        " (3996, 19) (3996, 57)\n",
        "(3999, 57)"
       ]
      },
      {
       "output_type": "stream",
       "stream": "stdout",
       "text": [
        "\n",
        "(3999, 19)\n",
        "rkt"
       ]
      },
      {
       "output_type": "stream",
       "stream": "stdout",
       "text": [
        " (3996, 19) (3996, 57)\n",
        "(3999, 57)"
       ]
      },
      {
       "output_type": "stream",
       "stream": "stdout",
       "text": [
        "\n",
        "(3999, 19)\n",
        "rkt"
       ]
      },
      {
       "output_type": "stream",
       "stream": "stdout",
       "text": [
        " (3996, 19) (3996, 57)\n",
        "(3999, 57)"
       ]
      },
      {
       "output_type": "stream",
       "stream": "stdout",
       "text": [
        "\n",
        "(3999, 19)\n",
        "rkt"
       ]
      },
      {
       "output_type": "stream",
       "stream": "stdout",
       "text": [
        " (3996, 19) (3996, 57)\n",
        "(3999, 57)"
       ]
      },
      {
       "output_type": "stream",
       "stream": "stdout",
       "text": [
        "\n",
        "(3999, 19)\n",
        "rkt"
       ]
      },
      {
       "output_type": "stream",
       "stream": "stdout",
       "text": [
        " (3996, 19) (3996, 57)\n",
        "(3999, 57)"
       ]
      },
      {
       "output_type": "stream",
       "stream": "stdout",
       "text": [
        "\n",
        "(3999, 19)\n",
        "rkt"
       ]
      },
      {
       "output_type": "stream",
       "stream": "stdout",
       "text": [
        " (3996, 19) (3996, 57)\n",
        "(3999, 57)"
       ]
      },
      {
       "output_type": "stream",
       "stream": "stdout",
       "text": [
        "\n",
        "(3999, 19)\n",
        "rkt"
       ]
      },
      {
       "output_type": "stream",
       "stream": "stdout",
       "text": [
        " (3996, 19) (3996, 57)\n",
        "(3999, 57)"
       ]
      },
      {
       "output_type": "stream",
       "stream": "stdout",
       "text": [
        "\n",
        "(3999, 19)\n",
        "rkt"
       ]
      },
      {
       "output_type": "stream",
       "stream": "stdout",
       "text": [
        " (3996, 19) (3996, 57)\n",
        "(3999, 57)"
       ]
      },
      {
       "output_type": "stream",
       "stream": "stdout",
       "text": [
        "\n",
        "(3999, 19)\n",
        "rkt"
       ]
      },
      {
       "output_type": "stream",
       "stream": "stdout",
       "text": [
        " (3996, 19) (3996, 57)\n",
        "(3999, 57)"
       ]
      },
      {
       "output_type": "stream",
       "stream": "stdout",
       "text": [
        "\n",
        "(3999, 19)\n",
        "rkt"
       ]
      },
      {
       "output_type": "stream",
       "stream": "stdout",
       "text": [
        " (3996, 19) (3996, 57)\n",
        "(3999, 57)"
       ]
      },
      {
       "output_type": "stream",
       "stream": "stdout",
       "text": [
        "\n",
        "(3999, 19)\n",
        "rkt"
       ]
      },
      {
       "output_type": "stream",
       "stream": "stdout",
       "text": [
        " (3996, 19) (3996, 57)\n",
        "(3999, 57)"
       ]
      },
      {
       "output_type": "stream",
       "stream": "stdout",
       "text": [
        "\n",
        "(3999, 19)\n",
        "rkt"
       ]
      },
      {
       "output_type": "stream",
       "stream": "stdout",
       "text": [
        " (3996, 19) (3996, 57)\n",
        "(3999, 57)"
       ]
      },
      {
       "output_type": "stream",
       "stream": "stdout",
       "text": [
        "\n",
        "(3999, 19)\n",
        "rkt"
       ]
      },
      {
       "output_type": "stream",
       "stream": "stdout",
       "text": [
        " (3996, 19) (3996, 57)\n",
        "(3999, 57)"
       ]
      },
      {
       "output_type": "stream",
       "stream": "stdout",
       "text": [
        "\n",
        "(3999, 19)\n",
        "rkt"
       ]
      },
      {
       "output_type": "stream",
       "stream": "stdout",
       "text": [
        " (3996, 19) (3996, 57)\n",
        "(3999, 57)"
       ]
      },
      {
       "output_type": "stream",
       "stream": "stdout",
       "text": [
        "\n",
        "(3999, 19)\n",
        "rkt"
       ]
      },
      {
       "output_type": "stream",
       "stream": "stdout",
       "text": [
        " (3996, 19) (3996, 57)\n",
        "(3999, 57)"
       ]
      },
      {
       "output_type": "stream",
       "stream": "stdout",
       "text": [
        "\n",
        "(3999, 19)\n",
        "rkt"
       ]
      },
      {
       "output_type": "stream",
       "stream": "stdout",
       "text": [
        " (3996, 19) (3996, 57)\n",
        "(3999, 57)"
       ]
      },
      {
       "output_type": "stream",
       "stream": "stdout",
       "text": [
        "\n",
        "(3999, 19)\n",
        "rkt"
       ]
      },
      {
       "output_type": "stream",
       "stream": "stdout",
       "text": [
        " (3996, 19) (3996, 57)\n",
        "(3999, 57)"
       ]
      },
      {
       "output_type": "stream",
       "stream": "stdout",
       "text": [
        "\n",
        "(3999, 19)\n",
        "rkt"
       ]
      },
      {
       "output_type": "stream",
       "stream": "stdout",
       "text": [
        " (3996, 19) (3996, 57)\n",
        "(3999, 57)"
       ]
      },
      {
       "output_type": "stream",
       "stream": "stdout",
       "text": [
        "\n",
        "(3999, 19)\n",
        "rkt"
       ]
      },
      {
       "output_type": "stream",
       "stream": "stdout",
       "text": [
        " (3996, 19) (3996, 57)\n",
        "(3999, 57)"
       ]
      },
      {
       "output_type": "stream",
       "stream": "stdout",
       "text": [
        "\n",
        "(3999, 19)\n",
        "rkt"
       ]
      },
      {
       "output_type": "stream",
       "stream": "stdout",
       "text": [
        " (3996, 19) (3996, 57)\n",
        "(3999, 57)"
       ]
      },
      {
       "output_type": "stream",
       "stream": "stdout",
       "text": [
        "\n",
        "(3999, 19)\n",
        "rkt"
       ]
      },
      {
       "output_type": "stream",
       "stream": "stdout",
       "text": [
        " (3996, 19) (3996, 57)\n",
        "(3999, 57)"
       ]
      },
      {
       "output_type": "stream",
       "stream": "stdout",
       "text": [
        "\n",
        "(3999, 19)\n",
        "rkt"
       ]
      },
      {
       "output_type": "stream",
       "stream": "stdout",
       "text": [
        " (3996, 19) (3996, 57)\n",
        "(3999, 57)"
       ]
      },
      {
       "output_type": "stream",
       "stream": "stdout",
       "text": [
        "\n",
        "(3999, 19)\n",
        "rkt"
       ]
      },
      {
       "output_type": "stream",
       "stream": "stdout",
       "text": [
        " (3996, 19) (3996, 57)\n",
        "(3999, 57)"
       ]
      },
      {
       "output_type": "stream",
       "stream": "stdout",
       "text": [
        "\n",
        "(3999, 19)\n",
        "rkt"
       ]
      },
      {
       "output_type": "stream",
       "stream": "stdout",
       "text": [
        " (3996, 19) (3996, 57)\n",
        "(3999, 57)"
       ]
      },
      {
       "output_type": "stream",
       "stream": "stdout",
       "text": [
        "\n",
        "(3999, 19)\n",
        "rkt"
       ]
      },
      {
       "output_type": "stream",
       "stream": "stdout",
       "text": [
        " (3996, 19) (3996, 57)\n",
        "(3999, 57)"
       ]
      },
      {
       "output_type": "stream",
       "stream": "stdout",
       "text": [
        "\n",
        "(3999, 19)\n",
        "rkt"
       ]
      },
      {
       "output_type": "stream",
       "stream": "stdout",
       "text": [
        " (3996, 19) (3996, 57)\n",
        "(3999, 57)"
       ]
      },
      {
       "output_type": "stream",
       "stream": "stdout",
       "text": [
        "\n",
        "(3999, 19)\n",
        "rkt"
       ]
      },
      {
       "output_type": "stream",
       "stream": "stdout",
       "text": [
        " (3996, 19) (3996, 57)\n",
        "(3999, 57)"
       ]
      },
      {
       "output_type": "stream",
       "stream": "stdout",
       "text": [
        "\n",
        "(3999, 19)\n",
        "rkt"
       ]
      },
      {
       "output_type": "stream",
       "stream": "stdout",
       "text": [
        " (3996, 19) (3996, 57)\n",
        "(3999, 57)"
       ]
      },
      {
       "output_type": "stream",
       "stream": "stdout",
       "text": [
        "\n",
        "(3999, 19)\n",
        "rkt"
       ]
      },
      {
       "output_type": "stream",
       "stream": "stdout",
       "text": [
        " (3996, 19) (3996, 57)\n",
        "(3999, 57)"
       ]
      },
      {
       "output_type": "stream",
       "stream": "stdout",
       "text": [
        "\n",
        "(3999, 19)\n",
        "rkt"
       ]
      },
      {
       "output_type": "stream",
       "stream": "stdout",
       "text": [
        " (3996, 19) (3996, 57)\n",
        "(3999, 57)"
       ]
      },
      {
       "output_type": "stream",
       "stream": "stdout",
       "text": [
        "\n",
        "(3999, 19)\n",
        "rkt"
       ]
      },
      {
       "output_type": "stream",
       "stream": "stdout",
       "text": [
        " (3996, 19) (3996, 57)\n",
        "(3999, 57)"
       ]
      },
      {
       "output_type": "stream",
       "stream": "stdout",
       "text": [
        "\n",
        "(3999, 19)\n",
        "rkt"
       ]
      },
      {
       "output_type": "stream",
       "stream": "stdout",
       "text": [
        " (3996, 19) (3996, 57)\n",
        "(3999, 57)"
       ]
      },
      {
       "output_type": "stream",
       "stream": "stdout",
       "text": [
        "\n",
        "(3999, 19)\n",
        "rkt"
       ]
      },
      {
       "output_type": "stream",
       "stream": "stdout",
       "text": [
        " (3996, 19) (3996, 57)\n",
        "(3999, 57)"
       ]
      },
      {
       "output_type": "stream",
       "stream": "stdout",
       "text": [
        "\n",
        "(3999, 19)\n",
        "rkt"
       ]
      },
      {
       "output_type": "stream",
       "stream": "stdout",
       "text": [
        " (3996, 19) (3996, 57)\n",
        "(3999, 57)"
       ]
      },
      {
       "output_type": "stream",
       "stream": "stdout",
       "text": [
        "\n",
        "(3999, 19)\n",
        "rkt"
       ]
      },
      {
       "output_type": "stream",
       "stream": "stdout",
       "text": [
        " (3996, 19) (3996, 57)\n",
        "(3999, 57)"
       ]
      },
      {
       "output_type": "stream",
       "stream": "stdout",
       "text": [
        "\n",
        "(3999, 19)\n",
        "rkt"
       ]
      },
      {
       "output_type": "stream",
       "stream": "stdout",
       "text": [
        " (3996, 19) (3996, 57)\n",
        "(3999, 57)"
       ]
      },
      {
       "output_type": "stream",
       "stream": "stdout",
       "text": [
        "\n",
        "(3999, 19)\n",
        "rkt"
       ]
      },
      {
       "output_type": "stream",
       "stream": "stdout",
       "text": [
        " (3996, 19) (3996, 57)\n",
        "(3999, 57)"
       ]
      },
      {
       "output_type": "stream",
       "stream": "stdout",
       "text": [
        "\n",
        "(3999, 19)\n",
        "rkt"
       ]
      },
      {
       "output_type": "stream",
       "stream": "stdout",
       "text": [
        " (3996, 19) (3996, 57)\n",
        "(3999, 57)"
       ]
      },
      {
       "output_type": "stream",
       "stream": "stdout",
       "text": [
        "\n",
        "(3999, 19)\n",
        "rkt"
       ]
      },
      {
       "output_type": "stream",
       "stream": "stdout",
       "text": [
        " (3996, 19) (3996, 57)\n",
        "(3999, 57)"
       ]
      },
      {
       "output_type": "stream",
       "stream": "stdout",
       "text": [
        "\n",
        "(3999, 19)\n",
        "rkt"
       ]
      },
      {
       "output_type": "stream",
       "stream": "stdout",
       "text": [
        " (3996, 19) (3996, 57)\n",
        "(3999, 57)"
       ]
      },
      {
       "output_type": "stream",
       "stream": "stdout",
       "text": [
        "\n",
        "(3999, 19)\n",
        "rkt"
       ]
      },
      {
       "output_type": "stream",
       "stream": "stdout",
       "text": [
        " (3996, 19) (3996, 57)\n",
        "(3999, 57)"
       ]
      },
      {
       "output_type": "stream",
       "stream": "stdout",
       "text": [
        "\n",
        "(3999, 19)\n",
        "rkt"
       ]
      },
      {
       "output_type": "stream",
       "stream": "stdout",
       "text": [
        " (3996, 19) (3996, 57)\n",
        "(3999, 57)"
       ]
      },
      {
       "output_type": "stream",
       "stream": "stdout",
       "text": [
        "\n",
        "(3999, 19)\n",
        "rkt"
       ]
      },
      {
       "output_type": "stream",
       "stream": "stdout",
       "text": [
        " (3996, 19) (3996, 57)\n",
        "(3999, 57)"
       ]
      },
      {
       "output_type": "stream",
       "stream": "stdout",
       "text": [
        "\n",
        "(3999, 19)\n",
        "rkt"
       ]
      },
      {
       "output_type": "stream",
       "stream": "stdout",
       "text": [
        " (3996, 19) (3996, 57)\n",
        "(3999, 57)"
       ]
      },
      {
       "output_type": "stream",
       "stream": "stdout",
       "text": [
        "\n",
        "(3999, 19)\n",
        "rkt"
       ]
      },
      {
       "output_type": "stream",
       "stream": "stdout",
       "text": [
        " (3996, 19) (3996, 57)\n",
        "(3999, 57)"
       ]
      },
      {
       "output_type": "stream",
       "stream": "stdout",
       "text": [
        "\n",
        "(3999, 19)\n",
        "rkt"
       ]
      },
      {
       "output_type": "stream",
       "stream": "stdout",
       "text": [
        " (3996, 19) (3996, 57)\n",
        "(3999, 57)"
       ]
      },
      {
       "output_type": "stream",
       "stream": "stdout",
       "text": [
        "\n",
        "(3999, 19)\n",
        "rkt"
       ]
      },
      {
       "output_type": "stream",
       "stream": "stdout",
       "text": [
        " (3996, 19) (3996, 57)\n",
        "(3999, 57)"
       ]
      },
      {
       "output_type": "stream",
       "stream": "stdout",
       "text": [
        "\n",
        "(3999, 19)\n",
        "rkt"
       ]
      },
      {
       "output_type": "stream",
       "stream": "stdout",
       "text": [
        " (3996, 19) (3996, 57)\n",
        "(3999, 57)"
       ]
      },
      {
       "output_type": "stream",
       "stream": "stdout",
       "text": [
        "\n",
        "(3999, 19)\n",
        "rkt"
       ]
      },
      {
       "output_type": "stream",
       "stream": "stdout",
       "text": [
        " (3996, 19) (3996, 57)\n",
        "(3999, 57)"
       ]
      },
      {
       "output_type": "stream",
       "stream": "stdout",
       "text": [
        "\n",
        "(3999, 19)\n",
        "rkt"
       ]
      },
      {
       "output_type": "stream",
       "stream": "stdout",
       "text": [
        " (3996, 19) (3996, 57)\n",
        "(3999, 57)"
       ]
      },
      {
       "output_type": "stream",
       "stream": "stdout",
       "text": [
        "\n",
        "(3999, 19)\n",
        "rkt"
       ]
      },
      {
       "output_type": "stream",
       "stream": "stdout",
       "text": [
        " (3996, 19) (3996, 57)\n",
        "(3999, 57)"
       ]
      },
      {
       "output_type": "stream",
       "stream": "stdout",
       "text": [
        "\n",
        "(3999, 19)\n",
        "rkt"
       ]
      },
      {
       "output_type": "stream",
       "stream": "stdout",
       "text": [
        " (3996, 19) (3996, 57)\n",
        "(3999, 57)"
       ]
      },
      {
       "output_type": "stream",
       "stream": "stdout",
       "text": [
        "\n",
        "(3999, 19)\n",
        "rkt"
       ]
      },
      {
       "output_type": "stream",
       "stream": "stdout",
       "text": [
        " (3996, 19) (3996, 57)\n",
        "(3999, 57)"
       ]
      },
      {
       "output_type": "stream",
       "stream": "stdout",
       "text": [
        "\n",
        "(3999, 19)\n",
        "rkt"
       ]
      },
      {
       "output_type": "stream",
       "stream": "stdout",
       "text": [
        " (3996, 19) (3996, 57)\n",
        "(3999, 57)"
       ]
      },
      {
       "output_type": "stream",
       "stream": "stdout",
       "text": [
        "\n",
        "(3999, 19)\n",
        "rkt"
       ]
      },
      {
       "output_type": "stream",
       "stream": "stdout",
       "text": [
        " (3996, 19) (3996, 57)\n",
        "(3999, 57)"
       ]
      },
      {
       "output_type": "stream",
       "stream": "stdout",
       "text": [
        "\n",
        "(3999, 19)\n",
        "rkt"
       ]
      },
      {
       "output_type": "stream",
       "stream": "stdout",
       "text": [
        " (3996, 19) (3996, 57)\n",
        "(3999, 57)"
       ]
      },
      {
       "output_type": "stream",
       "stream": "stdout",
       "text": [
        "\n",
        "(3999, 19)\n",
        "rkt"
       ]
      },
      {
       "output_type": "stream",
       "stream": "stdout",
       "text": [
        " (3996, 19) (3996, 57)\n",
        "(3999, 57)"
       ]
      },
      {
       "output_type": "stream",
       "stream": "stdout",
       "text": [
        "\n",
        "(3999, 19)\n",
        "rkt"
       ]
      },
      {
       "output_type": "stream",
       "stream": "stdout",
       "text": [
        " (3996, 19) (3996, 57)\n",
        "(3999, 57)"
       ]
      },
      {
       "output_type": "stream",
       "stream": "stdout",
       "text": [
        "\n",
        "(3999, 19)\n",
        "rkt"
       ]
      },
      {
       "output_type": "stream",
       "stream": "stdout",
       "text": [
        " (3996, 19) (3996, 57)\n",
        "(3999, 57)"
       ]
      },
      {
       "output_type": "stream",
       "stream": "stdout",
       "text": [
        "\n",
        "(3999, 19)\n",
        "rkt"
       ]
      },
      {
       "output_type": "stream",
       "stream": "stdout",
       "text": [
        " (3996, 19) (3996, 57)\n",
        "(3999, 57)"
       ]
      },
      {
       "output_type": "stream",
       "stream": "stdout",
       "text": [
        "\n",
        "(3999, 19)\n",
        "rkt"
       ]
      },
      {
       "output_type": "stream",
       "stream": "stdout",
       "text": [
        " (3996, 19) (3996, 57)\n",
        "(3999, 57)"
       ]
      },
      {
       "output_type": "stream",
       "stream": "stdout",
       "text": [
        "\n",
        "(3999, 19)\n",
        "rkt"
       ]
      },
      {
       "output_type": "stream",
       "stream": "stdout",
       "text": [
        " (3996, 19) (3996, 57)\n",
        "(3999, 57)"
       ]
      },
      {
       "output_type": "stream",
       "stream": "stdout",
       "text": [
        "\n",
        "(3999, 19)\n",
        "rkt"
       ]
      },
      {
       "output_type": "stream",
       "stream": "stdout",
       "text": [
        " (3996, 19) (3996, 57)\n",
        "(3999, 57)"
       ]
      },
      {
       "output_type": "stream",
       "stream": "stdout",
       "text": [
        "\n",
        "(3999, 19)\n",
        "rkt"
       ]
      },
      {
       "output_type": "stream",
       "stream": "stdout",
       "text": [
        " (3996, 19) (3996, 57)\n",
        "(3999, 57)"
       ]
      },
      {
       "output_type": "stream",
       "stream": "stdout",
       "text": [
        "\n",
        "(3999, 19)\n",
        "rkt"
       ]
      },
      {
       "output_type": "stream",
       "stream": "stdout",
       "text": [
        " (3996, 19) (3996, 57)\n",
        "(3999, 57)"
       ]
      },
      {
       "output_type": "stream",
       "stream": "stdout",
       "text": [
        "\n",
        "(3999, 19)\n",
        "rkt"
       ]
      },
      {
       "output_type": "stream",
       "stream": "stdout",
       "text": [
        " (3996, 19) (3996, 57)\n",
        "(3999, 57)"
       ]
      },
      {
       "output_type": "stream",
       "stream": "stdout",
       "text": [
        "\n",
        "(3999, 19)\n",
        "rkt"
       ]
      },
      {
       "output_type": "stream",
       "stream": "stdout",
       "text": [
        " (3996, 19) (3996, 57)\n",
        "(3999, 57)"
       ]
      },
      {
       "output_type": "stream",
       "stream": "stdout",
       "text": [
        "\n",
        "(3999, 19)\n",
        "rkt"
       ]
      },
      {
       "output_type": "stream",
       "stream": "stdout",
       "text": [
        " (3996, 19) (3996, 57)\n",
        "(3999, 57)"
       ]
      },
      {
       "output_type": "stream",
       "stream": "stdout",
       "text": [
        "\n",
        "(3999, 19)\n",
        "rkt"
       ]
      },
      {
       "output_type": "stream",
       "stream": "stdout",
       "text": [
        " (3996, 19) (3996, 57)\n",
        "(3999, 57)"
       ]
      },
      {
       "output_type": "stream",
       "stream": "stdout",
       "text": [
        "\n",
        "(3999, 19)\n",
        "rkt"
       ]
      },
      {
       "output_type": "stream",
       "stream": "stdout",
       "text": [
        " (3996, 19) (3996, 57)\n",
        "(3999, 57)"
       ]
      },
      {
       "output_type": "stream",
       "stream": "stdout",
       "text": [
        "\n",
        "(3999, 19)\n",
        "rkt"
       ]
      },
      {
       "output_type": "stream",
       "stream": "stdout",
       "text": [
        " (3996, 19) (3996, 57)\n",
        "(3999, 57)"
       ]
      },
      {
       "output_type": "stream",
       "stream": "stdout",
       "text": [
        "\n",
        "(3999, 19)\n",
        "rkt"
       ]
      },
      {
       "output_type": "stream",
       "stream": "stdout",
       "text": [
        " (3996, 19) (3996, 57)\n",
        "(3999, 57)"
       ]
      },
      {
       "output_type": "stream",
       "stream": "stdout",
       "text": [
        "\n",
        "(3999, 19)\n",
        "rkt"
       ]
      },
      {
       "output_type": "stream",
       "stream": "stdout",
       "text": [
        " (3996, 19) (3996, 57)\n",
        "(3999, 57)"
       ]
      },
      {
       "output_type": "stream",
       "stream": "stdout",
       "text": [
        "\n",
        "(3999, 19)\n",
        "rkt"
       ]
      },
      {
       "output_type": "stream",
       "stream": "stdout",
       "text": [
        " (3996, 19) (3996, 57)\n",
        "(3999, 57)"
       ]
      },
      {
       "output_type": "stream",
       "stream": "stdout",
       "text": [
        "\n",
        "(3999, 19)\n",
        "rkt"
       ]
      },
      {
       "output_type": "stream",
       "stream": "stdout",
       "text": [
        " (3996, 19) (3996, 57)\n",
        "(3999, 57)"
       ]
      },
      {
       "output_type": "stream",
       "stream": "stdout",
       "text": [
        "\n",
        "(3999, 19)\n",
        "rkt"
       ]
      },
      {
       "output_type": "stream",
       "stream": "stdout",
       "text": [
        " (3996, 19) (3996, 57)\n",
        "(3999, 57)"
       ]
      },
      {
       "output_type": "stream",
       "stream": "stdout",
       "text": [
        "\n",
        "(3999, 19)\n",
        "rkt"
       ]
      },
      {
       "output_type": "stream",
       "stream": "stdout",
       "text": [
        " (3996, 19) (3996, 57)\n",
        "(3999, 57)"
       ]
      },
      {
       "output_type": "stream",
       "stream": "stdout",
       "text": [
        "\n",
        "(3999, 19)\n",
        "rkt"
       ]
      },
      {
       "output_type": "stream",
       "stream": "stdout",
       "text": [
        " (3996, 19) (3996, 57)\n",
        "(3999, 57)"
       ]
      },
      {
       "output_type": "stream",
       "stream": "stdout",
       "text": [
        "\n",
        "(3999, 19)\n",
        "rkt"
       ]
      },
      {
       "output_type": "stream",
       "stream": "stdout",
       "text": [
        " (3996, 19) (3996, 57)\n",
        "(3999, 57)"
       ]
      },
      {
       "output_type": "stream",
       "stream": "stdout",
       "text": [
        "\n",
        "(3999, 19)\n",
        "rkt"
       ]
      },
      {
       "output_type": "stream",
       "stream": "stdout",
       "text": [
        " (3996, 19) (3996, 57)\n",
        "(3999, 57)"
       ]
      },
      {
       "output_type": "stream",
       "stream": "stdout",
       "text": [
        "\n",
        "(3999, 19)\n",
        "rkt"
       ]
      },
      {
       "output_type": "stream",
       "stream": "stdout",
       "text": [
        " (3996, 19) (3996, 57)\n",
        "(3999, 57)"
       ]
      },
      {
       "output_type": "stream",
       "stream": "stdout",
       "text": [
        "\n",
        "(3999, 19)\n",
        "rkt"
       ]
      },
      {
       "output_type": "stream",
       "stream": "stdout",
       "text": [
        " (3996, 19) (3996, 57)\n",
        "(3999, 57)"
       ]
      },
      {
       "output_type": "stream",
       "stream": "stdout",
       "text": [
        "\n",
        "(3999, 19)\n",
        "rkt"
       ]
      },
      {
       "output_type": "stream",
       "stream": "stdout",
       "text": [
        " (3996, 19) (3996, 57)\n",
        "(3999, 57)"
       ]
      },
      {
       "output_type": "stream",
       "stream": "stdout",
       "text": [
        "\n",
        "(3999, 19)\n",
        "rkt"
       ]
      },
      {
       "output_type": "stream",
       "stream": "stdout",
       "text": [
        " (3996, 19) (3996, 57)\n",
        "(3999, 57)"
       ]
      },
      {
       "output_type": "stream",
       "stream": "stdout",
       "text": [
        "\n",
        "(3999, 19)\n",
        "rkt"
       ]
      },
      {
       "output_type": "stream",
       "stream": "stdout",
       "text": [
        " (3996, 19) (3996, 57)\n",
        "(3999, 57)"
       ]
      },
      {
       "output_type": "stream",
       "stream": "stdout",
       "text": [
        "\n",
        "(3999, 19)\n",
        "rkt"
       ]
      },
      {
       "output_type": "stream",
       "stream": "stdout",
       "text": [
        " (3996, 19) (3996, 57)\n",
        "(3999, 57)"
       ]
      },
      {
       "output_type": "stream",
       "stream": "stdout",
       "text": [
        "\n",
        "(3999, 19)\n",
        "rkt"
       ]
      },
      {
       "output_type": "stream",
       "stream": "stdout",
       "text": [
        " (3996, 19) (3996, 57)\n",
        "(3999, 57)"
       ]
      },
      {
       "output_type": "stream",
       "stream": "stdout",
       "text": [
        "\n",
        "(3999, 19)\n",
        "rkt"
       ]
      },
      {
       "output_type": "stream",
       "stream": "stdout",
       "text": [
        " (3996, 19) (3996, 57)\n",
        "(3999, 57)"
       ]
      },
      {
       "output_type": "stream",
       "stream": "stdout",
       "text": [
        "\n",
        "(3999, 19)\n",
        "rkt"
       ]
      },
      {
       "output_type": "stream",
       "stream": "stdout",
       "text": [
        " (3996, 19) (3996, 57)\n",
        "(3999, 57)"
       ]
      },
      {
       "output_type": "stream",
       "stream": "stdout",
       "text": [
        "\n",
        "(3999, 19)\n",
        "rkt"
       ]
      },
      {
       "output_type": "stream",
       "stream": "stdout",
       "text": [
        " (3996, 19) (3996, 57)\n",
        "(3999, 57)"
       ]
      },
      {
       "output_type": "stream",
       "stream": "stdout",
       "text": [
        "\n",
        "(3999, 19)\n",
        "rkt"
       ]
      },
      {
       "output_type": "stream",
       "stream": "stdout",
       "text": [
        " (3996, 19) (3996, 57)\n",
        "(3999, 57)"
       ]
      },
      {
       "output_type": "stream",
       "stream": "stdout",
       "text": [
        "\n",
        "(3999, 19)\n",
        "rkt"
       ]
      },
      {
       "output_type": "stream",
       "stream": "stdout",
       "text": [
        " (3996, 19) (3996, 57)\n",
        "(3999, 57)"
       ]
      },
      {
       "output_type": "stream",
       "stream": "stdout",
       "text": [
        "\n",
        "(3999, 19)\n",
        "rkt"
       ]
      },
      {
       "output_type": "stream",
       "stream": "stdout",
       "text": [
        " (3996, 19) (3996, 57)\n",
        "(3999, 57)"
       ]
      },
      {
       "output_type": "stream",
       "stream": "stdout",
       "text": [
        "\n",
        "(3999, 19)\n",
        "rkt"
       ]
      },
      {
       "output_type": "stream",
       "stream": "stdout",
       "text": [
        " (3996, 19) (3996, 57)\n",
        "(3999, 57)"
       ]
      },
      {
       "output_type": "stream",
       "stream": "stdout",
       "text": [
        "\n",
        "(3999, 19)\n",
        "rkt"
       ]
      },
      {
       "output_type": "stream",
       "stream": "stdout",
       "text": [
        " (3996, 19) (3996, 57)\n",
        "(3999, 57)"
       ]
      },
      {
       "output_type": "stream",
       "stream": "stdout",
       "text": [
        "\n",
        "(3999, 19)\n",
        "rkt"
       ]
      },
      {
       "output_type": "stream",
       "stream": "stdout",
       "text": [
        " (3996, 19) (3996, 57)\n",
        "(3999, 57)"
       ]
      },
      {
       "output_type": "stream",
       "stream": "stdout",
       "text": [
        "\n",
        "(3999, 19)\n",
        "rkt"
       ]
      },
      {
       "output_type": "stream",
       "stream": "stdout",
       "text": [
        " (3996, 19) (3996, 57)\n",
        "(3999, 57)"
       ]
      },
      {
       "output_type": "stream",
       "stream": "stdout",
       "text": [
        "\n",
        "(3999, 19)\n",
        "rkt"
       ]
      },
      {
       "output_type": "stream",
       "stream": "stdout",
       "text": [
        " (3996, 19) (3996, 57)\n",
        "(3999, 57)"
       ]
      },
      {
       "output_type": "stream",
       "stream": "stdout",
       "text": [
        "\n",
        "(3999, 19)\n",
        "rkt"
       ]
      },
      {
       "output_type": "stream",
       "stream": "stdout",
       "text": [
        " (3996, 19) (3996, 57)\n",
        "(3999, 57)"
       ]
      },
      {
       "output_type": "stream",
       "stream": "stdout",
       "text": [
        "\n",
        "(3999, 19)\n",
        "rkt"
       ]
      },
      {
       "output_type": "stream",
       "stream": "stdout",
       "text": [
        " (3996, 19) (3996, 57)\n",
        "(3999, 57)"
       ]
      },
      {
       "output_type": "stream",
       "stream": "stdout",
       "text": [
        "\n",
        "(3999, 19)\n",
        "rkt"
       ]
      },
      {
       "output_type": "stream",
       "stream": "stdout",
       "text": [
        " (3996, 19) (3996, 57)\n",
        "(3999, 57)"
       ]
      },
      {
       "output_type": "stream",
       "stream": "stdout",
       "text": [
        "\n",
        "(3999, 19)\n",
        "rkt"
       ]
      },
      {
       "output_type": "stream",
       "stream": "stdout",
       "text": [
        " (3996, 19) (3996, 57)\n",
        "(3999, 57)"
       ]
      },
      {
       "output_type": "stream",
       "stream": "stdout",
       "text": [
        "\n",
        "(3999, 19)\n",
        "rkt"
       ]
      },
      {
       "output_type": "stream",
       "stream": "stdout",
       "text": [
        " (3996, 19) (3996, 57)\n",
        "(3999, 57)"
       ]
      },
      {
       "output_type": "stream",
       "stream": "stdout",
       "text": [
        "\n",
        "(3999, 19)\n",
        "rkt"
       ]
      },
      {
       "output_type": "stream",
       "stream": "stdout",
       "text": [
        " (3996, 19) (3996, 57)\n",
        "(3999, 57)"
       ]
      },
      {
       "output_type": "stream",
       "stream": "stdout",
       "text": [
        "\n",
        "(3999, 19)\n",
        "rkt"
       ]
      },
      {
       "output_type": "stream",
       "stream": "stdout",
       "text": [
        " (3996, 19) (3996, 57)\n",
        "(3999, 57)"
       ]
      },
      {
       "output_type": "stream",
       "stream": "stdout",
       "text": [
        "\n",
        "(3999, 19)\n",
        "rkt"
       ]
      },
      {
       "output_type": "stream",
       "stream": "stdout",
       "text": [
        " (3996, 19) (3996, 57)\n",
        "(3999, 57)"
       ]
      },
      {
       "output_type": "stream",
       "stream": "stdout",
       "text": [
        "\n",
        "(3999, 19)\n",
        "rkt"
       ]
      },
      {
       "output_type": "stream",
       "stream": "stdout",
       "text": [
        " (3996, 19) (3996, 57)\n",
        "(3999, 57)"
       ]
      },
      {
       "output_type": "stream",
       "stream": "stdout",
       "text": [
        "\n",
        "(3999, 19)\n",
        "rkt"
       ]
      },
      {
       "output_type": "stream",
       "stream": "stdout",
       "text": [
        " (3996, 19) (3996, 57)\n",
        "(3999, 57)"
       ]
      },
      {
       "output_type": "stream",
       "stream": "stdout",
       "text": [
        "\n",
        "(3999, 19)\n",
        "rkt"
       ]
      },
      {
       "output_type": "stream",
       "stream": "stdout",
       "text": [
        " (3996, 19) (3996, 57)\n",
        "(3999, 57)"
       ]
      },
      {
       "output_type": "stream",
       "stream": "stdout",
       "text": [
        "\n",
        "(3999, 19)\n",
        "rkt"
       ]
      },
      {
       "output_type": "stream",
       "stream": "stdout",
       "text": [
        " (3996, 19) (3996, 57)\n",
        "(3999, 57)"
       ]
      },
      {
       "output_type": "stream",
       "stream": "stdout",
       "text": [
        "\n",
        "(3999, 19)\n",
        "rkt"
       ]
      },
      {
       "output_type": "stream",
       "stream": "stdout",
       "text": [
        " (3996, 19) (3996, 57)\n",
        "(3999, 57)"
       ]
      },
      {
       "output_type": "stream",
       "stream": "stdout",
       "text": [
        "\n",
        "(3999, 19)\n",
        "rkt"
       ]
      },
      {
       "output_type": "stream",
       "stream": "stdout",
       "text": [
        " (3996, 19) (3996, 57)\n",
        "(3999, 57)"
       ]
      },
      {
       "output_type": "stream",
       "stream": "stdout",
       "text": [
        "\n",
        "(3999, 19)\n",
        "rkt"
       ]
      },
      {
       "output_type": "stream",
       "stream": "stdout",
       "text": [
        " (3996, 19) (3996, 57)\n",
        "(3999, 57)"
       ]
      },
      {
       "output_type": "stream",
       "stream": "stdout",
       "text": [
        "\n",
        "(3999, 19)\n",
        "rkt"
       ]
      },
      {
       "output_type": "stream",
       "stream": "stdout",
       "text": [
        " (3996, 19) (3996, 57)\n",
        "(3999, 57)"
       ]
      },
      {
       "output_type": "stream",
       "stream": "stdout",
       "text": [
        "\n",
        "(3999, 19)\n",
        "rkt"
       ]
      },
      {
       "output_type": "stream",
       "stream": "stdout",
       "text": [
        " (3996, 19) (3996, 57)\n",
        "(3999, 57)"
       ]
      },
      {
       "output_type": "stream",
       "stream": "stdout",
       "text": [
        "\n",
        "(3999, 19)\n",
        "rkt"
       ]
      },
      {
       "output_type": "stream",
       "stream": "stdout",
       "text": [
        " (3996, 19) (3996, 57)\n",
        "(3999, 57)"
       ]
      },
      {
       "output_type": "stream",
       "stream": "stdout",
       "text": [
        "\n",
        "(3999, 19)\n",
        "rkt"
       ]
      },
      {
       "output_type": "stream",
       "stream": "stdout",
       "text": [
        " (3996, 19) (3996, 57)\n",
        "(3999, 57)"
       ]
      },
      {
       "output_type": "stream",
       "stream": "stdout",
       "text": [
        "\n",
        "(3999, 19)\n",
        "rkt"
       ]
      },
      {
       "output_type": "stream",
       "stream": "stdout",
       "text": [
        " (3996, 19) (3996, 57)\n",
        "(3999, 57)"
       ]
      },
      {
       "output_type": "stream",
       "stream": "stdout",
       "text": [
        "\n",
        "(3999, 19)\n",
        "rkt"
       ]
      },
      {
       "output_type": "stream",
       "stream": "stdout",
       "text": [
        " (3996, 19) (3996, 57)\n",
        "(3999, 57)"
       ]
      },
      {
       "output_type": "stream",
       "stream": "stdout",
       "text": [
        "\n",
        "(3999, 19)\n",
        "rkt"
       ]
      },
      {
       "output_type": "stream",
       "stream": "stdout",
       "text": [
        " (3996, 19) (3996, 57)\n",
        "(3999, 57)"
       ]
      },
      {
       "output_type": "stream",
       "stream": "stdout",
       "text": [
        "\n",
        "(3999, 19)\n",
        "rkt"
       ]
      },
      {
       "output_type": "stream",
       "stream": "stdout",
       "text": [
        " (3996, 19) (3996, 57)\n",
        "(3999, 57)"
       ]
      },
      {
       "output_type": "stream",
       "stream": "stdout",
       "text": [
        "\n",
        "(3999, 19)\n",
        "rkt"
       ]
      },
      {
       "output_type": "stream",
       "stream": "stdout",
       "text": [
        " (3996, 19) (3996, 57)\n",
        "(3999, 57)"
       ]
      },
      {
       "output_type": "stream",
       "stream": "stdout",
       "text": [
        "\n",
        "(3999, 19)\n",
        "rkt"
       ]
      },
      {
       "output_type": "stream",
       "stream": "stdout",
       "text": [
        " (3996, 19) (3996, 57)\n",
        "(3999, 57)"
       ]
      },
      {
       "output_type": "stream",
       "stream": "stdout",
       "text": [
        "\n",
        "(3999, 19)\n",
        "rkt"
       ]
      },
      {
       "output_type": "stream",
       "stream": "stdout",
       "text": [
        " (3996, 19) (3996, 57)\n",
        "(3999, 57)"
       ]
      },
      {
       "output_type": "stream",
       "stream": "stdout",
       "text": [
        "\n",
        "(3999, 19)\n",
        "rkt"
       ]
      },
      {
       "output_type": "stream",
       "stream": "stdout",
       "text": [
        " (3996, 19) (3996, 57)\n",
        "(3999, 57)"
       ]
      },
      {
       "output_type": "stream",
       "stream": "stdout",
       "text": [
        "\n",
        "(3999, 19)\n",
        "rkt"
       ]
      },
      {
       "output_type": "stream",
       "stream": "stdout",
       "text": [
        " (3996, 19) (3996, 57)\n",
        "(3999, 57)"
       ]
      },
      {
       "output_type": "stream",
       "stream": "stdout",
       "text": [
        "\n",
        "(3999, 19)\n",
        "rkt"
       ]
      },
      {
       "output_type": "stream",
       "stream": "stdout",
       "text": [
        " (3996, 19) (3996, 57)\n",
        "(3999, 57)"
       ]
      },
      {
       "output_type": "stream",
       "stream": "stdout",
       "text": [
        "\n",
        "(3999, 19)\n",
        "rkt"
       ]
      },
      {
       "output_type": "stream",
       "stream": "stdout",
       "text": [
        " (3996, 19) (3996, 57)\n",
        "(3999, 57)"
       ]
      },
      {
       "output_type": "stream",
       "stream": "stdout",
       "text": [
        "\n",
        "(3999, 19)\n",
        "rkt"
       ]
      },
      {
       "output_type": "stream",
       "stream": "stdout",
       "text": [
        " (3996, 19) (3996, 57)\n",
        "(3999, 57)"
       ]
      },
      {
       "output_type": "stream",
       "stream": "stdout",
       "text": [
        "\n",
        "(3999, 19)\n",
        "rkt"
       ]
      },
      {
       "output_type": "stream",
       "stream": "stdout",
       "text": [
        " (3996, 19) (3996, 57)\n",
        "(3999, 57)"
       ]
      },
      {
       "output_type": "stream",
       "stream": "stdout",
       "text": [
        "\n",
        "(3999, 19)\n",
        "rkt"
       ]
      },
      {
       "output_type": "stream",
       "stream": "stdout",
       "text": [
        " (3996, 19) (3996, 57)\n",
        "(3999, 57)"
       ]
      },
      {
       "output_type": "stream",
       "stream": "stdout",
       "text": [
        "\n",
        "(3999, 19)\n",
        "rkt"
       ]
      },
      {
       "output_type": "stream",
       "stream": "stdout",
       "text": [
        " (3996, 19) (3996, 57)\n",
        "(3999, 57)"
       ]
      },
      {
       "output_type": "stream",
       "stream": "stdout",
       "text": [
        "\n",
        "(3999, 19)\n",
        "rkt"
       ]
      },
      {
       "output_type": "stream",
       "stream": "stdout",
       "text": [
        " (3996, 19) (3996, 57)\n",
        "(3999, 57)"
       ]
      },
      {
       "output_type": "stream",
       "stream": "stdout",
       "text": [
        "\n",
        "(3999, 19)\n",
        "rkt"
       ]
      },
      {
       "output_type": "stream",
       "stream": "stdout",
       "text": [
        " (3996, 19) (3996, 57)\n",
        "(3999, 57)"
       ]
      },
      {
       "output_type": "stream",
       "stream": "stdout",
       "text": [
        "\n",
        "(3999, 19)\n",
        "rkt"
       ]
      },
      {
       "output_type": "stream",
       "stream": "stdout",
       "text": [
        " (3996, 19) (3996, 57)\n",
        "(3999, 57)"
       ]
      },
      {
       "output_type": "stream",
       "stream": "stdout",
       "text": [
        "\n",
        "(3999, 19)\n",
        "rkt"
       ]
      },
      {
       "output_type": "stream",
       "stream": "stdout",
       "text": [
        " (3996, 19) (3996, 57)\n",
        "(3999, 57)"
       ]
      },
      {
       "output_type": "stream",
       "stream": "stdout",
       "text": [
        "\n",
        "(3999, 19)\n",
        "rkt"
       ]
      },
      {
       "output_type": "stream",
       "stream": "stdout",
       "text": [
        " (3996, 19) (3996, 57)\n",
        "(3999, 57)"
       ]
      },
      {
       "output_type": "stream",
       "stream": "stdout",
       "text": [
        "\n",
        "(3999, 19)\n",
        "rkt"
       ]
      },
      {
       "output_type": "stream",
       "stream": "stdout",
       "text": [
        " (3996, 19) (3996, 57)\n",
        "(3999, 57)"
       ]
      },
      {
       "output_type": "stream",
       "stream": "stdout",
       "text": [
        "\n",
        "(3999, 19)\n",
        "rkt"
       ]
      },
      {
       "output_type": "stream",
       "stream": "stdout",
       "text": [
        " (3996, 19) (3996, 57)\n",
        "(3999, 57)"
       ]
      },
      {
       "output_type": "stream",
       "stream": "stdout",
       "text": [
        "\n",
        "(3999, 19)\n",
        "rkt"
       ]
      },
      {
       "output_type": "stream",
       "stream": "stdout",
       "text": [
        " (3996, 19) (3996, 57)\n",
        "(3999, 57)"
       ]
      },
      {
       "output_type": "stream",
       "stream": "stdout",
       "text": [
        "\n",
        "(3999, 19)\n",
        "rkt"
       ]
      },
      {
       "output_type": "stream",
       "stream": "stdout",
       "text": [
        " (3996, 19) (3996, 57)\n",
        "(3999, 57)"
       ]
      },
      {
       "output_type": "stream",
       "stream": "stdout",
       "text": [
        "\n",
        "(3999, 19)\n",
        "rkt"
       ]
      },
      {
       "output_type": "stream",
       "stream": "stdout",
       "text": [
        " (3996, 19) (3996, 57)\n",
        "(3999, 57)"
       ]
      },
      {
       "output_type": "stream",
       "stream": "stdout",
       "text": [
        "\n",
        "(3999, 19)\n",
        "rkt"
       ]
      },
      {
       "output_type": "stream",
       "stream": "stdout",
       "text": [
        " (3996, 19) (3996, 57)\n",
        "(3999, 57)"
       ]
      },
      {
       "output_type": "stream",
       "stream": "stdout",
       "text": [
        "\n",
        "(3999, 19)\n",
        "rkt"
       ]
      },
      {
       "output_type": "stream",
       "stream": "stdout",
       "text": [
        " (3996, 19) (3996, 57)\n",
        "(3999, 57)"
       ]
      },
      {
       "output_type": "stream",
       "stream": "stdout",
       "text": [
        "\n",
        "(3999, 19)\n",
        "rkt"
       ]
      },
      {
       "output_type": "stream",
       "stream": "stdout",
       "text": [
        " (3996, 19) (3996, 57)\n",
        "(3999, 57)"
       ]
      },
      {
       "output_type": "stream",
       "stream": "stdout",
       "text": [
        "\n",
        "(3999, 19)\n",
        "rkt"
       ]
      },
      {
       "output_type": "stream",
       "stream": "stdout",
       "text": [
        " (3996, 19) (3996, 57)\n",
        "(3999, 57)"
       ]
      },
      {
       "output_type": "stream",
       "stream": "stdout",
       "text": [
        "\n",
        "(3999, 19)\n",
        "rkt"
       ]
      },
      {
       "output_type": "stream",
       "stream": "stdout",
       "text": [
        " (3996, 19) (3996, 57)\n",
        "(3999, 57)"
       ]
      },
      {
       "output_type": "stream",
       "stream": "stdout",
       "text": [
        "\n",
        "(3999, 19)\n",
        "rkt"
       ]
      },
      {
       "output_type": "stream",
       "stream": "stdout",
       "text": [
        " (3996, 19) (3996, 57)\n",
        "(3999, 57)"
       ]
      },
      {
       "output_type": "stream",
       "stream": "stdout",
       "text": [
        "\n",
        "(3999, 19)\n",
        "rkt"
       ]
      },
      {
       "output_type": "stream",
       "stream": "stdout",
       "text": [
        " (3996, 19) (3996, 57)\n",
        "(3999, 57)"
       ]
      },
      {
       "output_type": "stream",
       "stream": "stdout",
       "text": [
        "\n",
        "(3999, 19)\n",
        "rkt"
       ]
      },
      {
       "output_type": "stream",
       "stream": "stdout",
       "text": [
        " (3996, 19) (3996, 57)\n",
        "(3999, 57)"
       ]
      },
      {
       "output_type": "stream",
       "stream": "stdout",
       "text": [
        "\n",
        "(3999, 19)\n",
        "rkt"
       ]
      },
      {
       "output_type": "stream",
       "stream": "stdout",
       "text": [
        " (3996, 19) (3996, 57)\n",
        "(3999, 57)"
       ]
      },
      {
       "output_type": "stream",
       "stream": "stdout",
       "text": [
        "\n",
        "(3999, 19)\n",
        "rkt"
       ]
      },
      {
       "output_type": "stream",
       "stream": "stdout",
       "text": [
        " (3996, 19) (3996, 57)\n",
        "(3999, 57)"
       ]
      },
      {
       "output_type": "stream",
       "stream": "stdout",
       "text": [
        "\n",
        "(3999, 19)\n",
        "rkt"
       ]
      },
      {
       "output_type": "stream",
       "stream": "stdout",
       "text": [
        " (3996, 19) (3996, 57)\n",
        "(3999, 57)"
       ]
      },
      {
       "output_type": "stream",
       "stream": "stdout",
       "text": [
        "\n",
        "(3999, 19)\n",
        "rkt"
       ]
      },
      {
       "output_type": "stream",
       "stream": "stdout",
       "text": [
        " (3996, 19) (3996, 57)\n",
        "(3999, 57)"
       ]
      },
      {
       "output_type": "stream",
       "stream": "stdout",
       "text": [
        "\n",
        "(3999, 19)\n",
        "rkt"
       ]
      },
      {
       "output_type": "stream",
       "stream": "stdout",
       "text": [
        " (3996, 19) (3996, 57)\n",
        "(3999, 57)"
       ]
      },
      {
       "output_type": "stream",
       "stream": "stdout",
       "text": [
        "\n",
        "(3999, 19)\n",
        "rkt"
       ]
      },
      {
       "output_type": "stream",
       "stream": "stdout",
       "text": [
        " (3996, 19) (3996, 57)\n",
        "(3999, 57)"
       ]
      },
      {
       "output_type": "stream",
       "stream": "stdout",
       "text": [
        "\n",
        "(3999, 19)\n",
        "rkt"
       ]
      },
      {
       "output_type": "stream",
       "stream": "stdout",
       "text": [
        " (3996, 19) (3996, 57)\n",
        "(3999, 57)"
       ]
      },
      {
       "output_type": "stream",
       "stream": "stdout",
       "text": [
        "\n",
        "(3999, 19)\n",
        "rkt"
       ]
      },
      {
       "output_type": "stream",
       "stream": "stdout",
       "text": [
        " (3996, 19) (3996, 57)\n",
        "(3999, 57)"
       ]
      },
      {
       "output_type": "stream",
       "stream": "stdout",
       "text": [
        "\n",
        "(3999, 19)\n",
        "rkt"
       ]
      },
      {
       "output_type": "stream",
       "stream": "stdout",
       "text": [
        " (3996, 19) (3996, 57)\n",
        "(3999, 57)"
       ]
      },
      {
       "output_type": "stream",
       "stream": "stdout",
       "text": [
        "\n",
        "(3999, 19)\n",
        "rkt"
       ]
      },
      {
       "output_type": "stream",
       "stream": "stdout",
       "text": [
        " (3996, 19) (3996, 57)\n",
        "(3999, 57)"
       ]
      },
      {
       "output_type": "stream",
       "stream": "stdout",
       "text": [
        "\n",
        "(3999, 19)\n",
        "rkt"
       ]
      },
      {
       "output_type": "stream",
       "stream": "stdout",
       "text": [
        " (3996, 19) (3996, 57)\n",
        "(3999, 57)"
       ]
      },
      {
       "output_type": "stream",
       "stream": "stdout",
       "text": [
        "\n",
        "(3999, 19)\n",
        "rkt"
       ]
      },
      {
       "output_type": "stream",
       "stream": "stdout",
       "text": [
        " (3996, 19) (3996, 57)\n",
        "(3999, 57)"
       ]
      },
      {
       "output_type": "stream",
       "stream": "stdout",
       "text": [
        "\n",
        "(3999, 19)\n",
        "rkt"
       ]
      },
      {
       "output_type": "stream",
       "stream": "stdout",
       "text": [
        " (3996, 19) (3996, 57)\n",
        "(3999, 57)"
       ]
      },
      {
       "output_type": "stream",
       "stream": "stdout",
       "text": [
        "\n",
        "(3999, 19)\n",
        "rkt"
       ]
      },
      {
       "output_type": "stream",
       "stream": "stdout",
       "text": [
        " (3996, 19) (3996, 57)\n",
        "(3999, 57)"
       ]
      },
      {
       "output_type": "stream",
       "stream": "stdout",
       "text": [
        "\n",
        "(3999, 19)\n",
        "rkt"
       ]
      },
      {
       "output_type": "stream",
       "stream": "stdout",
       "text": [
        " (3996, 19) (3996, 57)\n",
        "(3999, 57)"
       ]
      },
      {
       "output_type": "stream",
       "stream": "stdout",
       "text": [
        "\n",
        "(3999, 19)\n",
        "rkt"
       ]
      },
      {
       "output_type": "stream",
       "stream": "stdout",
       "text": [
        " (3996, 19) (3996, 57)\n",
        "(3999, 57)"
       ]
      },
      {
       "output_type": "stream",
       "stream": "stdout",
       "text": [
        "\n",
        "(3999, 19)\n",
        "rkt"
       ]
      },
      {
       "output_type": "stream",
       "stream": "stdout",
       "text": [
        " (3996, 19) (3996, 57)\n",
        "(3999, 57)"
       ]
      },
      {
       "output_type": "stream",
       "stream": "stdout",
       "text": [
        "\n",
        "(3999, 19)\n",
        "rkt"
       ]
      },
      {
       "output_type": "stream",
       "stream": "stdout",
       "text": [
        " (3996, 19) (3996, 57)\n",
        "(3999, 57)"
       ]
      },
      {
       "output_type": "stream",
       "stream": "stdout",
       "text": [
        "\n",
        "(3999, 19)\n",
        "rkt"
       ]
      },
      {
       "output_type": "stream",
       "stream": "stdout",
       "text": [
        " (3996, 19) (3996, 57)\n",
        "(3999, 57)"
       ]
      },
      {
       "output_type": "stream",
       "stream": "stdout",
       "text": [
        "\n",
        "(3999, 19)\n",
        "rkt"
       ]
      },
      {
       "output_type": "stream",
       "stream": "stdout",
       "text": [
        " (3996, 19) (3996, 57)\n",
        "(3999, 57)"
       ]
      },
      {
       "output_type": "stream",
       "stream": "stdout",
       "text": [
        "\n",
        "(3999, 19)\n",
        "rkt"
       ]
      },
      {
       "output_type": "stream",
       "stream": "stdout",
       "text": [
        " (3996, 19) (3996, 57)\n",
        "(3999, 57)"
       ]
      },
      {
       "output_type": "stream",
       "stream": "stdout",
       "text": [
        "\n",
        "(3999, 19)\n",
        "rkt"
       ]
      },
      {
       "output_type": "stream",
       "stream": "stdout",
       "text": [
        " (3996, 19) (3996, 57)\n",
        "(3999, 57)"
       ]
      },
      {
       "output_type": "stream",
       "stream": "stdout",
       "text": [
        "\n",
        "(3999, 19)\n",
        "rkt"
       ]
      },
      {
       "output_type": "stream",
       "stream": "stdout",
       "text": [
        " (3996, 19) (3996, 57)\n",
        "(3999, 57)"
       ]
      },
      {
       "output_type": "stream",
       "stream": "stdout",
       "text": [
        "\n",
        "(3999, 19)\n",
        "rkt"
       ]
      },
      {
       "output_type": "stream",
       "stream": "stdout",
       "text": [
        " (3996, 19) (3996, 57)\n",
        "(3999, 57)"
       ]
      },
      {
       "output_type": "stream",
       "stream": "stdout",
       "text": [
        "\n",
        "(3999, 19)\n",
        "rkt"
       ]
      },
      {
       "output_type": "stream",
       "stream": "stdout",
       "text": [
        " (3996, 19) (3996, 57)\n",
        "(3999, 57)"
       ]
      },
      {
       "output_type": "stream",
       "stream": "stdout",
       "text": [
        "\n",
        "(3999, 19)\n",
        "rkt"
       ]
      },
      {
       "output_type": "stream",
       "stream": "stdout",
       "text": [
        " (3996, 19) (3996, 57)\n",
        "(3999, 57)"
       ]
      },
      {
       "output_type": "stream",
       "stream": "stdout",
       "text": [
        "\n",
        "(3999, 19)\n",
        "rkt"
       ]
      },
      {
       "output_type": "stream",
       "stream": "stdout",
       "text": [
        " (3996, 19) (3996, 57)\n",
        "(3999, 57)"
       ]
      },
      {
       "output_type": "stream",
       "stream": "stdout",
       "text": [
        "\n",
        "(3999, 19)\n",
        "rkt"
       ]
      },
      {
       "output_type": "stream",
       "stream": "stdout",
       "text": [
        " (3996, 19) (3996, 57)\n",
        "(3999, 57)"
       ]
      },
      {
       "output_type": "stream",
       "stream": "stdout",
       "text": [
        "\n",
        "(3999, 19)\n",
        "rkt"
       ]
      },
      {
       "output_type": "stream",
       "stream": "stdout",
       "text": [
        " (3996, 19) (3996, 57)\n",
        "(3999, 57)"
       ]
      },
      {
       "output_type": "stream",
       "stream": "stdout",
       "text": [
        "\n",
        "(3999, 19)\n",
        "rkt"
       ]
      },
      {
       "output_type": "stream",
       "stream": "stdout",
       "text": [
        " (3996, 19) (3996, 57)\n",
        "(3999, 57)"
       ]
      },
      {
       "output_type": "stream",
       "stream": "stdout",
       "text": [
        "\n",
        "(3999, 19)\n",
        "rkt"
       ]
      },
      {
       "output_type": "stream",
       "stream": "stdout",
       "text": [
        " (3996, 19) (3996, 57)\n",
        "(3999, 57)"
       ]
      },
      {
       "output_type": "stream",
       "stream": "stdout",
       "text": [
        "\n",
        "(3999, 19)\n",
        "rkt"
       ]
      },
      {
       "output_type": "stream",
       "stream": "stdout",
       "text": [
        " (3996, 19) (3996, 57)\n",
        "(3999, 57)"
       ]
      },
      {
       "output_type": "stream",
       "stream": "stdout",
       "text": [
        "\n",
        "(3999, 19)\n",
        "rkt"
       ]
      },
      {
       "output_type": "stream",
       "stream": "stdout",
       "text": [
        " (3996, 19) (3996, 57)\n",
        "(3999, 57)"
       ]
      },
      {
       "output_type": "stream",
       "stream": "stdout",
       "text": [
        "\n",
        "(3999, 19)\n",
        "rkt"
       ]
      },
      {
       "output_type": "stream",
       "stream": "stdout",
       "text": [
        " (3996, 19) (3996, 57)\n",
        "(3999, 57)"
       ]
      },
      {
       "output_type": "stream",
       "stream": "stdout",
       "text": [
        "\n",
        "(3999, 19)\n",
        "rkt"
       ]
      },
      {
       "output_type": "stream",
       "stream": "stdout",
       "text": [
        " (3996, 19) (3996, 57)\n",
        "(3999, 57)"
       ]
      },
      {
       "output_type": "stream",
       "stream": "stdout",
       "text": [
        "\n",
        "(3999, 19)\n",
        "rkt"
       ]
      },
      {
       "output_type": "stream",
       "stream": "stdout",
       "text": [
        " (3996, 19) (3996, 57)\n",
        "(3999, 57)"
       ]
      },
      {
       "output_type": "stream",
       "stream": "stdout",
       "text": [
        "\n",
        "(3999, 19)\n",
        "rkt"
       ]
      },
      {
       "output_type": "stream",
       "stream": "stdout",
       "text": [
        " (3996, 19) (3996, 57)\n",
        "(3999, 57)"
       ]
      },
      {
       "output_type": "stream",
       "stream": "stdout",
       "text": [
        "\n",
        "(3999, 19)\n",
        "rkt"
       ]
      },
      {
       "output_type": "stream",
       "stream": "stdout",
       "text": [
        " (3996, 19) (3996, 57)\n",
        "(3999, 57)"
       ]
      },
      {
       "output_type": "stream",
       "stream": "stdout",
       "text": [
        "\n",
        "(3999, 19)\n",
        "rkt"
       ]
      },
      {
       "output_type": "stream",
       "stream": "stdout",
       "text": [
        " (3996, 19) (3996, 57)\n",
        "(3999, 57)"
       ]
      },
      {
       "output_type": "stream",
       "stream": "stdout",
       "text": [
        "\n",
        "(3999, 19)\n",
        "rkt"
       ]
      },
      {
       "output_type": "stream",
       "stream": "stdout",
       "text": [
        " (3996, 19) (3996, 57)\n",
        "(3999, 57)"
       ]
      },
      {
       "output_type": "stream",
       "stream": "stdout",
       "text": [
        "\n",
        "(3999, 19)\n",
        "rkt"
       ]
      },
      {
       "output_type": "stream",
       "stream": "stdout",
       "text": [
        " (3996, 19) (3996, 57)\n",
        "(3999, 57)"
       ]
      },
      {
       "output_type": "stream",
       "stream": "stdout",
       "text": [
        "\n",
        "(3999, 19)\n",
        "rkt"
       ]
      },
      {
       "output_type": "stream",
       "stream": "stdout",
       "text": [
        " (3996, 19) (3996, 57)\n",
        "(3999, 57)"
       ]
      },
      {
       "output_type": "stream",
       "stream": "stdout",
       "text": [
        "\n",
        "(3999, 19)\n",
        "rkt"
       ]
      },
      {
       "output_type": "stream",
       "stream": "stdout",
       "text": [
        " (3996, 19) (3996, 57)\n",
        "(3999, 57)"
       ]
      },
      {
       "output_type": "stream",
       "stream": "stdout",
       "text": [
        "\n",
        "(3999, 19)\n",
        "rkt"
       ]
      },
      {
       "output_type": "stream",
       "stream": "stdout",
       "text": [
        " (3996, 19) (3996, 57)\n",
        "(3999, 57)"
       ]
      },
      {
       "output_type": "stream",
       "stream": "stdout",
       "text": [
        "\n",
        "(3999, 19)\n",
        "rkt"
       ]
      },
      {
       "output_type": "stream",
       "stream": "stdout",
       "text": [
        " (3996, 19) (3996, 57)\n",
        "(3999, 57)"
       ]
      },
      {
       "output_type": "stream",
       "stream": "stdout",
       "text": [
        "\n",
        "(3999, 19)\n",
        "rkt"
       ]
      },
      {
       "output_type": "stream",
       "stream": "stdout",
       "text": [
        " (3996, 19) (3996, 57)\n",
        "(3999, 57)"
       ]
      },
      {
       "output_type": "stream",
       "stream": "stdout",
       "text": [
        "\n",
        "(3999, 19)\n",
        "rkt"
       ]
      },
      {
       "output_type": "stream",
       "stream": "stdout",
       "text": [
        " (3996, 19) (3996, 57)\n",
        "(3999, 57)"
       ]
      },
      {
       "output_type": "stream",
       "stream": "stdout",
       "text": [
        "\n",
        "(3999, 19)\n",
        "rkt"
       ]
      },
      {
       "output_type": "stream",
       "stream": "stdout",
       "text": [
        " (3996, 19) (3996, 57)\n",
        "(3999, 57)"
       ]
      },
      {
       "output_type": "stream",
       "stream": "stdout",
       "text": [
        "\n",
        "(3999, 19)\n",
        "rkt"
       ]
      },
      {
       "output_type": "stream",
       "stream": "stdout",
       "text": [
        " (3996, 19) (3996, 57)\n",
        "(3999, 57)"
       ]
      },
      {
       "output_type": "stream",
       "stream": "stdout",
       "text": [
        "\n",
        "(3999, 19)\n",
        "rkt"
       ]
      },
      {
       "output_type": "stream",
       "stream": "stdout",
       "text": [
        " (3996, 19) (3996, 57)\n",
        "(3999, 57)"
       ]
      },
      {
       "output_type": "stream",
       "stream": "stdout",
       "text": [
        "\n",
        "(3999, 19)\n",
        "rkt"
       ]
      },
      {
       "output_type": "stream",
       "stream": "stdout",
       "text": [
        " (3996, 19) (3996, 57)\n",
        "(3999, 57)"
       ]
      },
      {
       "output_type": "stream",
       "stream": "stdout",
       "text": [
        "\n",
        "(3999, 19)\n",
        "rkt"
       ]
      },
      {
       "output_type": "stream",
       "stream": "stdout",
       "text": [
        " (3996, 19) (3996, 57)\n",
        "(3999, 57)"
       ]
      },
      {
       "output_type": "stream",
       "stream": "stdout",
       "text": [
        "\n",
        "(3999, 19)\n",
        "rkt"
       ]
      },
      {
       "output_type": "stream",
       "stream": "stdout",
       "text": [
        " (3996, 19) (3996, 57)\n",
        "(3999, 57)"
       ]
      },
      {
       "output_type": "stream",
       "stream": "stdout",
       "text": [
        "\n",
        "(3999, 19)\n",
        "rkt"
       ]
      },
      {
       "output_type": "stream",
       "stream": "stdout",
       "text": [
        " (3996, 19) (3996, 57)\n",
        "(3999, 57)"
       ]
      },
      {
       "output_type": "stream",
       "stream": "stdout",
       "text": [
        "\n",
        "(3999, 19)\n",
        "rkt"
       ]
      },
      {
       "output_type": "stream",
       "stream": "stdout",
       "text": [
        " (3996, 19) (3996, 57)\n",
        "(3999, 57)"
       ]
      },
      {
       "output_type": "stream",
       "stream": "stdout",
       "text": [
        "\n",
        "(3999, 19)\n",
        "rkt"
       ]
      },
      {
       "output_type": "stream",
       "stream": "stdout",
       "text": [
        " (3996, 19) (3996, 57)\n",
        "(3999, 57)"
       ]
      },
      {
       "output_type": "stream",
       "stream": "stdout",
       "text": [
        "\n",
        "(3999, 19)\n",
        "rkt"
       ]
      },
      {
       "output_type": "stream",
       "stream": "stdout",
       "text": [
        " (3996, 19) (3996, 57)\n",
        "(3999, 57)"
       ]
      },
      {
       "output_type": "stream",
       "stream": "stdout",
       "text": [
        "\n",
        "(3999, 19)\n",
        "rkt"
       ]
      },
      {
       "output_type": "stream",
       "stream": "stdout",
       "text": [
        " (3996, 19) (3996, 57)\n",
        "(3999, 57)"
       ]
      },
      {
       "output_type": "stream",
       "stream": "stdout",
       "text": [
        "\n",
        "(3999, 19)\n",
        "rkt"
       ]
      },
      {
       "output_type": "stream",
       "stream": "stdout",
       "text": [
        " (3996, 19) (3996, 57)\n",
        "(3999, 57)"
       ]
      },
      {
       "output_type": "stream",
       "stream": "stdout",
       "text": [
        "\n",
        "(3999, 19)\n",
        "rkt"
       ]
      },
      {
       "output_type": "stream",
       "stream": "stdout",
       "text": [
        " (3996, 19) (3996, 57)\n",
        "(3999, 57)"
       ]
      },
      {
       "output_type": "stream",
       "stream": "stdout",
       "text": [
        "\n",
        "(3999, 19)\n",
        "rkt"
       ]
      },
      {
       "output_type": "stream",
       "stream": "stdout",
       "text": [
        " (3996, 19) (3996, 57)\n",
        "(3999, 57)"
       ]
      },
      {
       "output_type": "stream",
       "stream": "stdout",
       "text": [
        "\n",
        "(3999, 19)\n",
        "rkt"
       ]
      },
      {
       "output_type": "stream",
       "stream": "stdout",
       "text": [
        " (3996, 19) (3996, 57)\n",
        "(3999, 57)"
       ]
      },
      {
       "output_type": "stream",
       "stream": "stdout",
       "text": [
        "\n",
        "(3999, 19)\n",
        "rkt"
       ]
      },
      {
       "output_type": "stream",
       "stream": "stdout",
       "text": [
        " (3996, 19) (3996, 57)\n",
        "(3999, 57)"
       ]
      },
      {
       "output_type": "stream",
       "stream": "stdout",
       "text": [
        "\n",
        "(3999, 19)\n",
        "rkt"
       ]
      },
      {
       "output_type": "stream",
       "stream": "stdout",
       "text": [
        " (3996, 19) (3996, 57)\n",
        "(3999, 57)"
       ]
      },
      {
       "output_type": "stream",
       "stream": "stdout",
       "text": [
        "\n",
        "(3999, 19)\n",
        "rkt"
       ]
      },
      {
       "output_type": "stream",
       "stream": "stdout",
       "text": [
        " (3996, 19) (3996, 57)\n",
        "(3999, 57)"
       ]
      },
      {
       "output_type": "stream",
       "stream": "stdout",
       "text": [
        "\n",
        "(3999, 19)\n",
        "rkt"
       ]
      },
      {
       "output_type": "stream",
       "stream": "stdout",
       "text": [
        " (3996, 19) (3996, 57)\n",
        "(3999, 57)"
       ]
      },
      {
       "output_type": "stream",
       "stream": "stdout",
       "text": [
        "\n",
        "(3999, 19)\n",
        "rkt"
       ]
      },
      {
       "output_type": "stream",
       "stream": "stdout",
       "text": [
        " (3996, 19) (3996, 57)\n",
        "(3999, 57)"
       ]
      },
      {
       "output_type": "stream",
       "stream": "stdout",
       "text": [
        "\n",
        "(3999, 19)\n",
        "rkt"
       ]
      },
      {
       "output_type": "stream",
       "stream": "stdout",
       "text": [
        " (3996, 19) (3996, 57)\n",
        "(3999, 57)"
       ]
      },
      {
       "output_type": "stream",
       "stream": "stdout",
       "text": [
        "\n",
        "(3999, 19)\n",
        "rkt"
       ]
      },
      {
       "output_type": "stream",
       "stream": "stdout",
       "text": [
        " (3996, 19) (3996, 57)\n",
        "(3999, 57)"
       ]
      },
      {
       "output_type": "stream",
       "stream": "stdout",
       "text": [
        "\n",
        "(3999, 19)\n",
        "rkt"
       ]
      },
      {
       "output_type": "stream",
       "stream": "stdout",
       "text": [
        " (3996, 19) (3996, 57)\n",
        "(3999, 57)"
       ]
      },
      {
       "output_type": "stream",
       "stream": "stdout",
       "text": [
        "\n",
        "(3999, 19)\n",
        "rkt"
       ]
      },
      {
       "output_type": "stream",
       "stream": "stdout",
       "text": [
        " (3996, 19) (3996, 57)\n",
        "(3999, 57)"
       ]
      },
      {
       "output_type": "stream",
       "stream": "stdout",
       "text": [
        "\n",
        "(3999, 19)\n",
        "rkt"
       ]
      },
      {
       "output_type": "stream",
       "stream": "stdout",
       "text": [
        " (3996, 19) (3996, 57)\n",
        "(3999, 57)"
       ]
      },
      {
       "output_type": "stream",
       "stream": "stdout",
       "text": [
        "\n",
        "(3999, 19)\n",
        "rkt"
       ]
      },
      {
       "output_type": "stream",
       "stream": "stdout",
       "text": [
        " (3996, 19) (3996, 57)\n",
        "(3999, 57)"
       ]
      },
      {
       "output_type": "stream",
       "stream": "stdout",
       "text": [
        "\n",
        "(3999, 19)\n",
        "rkt"
       ]
      },
      {
       "output_type": "stream",
       "stream": "stdout",
       "text": [
        " (3996, 19) (3996, 57)\n",
        "(3999, 57)"
       ]
      },
      {
       "output_type": "stream",
       "stream": "stdout",
       "text": [
        "\n",
        "(3999, 19)\n",
        "rkt"
       ]
      },
      {
       "output_type": "stream",
       "stream": "stdout",
       "text": [
        " (3996, 19) (3996, 57)\n",
        "(3999, 57)"
       ]
      },
      {
       "output_type": "stream",
       "stream": "stdout",
       "text": [
        "\n",
        "(3999, 19)\n",
        "rkt"
       ]
      },
      {
       "output_type": "stream",
       "stream": "stdout",
       "text": [
        " (3996, 19) (3996, 57)\n",
        "(3999, 57)"
       ]
      },
      {
       "output_type": "stream",
       "stream": "stdout",
       "text": [
        "\n",
        "(3999, 19)\n",
        "rkt"
       ]
      },
      {
       "output_type": "stream",
       "stream": "stdout",
       "text": [
        " (3996, 19) (3996, 57)\n",
        "(3999, 57)"
       ]
      },
      {
       "output_type": "stream",
       "stream": "stdout",
       "text": [
        "\n",
        "(3999, 19)\n",
        "rkt"
       ]
      },
      {
       "output_type": "stream",
       "stream": "stdout",
       "text": [
        " (3996, 19) (3996, 57)\n",
        "(3999, 57)"
       ]
      },
      {
       "output_type": "stream",
       "stream": "stdout",
       "text": [
        "\n",
        "(3999, 19)\n",
        "rkt"
       ]
      },
      {
       "output_type": "stream",
       "stream": "stdout",
       "text": [
        " (3996, 19) (3996, 57)\n",
        "(3999, 57)"
       ]
      },
      {
       "output_type": "stream",
       "stream": "stdout",
       "text": [
        "\n",
        "(3999, 19)\n",
        "rkt"
       ]
      },
      {
       "output_type": "stream",
       "stream": "stdout",
       "text": [
        " (3996, 19) (3996, 57)\n",
        "(3999, 57)"
       ]
      },
      {
       "output_type": "stream",
       "stream": "stdout",
       "text": [
        "\n",
        "(3999, 19)\n",
        "rkt"
       ]
      },
      {
       "output_type": "stream",
       "stream": "stdout",
       "text": [
        " (3996, 19) (3996, 57)\n",
        "(3999, 57)"
       ]
      },
      {
       "output_type": "stream",
       "stream": "stdout",
       "text": [
        "\n",
        "(3999, 19)\n",
        "rkt"
       ]
      },
      {
       "output_type": "stream",
       "stream": "stdout",
       "text": [
        " (3996, 19) (3996, 57)\n",
        "(3999, 57)"
       ]
      },
      {
       "output_type": "stream",
       "stream": "stdout",
       "text": [
        "\n",
        "(3999, 19)\n",
        "rkt"
       ]
      },
      {
       "output_type": "stream",
       "stream": "stdout",
       "text": [
        " (3996, 19) (3996, 57)\n",
        "(3999, 57)"
       ]
      },
      {
       "output_type": "stream",
       "stream": "stdout",
       "text": [
        "\n",
        "(3999, 19)\n",
        "rkt"
       ]
      },
      {
       "output_type": "stream",
       "stream": "stdout",
       "text": [
        " (3996, 19) (3996, 57)\n",
        "(3999, 57)"
       ]
      },
      {
       "output_type": "stream",
       "stream": "stdout",
       "text": [
        "\n",
        "(3999, 19)\n",
        "rkt"
       ]
      },
      {
       "output_type": "stream",
       "stream": "stdout",
       "text": [
        " (3996, 19) (3996, 57)\n",
        "(3999, 57)"
       ]
      },
      {
       "output_type": "stream",
       "stream": "stdout",
       "text": [
        "\n",
        "(3999, 19)\n",
        "rkt"
       ]
      },
      {
       "output_type": "stream",
       "stream": "stdout",
       "text": [
        " (3996, 19) (3996, 57)\n",
        "(3999, 57)"
       ]
      },
      {
       "output_type": "stream",
       "stream": "stdout",
       "text": [
        "\n",
        "(3999, 19)\n",
        "rkt"
       ]
      },
      {
       "output_type": "stream",
       "stream": "stdout",
       "text": [
        " (3996, 19) (3996, 57)\n",
        "(3999, 57)"
       ]
      },
      {
       "output_type": "stream",
       "stream": "stdout",
       "text": [
        "\n",
        "(3999, 19)\n",
        "rkt"
       ]
      },
      {
       "output_type": "stream",
       "stream": "stdout",
       "text": [
        " (3996, 19) (3996, 57)\n",
        "(3999, 57)"
       ]
      },
      {
       "output_type": "stream",
       "stream": "stdout",
       "text": [
        "\n",
        "(3999, 19)\n",
        "rkt"
       ]
      },
      {
       "output_type": "stream",
       "stream": "stdout",
       "text": [
        " (3996, 19) (3996, 57)\n",
        "(3999, 57)"
       ]
      },
      {
       "output_type": "stream",
       "stream": "stdout",
       "text": [
        "\n",
        "(3999, 19)\n",
        "rkt"
       ]
      },
      {
       "output_type": "stream",
       "stream": "stdout",
       "text": [
        " (3996, 19) (3996, 57)\n",
        "(3999, 57)"
       ]
      },
      {
       "output_type": "stream",
       "stream": "stdout",
       "text": [
        "\n",
        "(3999, 19)\n",
        "rkt"
       ]
      },
      {
       "output_type": "stream",
       "stream": "stdout",
       "text": [
        " (3996, 19) (3996, 57)\n",
        "(3999, 57)"
       ]
      },
      {
       "output_type": "stream",
       "stream": "stdout",
       "text": [
        "\n",
        "(3999, 19)\n",
        "rkt"
       ]
      },
      {
       "output_type": "stream",
       "stream": "stdout",
       "text": [
        " (3996, 19) (3996, 57)\n",
        "(3999, 57)"
       ]
      },
      {
       "output_type": "stream",
       "stream": "stdout",
       "text": [
        "\n",
        "(3999, 19)\n",
        "rkt"
       ]
      },
      {
       "output_type": "stream",
       "stream": "stdout",
       "text": [
        " (3996, 19) (3996, 57)\n",
        "(3999, 57)"
       ]
      },
      {
       "output_type": "stream",
       "stream": "stdout",
       "text": [
        "\n",
        "(3999, 19)\n",
        "rkt"
       ]
      },
      {
       "output_type": "stream",
       "stream": "stdout",
       "text": [
        " (3996, 19) (3996, 57)\n",
        "(3999, 57)"
       ]
      },
      {
       "output_type": "stream",
       "stream": "stdout",
       "text": [
        "\n",
        "(3999, 19)\n",
        "rkt"
       ]
      },
      {
       "output_type": "stream",
       "stream": "stdout",
       "text": [
        " (3996, 19) (3996, 57)\n",
        "(3999, 57)"
       ]
      },
      {
       "output_type": "stream",
       "stream": "stdout",
       "text": [
        "\n",
        "(3999, 19)\n",
        "rkt"
       ]
      },
      {
       "output_type": "stream",
       "stream": "stdout",
       "text": [
        " (3996, 19) (3996, 57)\n",
        "(3999, 57)"
       ]
      },
      {
       "output_type": "stream",
       "stream": "stdout",
       "text": [
        "\n",
        "(3999, 19)\n",
        "rkt"
       ]
      },
      {
       "output_type": "stream",
       "stream": "stdout",
       "text": [
        " (3996, 19) (3996, 57)\n",
        "(3999, 57)"
       ]
      },
      {
       "output_type": "stream",
       "stream": "stdout",
       "text": [
        "\n",
        "(3999, 19)\n",
        "rkt"
       ]
      },
      {
       "output_type": "stream",
       "stream": "stdout",
       "text": [
        " (3996, 19) (3996, 57)\n",
        "(3999, 57)"
       ]
      },
      {
       "output_type": "stream",
       "stream": "stdout",
       "text": [
        "\n",
        "(3999, 19)\n",
        "rkt"
       ]
      },
      {
       "output_type": "stream",
       "stream": "stdout",
       "text": [
        " (3996, 19) (3996, 57)\n",
        "(3999, 57)"
       ]
      },
      {
       "output_type": "stream",
       "stream": "stdout",
       "text": [
        "\n",
        "(3999, 19)\n",
        "rkt"
       ]
      },
      {
       "output_type": "stream",
       "stream": "stdout",
       "text": [
        " (3996, 19) (3996, 57)\n",
        "(3999, 57)"
       ]
      },
      {
       "output_type": "stream",
       "stream": "stdout",
       "text": [
        "\n",
        "(3999, 19)\n",
        "rkt"
       ]
      },
      {
       "output_type": "stream",
       "stream": "stdout",
       "text": [
        " (3996, 19) (3996, 57)\n",
        "(3999, 57)"
       ]
      },
      {
       "output_type": "stream",
       "stream": "stdout",
       "text": [
        "\n",
        "(3999, 19)\n",
        "rkt"
       ]
      },
      {
       "output_type": "stream",
       "stream": "stdout",
       "text": [
        " (3996, 19) (3996, 57)\n",
        "(3999, 57)"
       ]
      },
      {
       "output_type": "stream",
       "stream": "stdout",
       "text": [
        "\n",
        "(3999, 19)\n",
        "rkt"
       ]
      },
      {
       "output_type": "stream",
       "stream": "stdout",
       "text": [
        " (3996, 19) (3996, 57)\n",
        "(3999, 57)"
       ]
      },
      {
       "output_type": "stream",
       "stream": "stdout",
       "text": [
        "\n",
        "(3999, 19)\n",
        "rkt"
       ]
      },
      {
       "output_type": "stream",
       "stream": "stdout",
       "text": [
        " (3996, 19) (3996, 57)\n",
        "(3999, 57)"
       ]
      },
      {
       "output_type": "stream",
       "stream": "stdout",
       "text": [
        "\n",
        "(3999, 19)\n",
        "rkt"
       ]
      },
      {
       "output_type": "stream",
       "stream": "stdout",
       "text": [
        " (3996, 19) (3996, 57)\n",
        "(3999, 57)"
       ]
      },
      {
       "output_type": "stream",
       "stream": "stdout",
       "text": [
        "\n",
        "(3999, 19)\n",
        "rkt"
       ]
      },
      {
       "output_type": "stream",
       "stream": "stdout",
       "text": [
        " (3996, 19) (3996, 57)\n",
        "(3999, 57)"
       ]
      },
      {
       "output_type": "stream",
       "stream": "stdout",
       "text": [
        "\n",
        "(3999, 19)\n",
        "rkt"
       ]
      },
      {
       "output_type": "stream",
       "stream": "stdout",
       "text": [
        " (3996, 19) (3996, 57)\n",
        "(3999, 57)"
       ]
      },
      {
       "output_type": "stream",
       "stream": "stdout",
       "text": [
        "\n",
        "(3999, 19)\n",
        "rkt"
       ]
      },
      {
       "output_type": "stream",
       "stream": "stdout",
       "text": [
        " (3996, 19) (3996, 57)\n",
        "(3999, 57)"
       ]
      },
      {
       "output_type": "stream",
       "stream": "stdout",
       "text": [
        "\n",
        "(3999, 19)\n",
        "rkt"
       ]
      },
      {
       "output_type": "stream",
       "stream": "stdout",
       "text": [
        " (3996, 19) (3996, 57)\n",
        "(3999, 57)"
       ]
      },
      {
       "output_type": "stream",
       "stream": "stdout",
       "text": [
        "\n",
        "(3999, 19)\n",
        "rkt"
       ]
      },
      {
       "output_type": "stream",
       "stream": "stdout",
       "text": [
        " (3996, 19) (3996, 57)\n",
        "(3999, 57)"
       ]
      },
      {
       "output_type": "stream",
       "stream": "stdout",
       "text": [
        "\n",
        "(3999, 19)\n",
        "rkt"
       ]
      },
      {
       "output_type": "stream",
       "stream": "stdout",
       "text": [
        " (3996, 19) (3996, 57)\n",
        "(3999, 57)"
       ]
      },
      {
       "output_type": "stream",
       "stream": "stdout",
       "text": [
        "\n",
        "(3999, 19)\n",
        "rkt"
       ]
      },
      {
       "output_type": "stream",
       "stream": "stdout",
       "text": [
        " (3996, 19) (3996, 57)\n",
        "(3999, 57)"
       ]
      },
      {
       "output_type": "stream",
       "stream": "stdout",
       "text": [
        "\n",
        "(3999, 19)\n",
        "rkt"
       ]
      },
      {
       "output_type": "stream",
       "stream": "stdout",
       "text": [
        " (3996, 19) (3996, 57)\n",
        "(3999, 57)"
       ]
      },
      {
       "output_type": "stream",
       "stream": "stdout",
       "text": [
        "\n",
        "(3999, 19)\n",
        "rkt"
       ]
      },
      {
       "output_type": "stream",
       "stream": "stdout",
       "text": [
        " (3996, 19) (3996, 57)\n",
        "(3999, 57)"
       ]
      },
      {
       "output_type": "stream",
       "stream": "stdout",
       "text": [
        "\n",
        "(3999, 19)\n",
        "rkt"
       ]
      },
      {
       "output_type": "stream",
       "stream": "stdout",
       "text": [
        " (3996, 19) (3996, 57)\n",
        "(3999, 57)"
       ]
      },
      {
       "output_type": "stream",
       "stream": "stdout",
       "text": [
        "\n",
        "(3999, 19)\n",
        "rkt"
       ]
      },
      {
       "output_type": "stream",
       "stream": "stdout",
       "text": [
        " (3996, 19) (3996, 57)\n",
        "(3999, 57)"
       ]
      },
      {
       "output_type": "stream",
       "stream": "stdout",
       "text": [
        "\n",
        "(3999, 19)\n",
        "rkt"
       ]
      },
      {
       "output_type": "stream",
       "stream": "stdout",
       "text": [
        " (3996, 19) (3996, 57)\n",
        "(3999, 57)"
       ]
      },
      {
       "output_type": "stream",
       "stream": "stdout",
       "text": [
        "\n",
        "(3999, 19)\n",
        "rkt"
       ]
      },
      {
       "output_type": "stream",
       "stream": "stdout",
       "text": [
        " (3996, 19) (3996, 57)\n",
        "(3999, 57)"
       ]
      },
      {
       "output_type": "stream",
       "stream": "stdout",
       "text": [
        "\n",
        "(3999, 19)\n",
        "rkt"
       ]
      },
      {
       "output_type": "stream",
       "stream": "stdout",
       "text": [
        " (3996, 19) (3996, 57)\n",
        "(3999, 57)"
       ]
      },
      {
       "output_type": "stream",
       "stream": "stdout",
       "text": [
        "\n",
        "(3999, 19)\n",
        "rkt"
       ]
      },
      {
       "output_type": "stream",
       "stream": "stdout",
       "text": [
        " (3996, 19) (3996, 57)\n",
        "(3999, 57)"
       ]
      },
      {
       "output_type": "stream",
       "stream": "stdout",
       "text": [
        "\n",
        "(3999, 19)\n",
        "rkt"
       ]
      },
      {
       "output_type": "stream",
       "stream": "stdout",
       "text": [
        " (3996, 19) (3996, 57)\n",
        "(3999, 57)"
       ]
      },
      {
       "output_type": "stream",
       "stream": "stdout",
       "text": [
        "\n",
        "(3999, 19)\n",
        "rkt"
       ]
      },
      {
       "output_type": "stream",
       "stream": "stdout",
       "text": [
        " (3996, 19) (3996, 57)\n",
        "(3999, 57)"
       ]
      },
      {
       "output_type": "stream",
       "stream": "stdout",
       "text": [
        "\n",
        "(3999, 19)\n",
        "rkt"
       ]
      },
      {
       "output_type": "stream",
       "stream": "stdout",
       "text": [
        " (3996, 19) (3996, 57)\n",
        "(3999, 57)"
       ]
      },
      {
       "output_type": "stream",
       "stream": "stdout",
       "text": [
        "\n",
        "(3999, 19)\n",
        "rkt"
       ]
      },
      {
       "output_type": "stream",
       "stream": "stdout",
       "text": [
        " (3996, 19) (3996, 57)\n",
        "(3999, 57)"
       ]
      },
      {
       "output_type": "stream",
       "stream": "stdout",
       "text": [
        "\n",
        "(3999, 19)\n",
        "rkt"
       ]
      },
      {
       "output_type": "stream",
       "stream": "stdout",
       "text": [
        " (3996, 19) (3996, 57)\n",
        "(3999, 57)"
       ]
      },
      {
       "output_type": "stream",
       "stream": "stdout",
       "text": [
        "\n",
        "(3999, 19)\n",
        "rkt"
       ]
      },
      {
       "output_type": "stream",
       "stream": "stdout",
       "text": [
        " (3996, 19) (3996, 57)\n",
        "(3999, 57)"
       ]
      },
      {
       "output_type": "stream",
       "stream": "stdout",
       "text": [
        "\n",
        "(3999, 19)\n",
        "rkt"
       ]
      },
      {
       "output_type": "stream",
       "stream": "stdout",
       "text": [
        " (3996, 19) (3996, 57)\n",
        "(3999, 57)"
       ]
      },
      {
       "output_type": "stream",
       "stream": "stdout",
       "text": [
        "\n",
        "(3999, 19)\n",
        "rkt"
       ]
      },
      {
       "output_type": "stream",
       "stream": "stdout",
       "text": [
        " (3996, 19) (3996, 57)\n",
        "(3999, 57)"
       ]
      },
      {
       "output_type": "stream",
       "stream": "stdout",
       "text": [
        "\n",
        "(3999, 19)\n",
        "rkt"
       ]
      },
      {
       "output_type": "stream",
       "stream": "stdout",
       "text": [
        " (3996, 19) (3996, 57)\n",
        "(3999, 57)"
       ]
      },
      {
       "output_type": "stream",
       "stream": "stdout",
       "text": [
        "\n",
        "(3999, 19)\n",
        "rkt"
       ]
      },
      {
       "output_type": "stream",
       "stream": "stdout",
       "text": [
        " (3996, 19) (3996, 57)\n",
        "(3999, 57)"
       ]
      },
      {
       "output_type": "stream",
       "stream": "stdout",
       "text": [
        "\n",
        "(3999, 19)\n",
        "rkt"
       ]
      },
      {
       "output_type": "stream",
       "stream": "stdout",
       "text": [
        " (3996, 19) (3996, 57)\n",
        "(3999, 57)"
       ]
      },
      {
       "output_type": "stream",
       "stream": "stdout",
       "text": [
        "\n",
        "(3999, 19)\n",
        "rkt"
       ]
      },
      {
       "output_type": "stream",
       "stream": "stdout",
       "text": [
        " (3996, 19) (3996, 57)\n",
        "(3999, 57)"
       ]
      },
      {
       "output_type": "stream",
       "stream": "stdout",
       "text": [
        "\n",
        "(3999, 19)\n",
        "rkt"
       ]
      },
      {
       "output_type": "stream",
       "stream": "stdout",
       "text": [
        " (3996, 19) (3996, 57)\n",
        "(3999, 57)"
       ]
      },
      {
       "output_type": "stream",
       "stream": "stdout",
       "text": [
        "\n",
        "(3999, 19)\n",
        "rkt"
       ]
      },
      {
       "output_type": "stream",
       "stream": "stdout",
       "text": [
        " (3996, 19) (3996, 57)\n",
        "(3999, 57)"
       ]
      },
      {
       "output_type": "stream",
       "stream": "stdout",
       "text": [
        "\n",
        "(3999, 19)\n",
        "rkt"
       ]
      },
      {
       "output_type": "stream",
       "stream": "stdout",
       "text": [
        " (3996, 19) (3996, 57)\n",
        "(3999, 57)"
       ]
      },
      {
       "output_type": "stream",
       "stream": "stdout",
       "text": [
        "\n",
        "(3999, 19)\n",
        "rkt"
       ]
      },
      {
       "output_type": "stream",
       "stream": "stdout",
       "text": [
        " (3996, 19) (3996, 57)\n",
        "(3999, 57)"
       ]
      },
      {
       "output_type": "stream",
       "stream": "stdout",
       "text": [
        "\n",
        "(3999, 19)\n",
        "rkt"
       ]
      },
      {
       "output_type": "stream",
       "stream": "stdout",
       "text": [
        " (3996, 19) (3996, 57)\n",
        "(3999, 57)"
       ]
      },
      {
       "output_type": "stream",
       "stream": "stdout",
       "text": [
        "\n",
        "(3999, 19)\n",
        "rkt"
       ]
      },
      {
       "output_type": "stream",
       "stream": "stdout",
       "text": [
        " (3996, 19) (3996, 57)\n",
        "(3999, 57)"
       ]
      },
      {
       "output_type": "stream",
       "stream": "stdout",
       "text": [
        "\n",
        "(3999, 19)\n",
        "rkt"
       ]
      },
      {
       "output_type": "stream",
       "stream": "stdout",
       "text": [
        " (3996, 19) (3996, 57)\n",
        "(3999, 57)"
       ]
      },
      {
       "output_type": "stream",
       "stream": "stdout",
       "text": [
        "\n",
        "(3999, 19)\n",
        "rkt"
       ]
      },
      {
       "output_type": "stream",
       "stream": "stdout",
       "text": [
        " (3996, 19) (3996, 57)\n",
        "(3999, 57)"
       ]
      },
      {
       "output_type": "stream",
       "stream": "stdout",
       "text": [
        "\n",
        "(3999, 19)\n",
        "rkt"
       ]
      },
      {
       "output_type": "stream",
       "stream": "stdout",
       "text": [
        " (3996, 19) (3996, 57)\n",
        "(3999, 57)"
       ]
      },
      {
       "output_type": "stream",
       "stream": "stdout",
       "text": [
        "\n",
        "(3999, 19)\n",
        "rkt"
       ]
      },
      {
       "output_type": "stream",
       "stream": "stdout",
       "text": [
        " (3996, 19) (3996, 57)\n",
        "(3999, 57)"
       ]
      },
      {
       "output_type": "stream",
       "stream": "stdout",
       "text": [
        "\n",
        "(3999, 19)\n",
        "rkt"
       ]
      },
      {
       "output_type": "stream",
       "stream": "stdout",
       "text": [
        " (3996, 19) (3996, 57)\n",
        "(3999, 57)"
       ]
      },
      {
       "output_type": "stream",
       "stream": "stdout",
       "text": [
        "\n",
        "(3999, 19)\n",
        "rkt"
       ]
      },
      {
       "output_type": "stream",
       "stream": "stdout",
       "text": [
        " (3996, 19) (3996, 57)\n",
        "(3999, 57)"
       ]
      },
      {
       "output_type": "stream",
       "stream": "stdout",
       "text": [
        "\n",
        "(3999, 19)\n",
        "rkt"
       ]
      },
      {
       "output_type": "stream",
       "stream": "stdout",
       "text": [
        " (3996, 19) (3996, 57)\n",
        "(3999, 57)"
       ]
      },
      {
       "output_type": "stream",
       "stream": "stdout",
       "text": [
        "\n",
        "(3999, 19)\n",
        "rkt"
       ]
      },
      {
       "output_type": "stream",
       "stream": "stdout",
       "text": [
        " (3996, 19) (3996, 57)\n",
        "(3999, 57)"
       ]
      },
      {
       "output_type": "stream",
       "stream": "stdout",
       "text": [
        "\n",
        "(3999, 19)\n",
        "rkt"
       ]
      },
      {
       "output_type": "stream",
       "stream": "stdout",
       "text": [
        " (3996, 19) (3996, 57)\n",
        "(3999, 57)"
       ]
      },
      {
       "output_type": "stream",
       "stream": "stdout",
       "text": [
        "\n",
        "(3999, 19)\n",
        "rkt"
       ]
      },
      {
       "output_type": "stream",
       "stream": "stdout",
       "text": [
        " (3996, 19) (3996, 57)\n",
        "(3999, 57)"
       ]
      },
      {
       "output_type": "stream",
       "stream": "stdout",
       "text": [
        "\n",
        "(3999, 19)\n",
        "rkt"
       ]
      },
      {
       "output_type": "stream",
       "stream": "stdout",
       "text": [
        " (3996, 19) (3996, 57)\n",
        "(3999, 57)"
       ]
      },
      {
       "output_type": "stream",
       "stream": "stdout",
       "text": [
        "\n",
        "(3999, 19)\n",
        "rkt"
       ]
      },
      {
       "output_type": "stream",
       "stream": "stdout",
       "text": [
        " (3996, 19) (3996, 57)\n",
        "(3999, 57)"
       ]
      },
      {
       "output_type": "stream",
       "stream": "stdout",
       "text": [
        "\n",
        "(3999, 19)\n",
        "rkt"
       ]
      },
      {
       "output_type": "stream",
       "stream": "stdout",
       "text": [
        " (3996, 19) (3996, 57)\n",
        "(3999, 57)"
       ]
      },
      {
       "output_type": "stream",
       "stream": "stdout",
       "text": [
        "\n",
        "(3999, 19)\n",
        "rkt"
       ]
      },
      {
       "output_type": "stream",
       "stream": "stdout",
       "text": [
        " (3996, 19) (3996, 57)\n",
        "(3999, 57)"
       ]
      },
      {
       "output_type": "stream",
       "stream": "stdout",
       "text": [
        "\n",
        "(3999, 19)\n",
        "rkt"
       ]
      },
      {
       "output_type": "stream",
       "stream": "stdout",
       "text": [
        " (3996, 19) (3996, 57)\n",
        "(3999, 57)"
       ]
      },
      {
       "output_type": "stream",
       "stream": "stdout",
       "text": [
        "\n",
        "(3999, 19)\n",
        "rkt"
       ]
      },
      {
       "output_type": "stream",
       "stream": "stdout",
       "text": [
        " (3996, 19) (3996, 57)\n",
        "(3999, 57)"
       ]
      },
      {
       "output_type": "stream",
       "stream": "stdout",
       "text": [
        "\n",
        "(3999, 19)\n",
        "rkt"
       ]
      },
      {
       "output_type": "stream",
       "stream": "stdout",
       "text": [
        " (3996, 19) (3996, 57)\n",
        "(3999, 57)"
       ]
      },
      {
       "output_type": "stream",
       "stream": "stdout",
       "text": [
        "\n",
        "(3999, 19)\n",
        "rkt"
       ]
      },
      {
       "output_type": "stream",
       "stream": "stdout",
       "text": [
        " (3996, 19) (3996, 57)\n",
        "(3999, 57)"
       ]
      },
      {
       "output_type": "stream",
       "stream": "stdout",
       "text": [
        "\n",
        "(3999, 19)\n",
        "rkt"
       ]
      },
      {
       "output_type": "stream",
       "stream": "stdout",
       "text": [
        " (3996, 19) (3996, 57)\n",
        "(3999, 57)"
       ]
      },
      {
       "output_type": "stream",
       "stream": "stdout",
       "text": [
        "\n",
        "(3999, 19)\n",
        "rkt"
       ]
      },
      {
       "output_type": "stream",
       "stream": "stdout",
       "text": [
        " (3996, 19) (3996, 57)\n",
        "(3999, 57)"
       ]
      },
      {
       "output_type": "stream",
       "stream": "stdout",
       "text": [
        "\n",
        "(3999, 19)\n",
        "rkt"
       ]
      },
      {
       "output_type": "stream",
       "stream": "stdout",
       "text": [
        " (3996, 19) (3996, 57)\n",
        "(3999, 57)"
       ]
      },
      {
       "output_type": "stream",
       "stream": "stdout",
       "text": [
        "\n",
        "(3999, 19)\n",
        "rkt"
       ]
      },
      {
       "output_type": "stream",
       "stream": "stdout",
       "text": [
        " (3996, 19) (3996, 57)\n",
        "(3999, 57)"
       ]
      },
      {
       "output_type": "stream",
       "stream": "stdout",
       "text": [
        "\n",
        "(3999, 19)\n",
        "rkt"
       ]
      },
      {
       "output_type": "stream",
       "stream": "stdout",
       "text": [
        " (3996, 19) (3996, 57)\n",
        "(3999, 57)"
       ]
      },
      {
       "output_type": "stream",
       "stream": "stdout",
       "text": [
        "\n",
        "(3999, 19)\n",
        "rkt"
       ]
      },
      {
       "output_type": "stream",
       "stream": "stdout",
       "text": [
        " (3996, 19) (3996, 57)\n",
        "(3999, 57)"
       ]
      },
      {
       "output_type": "stream",
       "stream": "stdout",
       "text": [
        "\n",
        "(3999, 19)\n",
        "rkt"
       ]
      },
      {
       "output_type": "stream",
       "stream": "stdout",
       "text": [
        " (3996, 19) (3996, 57)\n",
        "(3999, 57)"
       ]
      },
      {
       "output_type": "stream",
       "stream": "stdout",
       "text": [
        "\n",
        "(3999, 19)\n",
        "rkt"
       ]
      },
      {
       "output_type": "stream",
       "stream": "stdout",
       "text": [
        " (3996, 19) (3996, 57)\n",
        "(3999, 57)"
       ]
      },
      {
       "output_type": "stream",
       "stream": "stdout",
       "text": [
        "\n",
        "(3999, 19)\n",
        "rkt"
       ]
      },
      {
       "output_type": "stream",
       "stream": "stdout",
       "text": [
        " (3996, 19) (3996, 57)\n",
        "(3999, 57)"
       ]
      },
      {
       "output_type": "stream",
       "stream": "stdout",
       "text": [
        "\n",
        "(3999, 19)\n",
        "rkt"
       ]
      },
      {
       "output_type": "stream",
       "stream": "stdout",
       "text": [
        " (3996, 19) (3996, 57)\n",
        "(3999, 57)"
       ]
      },
      {
       "output_type": "stream",
       "stream": "stdout",
       "text": [
        "\n",
        "(3999, 19)\n",
        "rkt"
       ]
      },
      {
       "output_type": "stream",
       "stream": "stdout",
       "text": [
        " (3996, 19) (3996, 57)\n",
        "(3999, 57)"
       ]
      },
      {
       "output_type": "stream",
       "stream": "stdout",
       "text": [
        "\n",
        "(3999, 19)\n",
        "rkt"
       ]
      },
      {
       "output_type": "stream",
       "stream": "stdout",
       "text": [
        " (3996, 19) (3996, 57)\n",
        "(3999, 57)"
       ]
      },
      {
       "output_type": "stream",
       "stream": "stdout",
       "text": [
        "\n",
        "(3999, 19)\n",
        "rkt"
       ]
      },
      {
       "output_type": "stream",
       "stream": "stdout",
       "text": [
        " (3996, 19) (3996, 57)\n",
        "(3999, 57)"
       ]
      },
      {
       "output_type": "stream",
       "stream": "stdout",
       "text": [
        "\n",
        "(3999, 19)\n",
        "rkt"
       ]
      },
      {
       "output_type": "stream",
       "stream": "stdout",
       "text": [
        " (3996, 19) (3996, 57)\n",
        "(3999, 57)"
       ]
      },
      {
       "output_type": "stream",
       "stream": "stdout",
       "text": [
        "\n",
        "(3999, 19)\n",
        "rkt"
       ]
      },
      {
       "output_type": "stream",
       "stream": "stdout",
       "text": [
        " (3996, 19) (3996, 57)\n",
        "(3999, 57)"
       ]
      },
      {
       "output_type": "stream",
       "stream": "stdout",
       "text": [
        "\n",
        "(3999, 19)\n",
        "rkt"
       ]
      },
      {
       "output_type": "stream",
       "stream": "stdout",
       "text": [
        " (3996, 19) (3996, 57)\n",
        "(3999, 57)"
       ]
      },
      {
       "output_type": "stream",
       "stream": "stdout",
       "text": [
        "\n",
        "(3999, 19)\n",
        "rkt"
       ]
      },
      {
       "output_type": "stream",
       "stream": "stdout",
       "text": [
        " (3996, 19) (3996, 57)\n",
        "(3999, 57)"
       ]
      },
      {
       "output_type": "stream",
       "stream": "stdout",
       "text": [
        "\n",
        "(3999, 19)\n",
        "rkt"
       ]
      },
      {
       "output_type": "stream",
       "stream": "stdout",
       "text": [
        " (3996, 19) (3996, 57)\n",
        "(3999, 57)"
       ]
      },
      {
       "output_type": "stream",
       "stream": "stdout",
       "text": [
        "\n",
        "(3999, 19)\n",
        "rkt"
       ]
      },
      {
       "output_type": "stream",
       "stream": "stdout",
       "text": [
        " (3996, 19) (3996, 57)\n",
        "(3999, 57)"
       ]
      },
      {
       "output_type": "stream",
       "stream": "stdout",
       "text": [
        "\n",
        "(3999, 19)\n",
        "rkt"
       ]
      },
      {
       "output_type": "stream",
       "stream": "stdout",
       "text": [
        " (3996, 19) (3996, 57)\n",
        "(3999, 57)"
       ]
      },
      {
       "output_type": "stream",
       "stream": "stdout",
       "text": [
        "\n",
        "(3999, 19)\n",
        "rkt"
       ]
      },
      {
       "output_type": "stream",
       "stream": "stdout",
       "text": [
        " (3996, 19) (3996, 57)\n",
        "(3999, 57)"
       ]
      },
      {
       "output_type": "stream",
       "stream": "stdout",
       "text": [
        "\n",
        "(3999, 19)\n",
        "rkt"
       ]
      },
      {
       "output_type": "stream",
       "stream": "stdout",
       "text": [
        " (3996, 19) (3996, 57)\n",
        "(3999, 57)"
       ]
      },
      {
       "output_type": "stream",
       "stream": "stdout",
       "text": [
        "\n",
        "(3999, 19)\n",
        "rkt"
       ]
      },
      {
       "output_type": "stream",
       "stream": "stdout",
       "text": [
        " (3996, 19) (3996, 57)\n",
        "(3999, 57)"
       ]
      },
      {
       "output_type": "stream",
       "stream": "stdout",
       "text": [
        "\n",
        "(3999, 19)\n",
        "rkt"
       ]
      },
      {
       "output_type": "stream",
       "stream": "stdout",
       "text": [
        " (3996, 19) (3996, 57)\n",
        "(3999, 57)"
       ]
      },
      {
       "output_type": "stream",
       "stream": "stdout",
       "text": [
        "\n",
        "(3999, 19)\n",
        "rkt"
       ]
      },
      {
       "output_type": "stream",
       "stream": "stdout",
       "text": [
        " (3996, 19) (3996, 57)\n",
        "(3999, 57)"
       ]
      },
      {
       "output_type": "stream",
       "stream": "stdout",
       "text": [
        "\n",
        "(3999, 19)\n",
        "rkt"
       ]
      },
      {
       "output_type": "stream",
       "stream": "stdout",
       "text": [
        " (3996, 19) (3996, 57)\n",
        "(3999, 57)"
       ]
      },
      {
       "output_type": "stream",
       "stream": "stdout",
       "text": [
        "\n",
        "(3999, 19)\n",
        "rkt"
       ]
      },
      {
       "output_type": "stream",
       "stream": "stdout",
       "text": [
        " (3996, 19) (3996, 57)\n",
        "(3999, 57)"
       ]
      },
      {
       "output_type": "stream",
       "stream": "stdout",
       "text": [
        "\n",
        "(3999, 19)\n",
        "rkt"
       ]
      },
      {
       "output_type": "stream",
       "stream": "stdout",
       "text": [
        " (3996, 19) (3996, 57)\n",
        "(3999, 57)"
       ]
      },
      {
       "output_type": "stream",
       "stream": "stdout",
       "text": [
        "\n",
        "(3999, 19)\n",
        "rkt"
       ]
      },
      {
       "output_type": "stream",
       "stream": "stdout",
       "text": [
        " (3996, 19) (3996, 57)\n",
        "(3999, 57)"
       ]
      },
      {
       "output_type": "stream",
       "stream": "stdout",
       "text": [
        "\n",
        "(3999, 19)\n",
        "rkt"
       ]
      },
      {
       "output_type": "stream",
       "stream": "stdout",
       "text": [
        " (3996, 19) (3996, 57)\n",
        "(3999, 57)"
       ]
      },
      {
       "output_type": "stream",
       "stream": "stdout",
       "text": [
        "\n",
        "(3999, 19)\n",
        "rkt"
       ]
      },
      {
       "output_type": "stream",
       "stream": "stdout",
       "text": [
        " (3996, 19) (3996, 57)\n",
        "(3999, 57)"
       ]
      },
      {
       "output_type": "stream",
       "stream": "stdout",
       "text": [
        "\n",
        "(3999, 19)\n",
        "rkt"
       ]
      },
      {
       "output_type": "stream",
       "stream": "stdout",
       "text": [
        " (3996, 19) (3996, 57)\n",
        "(3999, 57)"
       ]
      },
      {
       "output_type": "stream",
       "stream": "stdout",
       "text": [
        "\n",
        "(3999, 19)\n",
        "rkt"
       ]
      },
      {
       "output_type": "stream",
       "stream": "stdout",
       "text": [
        " (3996, 19) (3996, 57)\n",
        "(3999, 57)"
       ]
      },
      {
       "output_type": "stream",
       "stream": "stdout",
       "text": [
        "\n",
        "(3999, 19)\n",
        "rkt"
       ]
      },
      {
       "output_type": "stream",
       "stream": "stdout",
       "text": [
        " (3996, 19) (3996, 57)\n",
        "(3999, 57)"
       ]
      },
      {
       "output_type": "stream",
       "stream": "stdout",
       "text": [
        "\n",
        "(3999, 19)\n",
        "rkt"
       ]
      },
      {
       "output_type": "stream",
       "stream": "stdout",
       "text": [
        " (3996, 19) (3996, 57)\n",
        "(3999, 57)"
       ]
      },
      {
       "output_type": "stream",
       "stream": "stdout",
       "text": [
        "\n",
        "(3999, 19)\n",
        "rkt"
       ]
      },
      {
       "output_type": "stream",
       "stream": "stdout",
       "text": [
        " (3996, 19) (3996, 57)\n",
        "(3999, 57)"
       ]
      },
      {
       "output_type": "stream",
       "stream": "stdout",
       "text": [
        "\n",
        "(3999, 19)\n",
        "rkt"
       ]
      },
      {
       "output_type": "stream",
       "stream": "stdout",
       "text": [
        " (3996, 19) (3996, 57)\n",
        "(3999, 57)"
       ]
      },
      {
       "output_type": "stream",
       "stream": "stdout",
       "text": [
        "\n",
        "(3999, 19)\n",
        "rkt"
       ]
      },
      {
       "output_type": "stream",
       "stream": "stdout",
       "text": [
        " (3996, 19) (3996, 57)\n",
        "(3999, 57)"
       ]
      },
      {
       "output_type": "stream",
       "stream": "stdout",
       "text": [
        "\n",
        "(3999, 19)\n",
        "rkt"
       ]
      },
      {
       "output_type": "stream",
       "stream": "stdout",
       "text": [
        " (3996, 19) (3996, 57)\n",
        "(3999, 57)"
       ]
      },
      {
       "output_type": "stream",
       "stream": "stdout",
       "text": [
        "\n",
        "(3999, 19)\n",
        "rkt"
       ]
      },
      {
       "output_type": "stream",
       "stream": "stdout",
       "text": [
        " (3996, 19) (3996, 57)\n",
        "(3999, 57)"
       ]
      },
      {
       "output_type": "stream",
       "stream": "stdout",
       "text": [
        "\n",
        "(3999, 19)\n",
        "rkt"
       ]
      },
      {
       "output_type": "stream",
       "stream": "stdout",
       "text": [
        " (3996, 19) (3996, 57)\n",
        "(3999, 57)"
       ]
      },
      {
       "output_type": "stream",
       "stream": "stdout",
       "text": [
        "\n",
        "(3999, 19)\n",
        "rkt"
       ]
      },
      {
       "output_type": "stream",
       "stream": "stdout",
       "text": [
        " (3996, 19) (3996, 57)\n",
        "(3999, 57)"
       ]
      },
      {
       "output_type": "stream",
       "stream": "stdout",
       "text": [
        "\n",
        "(3999, 19)\n",
        "rkt"
       ]
      },
      {
       "output_type": "stream",
       "stream": "stdout",
       "text": [
        " (3996, 19) (3996, 57)\n",
        "(3999, 57)"
       ]
      },
      {
       "output_type": "stream",
       "stream": "stdout",
       "text": [
        "\n",
        "(3999, 19)\n",
        "rkt"
       ]
      },
      {
       "output_type": "stream",
       "stream": "stdout",
       "text": [
        " (3996, 19) (3996, 57)\n",
        "(3999, 57)"
       ]
      },
      {
       "output_type": "stream",
       "stream": "stdout",
       "text": [
        "\n",
        "(3999, 19)\n",
        "rkt"
       ]
      },
      {
       "output_type": "stream",
       "stream": "stdout",
       "text": [
        " (3996, 19) (3996, 57)\n",
        "(3999, 57)"
       ]
      },
      {
       "output_type": "stream",
       "stream": "stdout",
       "text": [
        "\n",
        "(3999, 19)\n",
        "rkt"
       ]
      },
      {
       "output_type": "stream",
       "stream": "stdout",
       "text": [
        " (3996, 19) (3996, 57)\n",
        "(3999, 57)"
       ]
      },
      {
       "output_type": "stream",
       "stream": "stdout",
       "text": [
        "\n",
        "(3999, 19)\n",
        "rkt"
       ]
      },
      {
       "output_type": "stream",
       "stream": "stdout",
       "text": [
        " (3996, 19) (3996, 57)\n",
        "(3999, 57)"
       ]
      },
      {
       "output_type": "stream",
       "stream": "stdout",
       "text": [
        "\n",
        "(3999, 19)\n",
        "rkt"
       ]
      },
      {
       "output_type": "stream",
       "stream": "stdout",
       "text": [
        " (3996, 19) (3996, 57)\n",
        "(3999, 57)"
       ]
      },
      {
       "output_type": "stream",
       "stream": "stdout",
       "text": [
        "\n",
        "(3999, 19)\n",
        "rkt"
       ]
      },
      {
       "output_type": "stream",
       "stream": "stdout",
       "text": [
        " (3996, 19) (3996, 57)\n",
        "(3999, 57)"
       ]
      },
      {
       "output_type": "stream",
       "stream": "stdout",
       "text": [
        "\n",
        "(3999, 19)\n",
        "rkt"
       ]
      },
      {
       "output_type": "stream",
       "stream": "stdout",
       "text": [
        " (3996, 19) (3996, 57)\n",
        "(3999, 57)"
       ]
      },
      {
       "output_type": "stream",
       "stream": "stdout",
       "text": [
        "\n",
        "(3999, 19)\n",
        "rkt"
       ]
      },
      {
       "output_type": "stream",
       "stream": "stdout",
       "text": [
        " (3996, 19) (3996, 57)\n",
        "(3999, 57)"
       ]
      },
      {
       "output_type": "stream",
       "stream": "stdout",
       "text": [
        "\n",
        "(3999, 19)\n",
        "rkt"
       ]
      },
      {
       "output_type": "stream",
       "stream": "stdout",
       "text": [
        " (3996, 19) (3996, 57)\n",
        "(3999, 57)"
       ]
      },
      {
       "output_type": "stream",
       "stream": "stdout",
       "text": [
        "\n",
        "(3999, 19)\n",
        "rkt"
       ]
      },
      {
       "output_type": "stream",
       "stream": "stdout",
       "text": [
        " (3996, 19) (3996, 57)\n",
        "(3999, 57)"
       ]
      },
      {
       "output_type": "stream",
       "stream": "stdout",
       "text": [
        "\n",
        "(3999, 19)\n",
        "rkt"
       ]
      },
      {
       "output_type": "stream",
       "stream": "stdout",
       "text": [
        " (3996, 19) (3996, 57)\n",
        "(3999, 57)"
       ]
      },
      {
       "output_type": "stream",
       "stream": "stdout",
       "text": [
        "\n",
        "(3999, 19)\n",
        "rkt"
       ]
      },
      {
       "output_type": "stream",
       "stream": "stdout",
       "text": [
        " (3996, 19) (3996, 57)\n",
        "(3999, 57)"
       ]
      },
      {
       "output_type": "stream",
       "stream": "stdout",
       "text": [
        "\n",
        "(3999, 19)\n",
        "rkt"
       ]
      },
      {
       "output_type": "stream",
       "stream": "stdout",
       "text": [
        " (3996, 19) (3996, 57)\n",
        "(3999, 57)"
       ]
      },
      {
       "output_type": "stream",
       "stream": "stdout",
       "text": [
        "\n",
        "(3999, 19)\n",
        "rkt"
       ]
      },
      {
       "output_type": "stream",
       "stream": "stdout",
       "text": [
        " (3996, 19) (3996, 57)\n",
        "(3999, 57)"
       ]
      },
      {
       "output_type": "stream",
       "stream": "stdout",
       "text": [
        "\n",
        "(3999, 19)\n",
        "rkt"
       ]
      },
      {
       "output_type": "stream",
       "stream": "stdout",
       "text": [
        " (3996, 19) (3996, 57)\n",
        "(3999, 57)"
       ]
      },
      {
       "output_type": "stream",
       "stream": "stdout",
       "text": [
        "\n",
        "(3999, 19)\n",
        "rkt"
       ]
      },
      {
       "output_type": "stream",
       "stream": "stdout",
       "text": [
        " (3996, 19) (3996, 57)\n",
        "(3999, 57)"
       ]
      },
      {
       "output_type": "stream",
       "stream": "stdout",
       "text": [
        "\n",
        "(3999, 19)\n",
        "rkt"
       ]
      },
      {
       "output_type": "stream",
       "stream": "stdout",
       "text": [
        " (3996, 19) (3996, 57)\n",
        "(3999, 57)"
       ]
      },
      {
       "output_type": "stream",
       "stream": "stdout",
       "text": [
        "\n",
        "(3999, 19)\n",
        "rkt"
       ]
      },
      {
       "output_type": "stream",
       "stream": "stdout",
       "text": [
        " (3996, 19) (3996, 57)\n",
        "(3999, 57)"
       ]
      },
      {
       "output_type": "stream",
       "stream": "stdout",
       "text": [
        "\n",
        "(3999, 19)\n",
        "rkt"
       ]
      },
      {
       "output_type": "stream",
       "stream": "stdout",
       "text": [
        " (3996, 19) (3996, 57)\n",
        "(3999, 57)"
       ]
      },
      {
       "output_type": "stream",
       "stream": "stdout",
       "text": [
        "\n",
        "(3999, 19)\n",
        "rkt"
       ]
      },
      {
       "output_type": "stream",
       "stream": "stdout",
       "text": [
        " (3996, 19) (3996, 57)\n",
        "(3999, 57)"
       ]
      },
      {
       "output_type": "stream",
       "stream": "stdout",
       "text": [
        "\n",
        "(3999, 19)\n",
        "rkt"
       ]
      },
      {
       "output_type": "stream",
       "stream": "stdout",
       "text": [
        " (3996, 19) (3996, 57)\n",
        "(3999, 57)"
       ]
      },
      {
       "output_type": "stream",
       "stream": "stdout",
       "text": [
        "\n",
        "(3999, 19)\n",
        "rkt"
       ]
      },
      {
       "output_type": "stream",
       "stream": "stdout",
       "text": [
        " (3996, 19) (3996, 57)\n",
        "(3999, 57)"
       ]
      },
      {
       "output_type": "stream",
       "stream": "stdout",
       "text": [
        "\n",
        "(3999, 19)\n",
        "rkt"
       ]
      },
      {
       "output_type": "stream",
       "stream": "stdout",
       "text": [
        " (3996, 19) (3996, 57)\n",
        "(3999, 57)"
       ]
      },
      {
       "output_type": "stream",
       "stream": "stdout",
       "text": [
        "\n",
        "(3999, 19)\n",
        "rkt"
       ]
      },
      {
       "output_type": "stream",
       "stream": "stdout",
       "text": [
        " (3996, 19) (3996, 57)\n",
        "(3999, 57)"
       ]
      },
      {
       "output_type": "stream",
       "stream": "stdout",
       "text": [
        "\n",
        "(3999, 19)\n",
        "rkt"
       ]
      },
      {
       "output_type": "stream",
       "stream": "stdout",
       "text": [
        " (3996, 19) (3996, 57)\n",
        "(3999, 57)"
       ]
      },
      {
       "output_type": "stream",
       "stream": "stdout",
       "text": [
        "\n",
        "(3999, 19)\n",
        "rkt"
       ]
      },
      {
       "output_type": "stream",
       "stream": "stdout",
       "text": [
        " (3996, 19) (3996, 57)\n",
        "(3999, 57)"
       ]
      },
      {
       "output_type": "stream",
       "stream": "stdout",
       "text": [
        "\n",
        "(3999, 19)\n",
        "rkt"
       ]
      },
      {
       "output_type": "stream",
       "stream": "stdout",
       "text": [
        " (3996, 19) (3996, 57)\n",
        "(3999, 57)"
       ]
      },
      {
       "output_type": "stream",
       "stream": "stdout",
       "text": [
        "\n",
        "(3999, 19)\n",
        "rkt"
       ]
      },
      {
       "output_type": "stream",
       "stream": "stdout",
       "text": [
        " (3996, 19) (3996, 57)\n",
        "(3999, 57)"
       ]
      },
      {
       "output_type": "stream",
       "stream": "stdout",
       "text": [
        "\n",
        "(3999, 19)\n",
        "rkt"
       ]
      },
      {
       "output_type": "stream",
       "stream": "stdout",
       "text": [
        " (3996, 19) (3996, 57)\n",
        "(3999, 57)"
       ]
      },
      {
       "output_type": "stream",
       "stream": "stdout",
       "text": [
        "\n",
        "(3999, 19)\n",
        "rkt"
       ]
      },
      {
       "output_type": "stream",
       "stream": "stdout",
       "text": [
        " (3996, 19) (3996, 57)\n",
        "(3999, 57)"
       ]
      },
      {
       "output_type": "stream",
       "stream": "stdout",
       "text": [
        "\n",
        "(3999, 19)\n",
        "rkt"
       ]
      },
      {
       "output_type": "stream",
       "stream": "stdout",
       "text": [
        " (3996, 19) (3996, 57)\n",
        "(3999, 57)"
       ]
      },
      {
       "output_type": "stream",
       "stream": "stdout",
       "text": [
        "\n",
        "(3999, 19)\n",
        "rkt"
       ]
      },
      {
       "output_type": "stream",
       "stream": "stdout",
       "text": [
        " (3996, 19) (3996, 57)\n",
        "(3999, 57)"
       ]
      },
      {
       "output_type": "stream",
       "stream": "stdout",
       "text": [
        "\n",
        "(3999, 19)\n",
        "rkt"
       ]
      },
      {
       "output_type": "stream",
       "stream": "stdout",
       "text": [
        " (3996, 19) (3996, 57)\n",
        "(3999, 57)"
       ]
      },
      {
       "output_type": "stream",
       "stream": "stdout",
       "text": [
        "\n",
        "(3999, 19)\n",
        "rkt"
       ]
      },
      {
       "output_type": "stream",
       "stream": "stdout",
       "text": [
        " (3996, 19) (3996, 57)\n",
        "(3999, 57)"
       ]
      },
      {
       "output_type": "stream",
       "stream": "stdout",
       "text": [
        "\n",
        "(3999, 19)\n",
        "rkt"
       ]
      },
      {
       "output_type": "stream",
       "stream": "stdout",
       "text": [
        " (3996, 19) (3996, 57)\n",
        "(3999, 57)"
       ]
      },
      {
       "output_type": "stream",
       "stream": "stdout",
       "text": [
        "\n",
        "(3999, 19)\n",
        "rkt"
       ]
      },
      {
       "output_type": "stream",
       "stream": "stdout",
       "text": [
        " (3996, 19) (3996, 57)\n",
        "(3999, 57)"
       ]
      },
      {
       "output_type": "stream",
       "stream": "stdout",
       "text": [
        "\n",
        "(3999, 19)\n",
        "rkt"
       ]
      },
      {
       "output_type": "stream",
       "stream": "stdout",
       "text": [
        " (3996, 19) (3996, 57)\n",
        "(3999, 57)"
       ]
      },
      {
       "output_type": "stream",
       "stream": "stdout",
       "text": [
        "\n",
        "(3999, 19)\n",
        "rkt"
       ]
      },
      {
       "output_type": "stream",
       "stream": "stdout",
       "text": [
        " (3996, 19) (3996, 57)\n",
        "(3999, 57)"
       ]
      },
      {
       "output_type": "stream",
       "stream": "stdout",
       "text": [
        "\n",
        "(3999, 19)\n",
        "rkt"
       ]
      },
      {
       "output_type": "stream",
       "stream": "stdout",
       "text": [
        " (3996, 19) (3996, 57)\n",
        "(3999, 57)"
       ]
      },
      {
       "output_type": "stream",
       "stream": "stdout",
       "text": [
        "\n",
        "(3999, 19)\n",
        "rkt"
       ]
      },
      {
       "output_type": "stream",
       "stream": "stdout",
       "text": [
        " (3996, 19) (3996, 57)\n",
        "(3999, 57)"
       ]
      },
      {
       "output_type": "stream",
       "stream": "stdout",
       "text": [
        "\n",
        "(3999, 19)\n",
        "rkt"
       ]
      },
      {
       "output_type": "stream",
       "stream": "stdout",
       "text": [
        " (3996, 19) (3996, 57)\n",
        "(3999, 57)"
       ]
      },
      {
       "output_type": "stream",
       "stream": "stdout",
       "text": [
        "\n",
        "(3999, 19)\n",
        "rkt"
       ]
      },
      {
       "output_type": "stream",
       "stream": "stdout",
       "text": [
        " (3996, 19) (3996, 57)\n",
        "(3999, 57)"
       ]
      },
      {
       "output_type": "stream",
       "stream": "stdout",
       "text": [
        "\n",
        "(3999, 19)\n",
        "rkt"
       ]
      },
      {
       "output_type": "stream",
       "stream": "stdout",
       "text": [
        " (3996, 19) (3996, 57)\n",
        "(3999, 57)"
       ]
      },
      {
       "output_type": "stream",
       "stream": "stdout",
       "text": [
        "\n",
        "(3999, 19)\n",
        "rkt"
       ]
      },
      {
       "output_type": "stream",
       "stream": "stdout",
       "text": [
        " (3996, 19) (3996, 57)\n",
        "(3999, 57)"
       ]
      },
      {
       "output_type": "stream",
       "stream": "stdout",
       "text": [
        "\n",
        "(3999, 19)\n",
        "rkt"
       ]
      },
      {
       "output_type": "stream",
       "stream": "stdout",
       "text": [
        " (3996, 19) (3996, 57)\n",
        "(3999, 57)"
       ]
      },
      {
       "output_type": "stream",
       "stream": "stdout",
       "text": [
        "\n",
        "(3999, 19)\n",
        "rkt"
       ]
      },
      {
       "output_type": "stream",
       "stream": "stdout",
       "text": [
        " (3996, 19) (3996, 57)\n",
        "(3999, 57)"
       ]
      },
      {
       "output_type": "stream",
       "stream": "stdout",
       "text": [
        "\n",
        "(3999, 19)\n",
        "rkt"
       ]
      },
      {
       "output_type": "stream",
       "stream": "stdout",
       "text": [
        " (3996, 19) (3996, 57)\n",
        "(3999, 57)"
       ]
      },
      {
       "output_type": "stream",
       "stream": "stdout",
       "text": [
        "\n",
        "(3999, 19)\n",
        "rkt"
       ]
      },
      {
       "output_type": "stream",
       "stream": "stdout",
       "text": [
        " (3996, 19) (3996, 57)\n",
        "(3999, 57)"
       ]
      },
      {
       "output_type": "stream",
       "stream": "stdout",
       "text": [
        "\n",
        "(3999, 19)\n",
        "rkt"
       ]
      },
      {
       "output_type": "stream",
       "stream": "stdout",
       "text": [
        " (3996, 19) (3996, 57)\n",
        "(3999, 57)"
       ]
      },
      {
       "output_type": "stream",
       "stream": "stdout",
       "text": [
        "\n",
        "(3999, 19)\n",
        "rkt"
       ]
      },
      {
       "output_type": "stream",
       "stream": "stdout",
       "text": [
        " (3996, 19) (3996, 57)\n",
        "(3999, 57)"
       ]
      },
      {
       "output_type": "stream",
       "stream": "stdout",
       "text": [
        "\n",
        "(3999, 19)\n",
        "rkt"
       ]
      },
      {
       "output_type": "stream",
       "stream": "stdout",
       "text": [
        " (3996, 19) (3996, 57)\n",
        "(3999, 57)"
       ]
      },
      {
       "output_type": "stream",
       "stream": "stdout",
       "text": [
        "\n",
        "(3999, 19)\n",
        "rkt"
       ]
      },
      {
       "output_type": "stream",
       "stream": "stdout",
       "text": [
        " (3996, 19) (3996, 57)\n",
        "(3999, 57)"
       ]
      },
      {
       "output_type": "stream",
       "stream": "stdout",
       "text": [
        "\n",
        "(3999, 19)\n",
        "rkt"
       ]
      },
      {
       "output_type": "stream",
       "stream": "stdout",
       "text": [
        " (3996, 19) (3996, 57)\n",
        "(3999, 57)"
       ]
      },
      {
       "output_type": "stream",
       "stream": "stdout",
       "text": [
        "\n",
        "(3999, 19)\n",
        "rkt"
       ]
      },
      {
       "output_type": "stream",
       "stream": "stdout",
       "text": [
        " (3996, 19) (3996, 57)\n",
        "(3999, 57)"
       ]
      },
      {
       "output_type": "stream",
       "stream": "stdout",
       "text": [
        "\n",
        "(3999, 19)\n",
        "rkt"
       ]
      },
      {
       "output_type": "stream",
       "stream": "stdout",
       "text": [
        " (3996, 19) (3996, 57)\n",
        "(3999, 57)"
       ]
      },
      {
       "output_type": "stream",
       "stream": "stdout",
       "text": [
        "\n",
        "(3999, 19)\n",
        "rkt"
       ]
      },
      {
       "output_type": "stream",
       "stream": "stdout",
       "text": [
        " (3996, 19) (3996, 57)\n",
        "(3999, 57)"
       ]
      },
      {
       "output_type": "stream",
       "stream": "stdout",
       "text": [
        "\n",
        "(3999, 19)\n",
        "rkt"
       ]
      },
      {
       "output_type": "stream",
       "stream": "stdout",
       "text": [
        " (3996, 19) (3996, 57)\n",
        "(3999, 57)"
       ]
      },
      {
       "output_type": "stream",
       "stream": "stdout",
       "text": [
        "\n",
        "(3999, 19)\n",
        "rkt"
       ]
      },
      {
       "output_type": "stream",
       "stream": "stdout",
       "text": [
        " (3996, 19) (3996, 57)\n",
        "(3999, 57)"
       ]
      },
      {
       "output_type": "stream",
       "stream": "stdout",
       "text": [
        "\n",
        "(3999, 19)\n",
        "rkt"
       ]
      },
      {
       "output_type": "stream",
       "stream": "stdout",
       "text": [
        " (3996, 19) (3996, 57)\n",
        "(3999, 57)"
       ]
      },
      {
       "output_type": "stream",
       "stream": "stdout",
       "text": [
        "\n",
        "(3999, 19)\n",
        "rkt"
       ]
      },
      {
       "output_type": "stream",
       "stream": "stdout",
       "text": [
        " (3996, 19) (3996, 57)\n",
        "(3999, 57)"
       ]
      },
      {
       "output_type": "stream",
       "stream": "stdout",
       "text": [
        "\n",
        "(3999, 19)\n",
        "rkt"
       ]
      },
      {
       "output_type": "stream",
       "stream": "stdout",
       "text": [
        " (3996, 19) (3996, 57)\n",
        "(3999, 57)"
       ]
      },
      {
       "output_type": "stream",
       "stream": "stdout",
       "text": [
        "\n",
        "(3999, 19)\n",
        "rkt"
       ]
      },
      {
       "output_type": "stream",
       "stream": "stdout",
       "text": [
        " (3996, 19) (3996, 57)\n",
        "(3999, 57)"
       ]
      },
      {
       "output_type": "stream",
       "stream": "stdout",
       "text": [
        "\n",
        "(3999, 19)\n",
        "rkt"
       ]
      },
      {
       "output_type": "stream",
       "stream": "stdout",
       "text": [
        " (3996, 19) (3996, 57)\n",
        "(3999, 57)"
       ]
      },
      {
       "output_type": "stream",
       "stream": "stdout",
       "text": [
        "\n",
        "(3999, 19)\n",
        "rkt"
       ]
      },
      {
       "output_type": "stream",
       "stream": "stdout",
       "text": [
        " (3996, 19) (3996, 57)\n",
        "(3999, 57)"
       ]
      },
      {
       "output_type": "stream",
       "stream": "stdout",
       "text": [
        "\n",
        "(3999, 19)\n",
        "rkt"
       ]
      },
      {
       "output_type": "stream",
       "stream": "stdout",
       "text": [
        " (3996, 19) (3996, 57)\n",
        "(3999, 57)"
       ]
      },
      {
       "output_type": "stream",
       "stream": "stdout",
       "text": [
        "\n",
        "(3999, 19)\n",
        "rkt"
       ]
      },
      {
       "output_type": "stream",
       "stream": "stdout",
       "text": [
        " (3996, 19) (3996, 57)\n",
        "(3999, 57)"
       ]
      },
      {
       "output_type": "stream",
       "stream": "stdout",
       "text": [
        "\n",
        "(3999, 19)\n",
        "rkt"
       ]
      },
      {
       "output_type": "stream",
       "stream": "stdout",
       "text": [
        " (3996, 19) (3996, 57)\n",
        "(3999, 57)"
       ]
      },
      {
       "output_type": "stream",
       "stream": "stdout",
       "text": [
        "\n",
        "(3999, 19)\n",
        "rkt"
       ]
      },
      {
       "output_type": "stream",
       "stream": "stdout",
       "text": [
        " (3996, 19) (3996, 57)\n",
        "(3999, 57)"
       ]
      },
      {
       "output_type": "stream",
       "stream": "stdout",
       "text": [
        "\n",
        "(3999, 19)\n",
        "rkt"
       ]
      },
      {
       "output_type": "stream",
       "stream": "stdout",
       "text": [
        " (3996, 19) (3996, 57)\n",
        "(3999, 57)"
       ]
      },
      {
       "output_type": "stream",
       "stream": "stdout",
       "text": [
        "\n",
        "(3999, 19)\n",
        "rkt"
       ]
      },
      {
       "output_type": "stream",
       "stream": "stdout",
       "text": [
        " (3996, 19) (3996, 57)\n",
        "(3999, 57)"
       ]
      },
      {
       "output_type": "stream",
       "stream": "stdout",
       "text": [
        "\n",
        "(3999, 19)\n",
        "rkt"
       ]
      },
      {
       "output_type": "stream",
       "stream": "stdout",
       "text": [
        " (3996, 19) (3996, 57)\n",
        "(3999, 57)"
       ]
      },
      {
       "output_type": "stream",
       "stream": "stdout",
       "text": [
        "\n",
        "(3999, 19)\n",
        "rkt"
       ]
      },
      {
       "output_type": "stream",
       "stream": "stdout",
       "text": [
        " (3996, 19) (3996, 57)\n",
        "(3999, 57)"
       ]
      },
      {
       "output_type": "stream",
       "stream": "stdout",
       "text": [
        "\n",
        "(3999, 19)\n",
        "rkt"
       ]
      },
      {
       "output_type": "stream",
       "stream": "stdout",
       "text": [
        " (3996, 19) (3996, 57)\n",
        "(3999, 57)"
       ]
      },
      {
       "output_type": "stream",
       "stream": "stdout",
       "text": [
        "\n",
        "(3999, 19)\n",
        "rkt"
       ]
      },
      {
       "output_type": "stream",
       "stream": "stdout",
       "text": [
        " (3996, 19) (3996, 57)\n",
        "(3999, 57)"
       ]
      },
      {
       "output_type": "stream",
       "stream": "stdout",
       "text": [
        "\n",
        "(3999, 19)\n",
        "rkt"
       ]
      },
      {
       "output_type": "stream",
       "stream": "stdout",
       "text": [
        " (3996, 19) (3996, 57)\n",
        "(3999, 57)"
       ]
      },
      {
       "output_type": "stream",
       "stream": "stdout",
       "text": [
        "\n",
        "(3999, 19)\n",
        "rkt"
       ]
      },
      {
       "output_type": "stream",
       "stream": "stdout",
       "text": [
        " (3996, 19) (3996, 57)\n",
        "(3999, 57)"
       ]
      },
      {
       "output_type": "stream",
       "stream": "stdout",
       "text": [
        "\n",
        "(3999, 19)\n",
        "rkt"
       ]
      },
      {
       "output_type": "stream",
       "stream": "stdout",
       "text": [
        " (3996, 19) (3996, 57)\n",
        "(3999, 57)"
       ]
      },
      {
       "output_type": "stream",
       "stream": "stdout",
       "text": [
        "\n",
        "(3999, 19)\n",
        "rkt"
       ]
      },
      {
       "output_type": "stream",
       "stream": "stdout",
       "text": [
        " (3996, 19) (3996, 57)\n",
        "(3999, 57)"
       ]
      },
      {
       "output_type": "stream",
       "stream": "stdout",
       "text": [
        "\n",
        "(3999, 19)\n",
        "rkt"
       ]
      },
      {
       "output_type": "stream",
       "stream": "stdout",
       "text": [
        " (3996, 19) (3996, 57)\n",
        "(3999, 57)"
       ]
      },
      {
       "output_type": "stream",
       "stream": "stdout",
       "text": [
        "\n",
        "(3999, 19)\n",
        "rkt"
       ]
      },
      {
       "output_type": "stream",
       "stream": "stdout",
       "text": [
        " (3996, 19) (3996, 57)\n",
        "(3999, 57)"
       ]
      },
      {
       "output_type": "stream",
       "stream": "stdout",
       "text": [
        "\n",
        "(3999, 19)\n",
        "rkt"
       ]
      },
      {
       "output_type": "stream",
       "stream": "stdout",
       "text": [
        " (3996, 19) (3996, 57)\n",
        "(3999, 57)"
       ]
      },
      {
       "output_type": "stream",
       "stream": "stdout",
       "text": [
        "\n",
        "(3999, 19)\n",
        "rkt"
       ]
      },
      {
       "output_type": "stream",
       "stream": "stdout",
       "text": [
        " (3996, 19) (3996, 57)\n",
        "(3999, 57)"
       ]
      },
      {
       "output_type": "stream",
       "stream": "stdout",
       "text": [
        "\n",
        "(3999, 19)\n",
        "rkt"
       ]
      },
      {
       "output_type": "stream",
       "stream": "stdout",
       "text": [
        " (3996, 19) (3996, 57)\n",
        "(3999, 57)"
       ]
      },
      {
       "output_type": "stream",
       "stream": "stdout",
       "text": [
        "\n",
        "(3999, 19)\n",
        "rkt"
       ]
      },
      {
       "output_type": "stream",
       "stream": "stdout",
       "text": [
        " (3996, 19) (3996, 57)\n",
        "(3999, 57)"
       ]
      },
      {
       "output_type": "stream",
       "stream": "stdout",
       "text": [
        "\n",
        "(3999, 19)\n",
        "rkt"
       ]
      },
      {
       "output_type": "stream",
       "stream": "stdout",
       "text": [
        " (3996, 19) (3996, 57)\n",
        "(3999, 57)"
       ]
      },
      {
       "output_type": "stream",
       "stream": "stdout",
       "text": [
        "\n",
        "(3999, 19)\n",
        "rkt"
       ]
      },
      {
       "output_type": "stream",
       "stream": "stdout",
       "text": [
        " (3996, 19) (3996, 57)\n",
        "(3999, 57)"
       ]
      },
      {
       "output_type": "stream",
       "stream": "stdout",
       "text": [
        "\n",
        "(3999, 19)\n",
        "rkt"
       ]
      },
      {
       "output_type": "stream",
       "stream": "stdout",
       "text": [
        " (3996, 19) (3996, 57)\n",
        "(3999, 57)"
       ]
      },
      {
       "output_type": "stream",
       "stream": "stdout",
       "text": [
        "\n",
        "(3999, 19)\n",
        "rkt"
       ]
      },
      {
       "output_type": "stream",
       "stream": "stdout",
       "text": [
        " (3996, 19) (3996, 57)\n",
        "(3999, 57)"
       ]
      },
      {
       "output_type": "stream",
       "stream": "stdout",
       "text": [
        "\n",
        "(3999, 19)\n",
        "rkt"
       ]
      },
      {
       "output_type": "stream",
       "stream": "stdout",
       "text": [
        " (3996, 19) (3996, 57)\n",
        "(3999, 57)"
       ]
      },
      {
       "output_type": "stream",
       "stream": "stdout",
       "text": [
        "\n",
        "(3999, 19)\n",
        "rkt"
       ]
      },
      {
       "output_type": "stream",
       "stream": "stdout",
       "text": [
        " (3996, 19) (3996, 57)\n",
        "(3999, 57)"
       ]
      },
      {
       "output_type": "stream",
       "stream": "stdout",
       "text": [
        "\n",
        "(3999, 19)\n",
        "rkt"
       ]
      },
      {
       "output_type": "stream",
       "stream": "stdout",
       "text": [
        " (3996, 19) (3996, 57)\n",
        "(3999, 57)"
       ]
      },
      {
       "output_type": "stream",
       "stream": "stdout",
       "text": [
        "\n",
        "(3999, 19)\n",
        "rkt"
       ]
      },
      {
       "output_type": "stream",
       "stream": "stdout",
       "text": [
        " (3996, 19) (3996, 57)\n",
        "(3999, 57)"
       ]
      },
      {
       "output_type": "stream",
       "stream": "stdout",
       "text": [
        "\n",
        "(3999, 19)\n",
        "rkt"
       ]
      },
      {
       "output_type": "stream",
       "stream": "stdout",
       "text": [
        " (3996, 19) (3996, 57)\n",
        "(3999, 57)"
       ]
      },
      {
       "output_type": "stream",
       "stream": "stdout",
       "text": [
        "\n",
        "(3999, 19)\n",
        "rkt"
       ]
      },
      {
       "output_type": "stream",
       "stream": "stdout",
       "text": [
        " (3996, 19) (3996, 57)\n",
        "(3999, 57)"
       ]
      },
      {
       "output_type": "stream",
       "stream": "stdout",
       "text": [
        "\n",
        "(3999, 19)\n",
        "rkt"
       ]
      },
      {
       "output_type": "stream",
       "stream": "stdout",
       "text": [
        " (3996, 19) (3996, 57)\n",
        "(3999, 57)"
       ]
      },
      {
       "output_type": "stream",
       "stream": "stdout",
       "text": [
        "\n",
        "(3999, 19)\n",
        "rkt"
       ]
      },
      {
       "output_type": "stream",
       "stream": "stdout",
       "text": [
        " (3996, 19) (3996, 57)\n",
        "(3999, 57)"
       ]
      },
      {
       "output_type": "stream",
       "stream": "stdout",
       "text": [
        "\n",
        "(3999, 19)\n",
        "rkt"
       ]
      },
      {
       "output_type": "stream",
       "stream": "stdout",
       "text": [
        " (3996, 19) (3996, 57)\n",
        "(3999, 57)"
       ]
      },
      {
       "output_type": "stream",
       "stream": "stdout",
       "text": [
        "\n",
        "(3999, 19)\n",
        "rkt"
       ]
      },
      {
       "output_type": "stream",
       "stream": "stdout",
       "text": [
        " (3996, 19) (3996, 57)\n",
        "(3999, 57)"
       ]
      },
      {
       "output_type": "stream",
       "stream": "stdout",
       "text": [
        "\n",
        "(3999, 19)\n",
        "rkt"
       ]
      },
      {
       "output_type": "stream",
       "stream": "stdout",
       "text": [
        " (3996, 19) (3996, 57)\n",
        "(3999, 57)"
       ]
      },
      {
       "output_type": "stream",
       "stream": "stdout",
       "text": [
        "\n",
        "(3999, 19)\n",
        "rkt"
       ]
      },
      {
       "output_type": "stream",
       "stream": "stdout",
       "text": [
        " (3996, 19) (3996, 57)\n",
        "(3999, 57)"
       ]
      },
      {
       "output_type": "stream",
       "stream": "stdout",
       "text": [
        "\n",
        "(3999, 19)\n",
        "rkt"
       ]
      },
      {
       "output_type": "stream",
       "stream": "stdout",
       "text": [
        " (3996, 19) (3996, 57)\n",
        "(3999, 57)"
       ]
      },
      {
       "output_type": "stream",
       "stream": "stdout",
       "text": [
        "\n",
        "(3999, 19)\n",
        "rkt"
       ]
      },
      {
       "output_type": "stream",
       "stream": "stdout",
       "text": [
        " (3996, 19) (3996, 57)\n",
        "(3999, 57)"
       ]
      },
      {
       "output_type": "stream",
       "stream": "stdout",
       "text": [
        "\n",
        "(3999, 19)\n",
        "rkt"
       ]
      },
      {
       "output_type": "stream",
       "stream": "stdout",
       "text": [
        " (3996, 19) (3996, 57)\n",
        "(3999, 57)"
       ]
      },
      {
       "output_type": "stream",
       "stream": "stdout",
       "text": [
        "\n",
        "(3999, 19)\n",
        "rkt"
       ]
      },
      {
       "output_type": "stream",
       "stream": "stdout",
       "text": [
        " (3996, 19) (3996, 57)\n",
        "(3999, 57)"
       ]
      },
      {
       "output_type": "stream",
       "stream": "stdout",
       "text": [
        "\n",
        "(3999, 19)\n",
        "rkt"
       ]
      },
      {
       "output_type": "stream",
       "stream": "stdout",
       "text": [
        " (3996, 19) (3996, 57)\n",
        "(3999, 57)"
       ]
      },
      {
       "output_type": "stream",
       "stream": "stdout",
       "text": [
        "\n",
        "(3999, 19)\n",
        "rkt"
       ]
      },
      {
       "output_type": "stream",
       "stream": "stdout",
       "text": [
        " (3996, 19) (3996, 57)\n",
        "(3999, 57)"
       ]
      },
      {
       "output_type": "stream",
       "stream": "stdout",
       "text": [
        "\n",
        "(3999, 19)\n",
        "rkt"
       ]
      },
      {
       "output_type": "stream",
       "stream": "stdout",
       "text": [
        " (3996, 19) (3996, 57)\n",
        "(3999, 57)"
       ]
      },
      {
       "output_type": "stream",
       "stream": "stdout",
       "text": [
        "\n",
        "(3999, 19)\n",
        "rkt"
       ]
      },
      {
       "output_type": "stream",
       "stream": "stdout",
       "text": [
        " (3996, 19) (3996, 57)\n",
        "(3999, 57)"
       ]
      },
      {
       "output_type": "stream",
       "stream": "stdout",
       "text": [
        "\n",
        "(3999, 19)\n",
        "rkt"
       ]
      },
      {
       "output_type": "stream",
       "stream": "stdout",
       "text": [
        " (3996, 19) (3996, 57)\n",
        "(3999, 57)"
       ]
      },
      {
       "output_type": "stream",
       "stream": "stdout",
       "text": [
        "\n",
        "(3999, 19)\n",
        "rkt"
       ]
      },
      {
       "output_type": "stream",
       "stream": "stdout",
       "text": [
        " (3996, 19) (3996, 57)\n",
        "(3999, 57)"
       ]
      },
      {
       "output_type": "stream",
       "stream": "stdout",
       "text": [
        "\n",
        "(3999, 19)\n",
        "rkt"
       ]
      },
      {
       "output_type": "stream",
       "stream": "stdout",
       "text": [
        " (3996, 19) (3996, 57)\n",
        "(3999, 57)"
       ]
      },
      {
       "output_type": "stream",
       "stream": "stdout",
       "text": [
        "\n",
        "(3999, 19)\n",
        "rkt"
       ]
      },
      {
       "output_type": "stream",
       "stream": "stdout",
       "text": [
        " (3996, 19) (3996, 57)\n",
        "(3999, 57)"
       ]
      },
      {
       "output_type": "stream",
       "stream": "stdout",
       "text": [
        "\n",
        "(3999, 19)\n",
        "rkt"
       ]
      },
      {
       "output_type": "stream",
       "stream": "stdout",
       "text": [
        " (3996, 19) (3996, 57)\n",
        "(3999, 57)"
       ]
      },
      {
       "output_type": "stream",
       "stream": "stdout",
       "text": [
        "\n",
        "(3999, 19)\n",
        "rkt"
       ]
      },
      {
       "output_type": "stream",
       "stream": "stdout",
       "text": [
        " (3996, 19) (3996, 57)\n",
        "(3999, 57)"
       ]
      },
      {
       "output_type": "stream",
       "stream": "stdout",
       "text": [
        "\n",
        "(3999, 19)\n",
        "rkt"
       ]
      },
      {
       "output_type": "stream",
       "stream": "stdout",
       "text": [
        " (3996, 19) (3996, 57)\n",
        "(3999, 57)"
       ]
      },
      {
       "output_type": "stream",
       "stream": "stdout",
       "text": [
        "\n",
        "(3999, 19)\n",
        "rkt"
       ]
      },
      {
       "output_type": "stream",
       "stream": "stdout",
       "text": [
        " (3996, 19) (3996, 57)\n",
        "(3999, 57)"
       ]
      },
      {
       "output_type": "stream",
       "stream": "stdout",
       "text": [
        "\n",
        "(3999, 19)\n",
        "rkt"
       ]
      },
      {
       "output_type": "stream",
       "stream": "stdout",
       "text": [
        " (3996, 19) (3996, 57)\n",
        "(3999, 57)"
       ]
      },
      {
       "output_type": "stream",
       "stream": "stdout",
       "text": [
        "\n",
        "(3999, 19)\n",
        "rkt"
       ]
      },
      {
       "output_type": "stream",
       "stream": "stdout",
       "text": [
        " (3996, 19) (3996, 57)\n",
        "(3999, 57)"
       ]
      },
      {
       "output_type": "stream",
       "stream": "stdout",
       "text": [
        "\n",
        "(3999, 19)\n",
        "rkt"
       ]
      },
      {
       "output_type": "stream",
       "stream": "stdout",
       "text": [
        " (3996, 19) (3996, 57)\n",
        "(3999, 57)"
       ]
      },
      {
       "output_type": "stream",
       "stream": "stdout",
       "text": [
        "\n",
        "(3999, 19)\n",
        "rkt"
       ]
      },
      {
       "output_type": "stream",
       "stream": "stdout",
       "text": [
        " (3996, 19) (3996, 57)\n",
        "(3999, 57)"
       ]
      },
      {
       "output_type": "stream",
       "stream": "stdout",
       "text": [
        "\n",
        "(3999, 19)\n",
        "rkt"
       ]
      },
      {
       "output_type": "stream",
       "stream": "stdout",
       "text": [
        " (3996, 19) (3996, 57)\n",
        "(3999, 57)"
       ]
      },
      {
       "output_type": "stream",
       "stream": "stdout",
       "text": [
        "\n",
        "(3999, 19)\n",
        "rkt"
       ]
      },
      {
       "output_type": "stream",
       "stream": "stdout",
       "text": [
        " (3996, 19) (3996, 57)\n",
        "(3999, 57)"
       ]
      },
      {
       "output_type": "stream",
       "stream": "stdout",
       "text": [
        "\n",
        "(3999, 19)\n",
        "rkt"
       ]
      },
      {
       "output_type": "stream",
       "stream": "stdout",
       "text": [
        " (3996, 19) (3996, 57)\n",
        "(3999, 57)"
       ]
      },
      {
       "output_type": "stream",
       "stream": "stdout",
       "text": [
        "\n",
        "(3999, 19)\n",
        "rkt"
       ]
      },
      {
       "output_type": "stream",
       "stream": "stdout",
       "text": [
        " (3996, 19) (3996, 57)\n",
        "(3999, 57)"
       ]
      },
      {
       "output_type": "stream",
       "stream": "stdout",
       "text": [
        "\n",
        "(3999, 19)\n",
        "rkt"
       ]
      },
      {
       "output_type": "stream",
       "stream": "stdout",
       "text": [
        " (3996, 19) (3996, 57)\n",
        "(3999, 57)"
       ]
      },
      {
       "output_type": "stream",
       "stream": "stdout",
       "text": [
        "\n",
        "(3999, 19)\n",
        "rkt"
       ]
      },
      {
       "output_type": "stream",
       "stream": "stdout",
       "text": [
        " (3996, 19) (3996, 57)\n",
        "(3999, 57)"
       ]
      },
      {
       "output_type": "stream",
       "stream": "stdout",
       "text": [
        "\n",
        "(3999, 19)\n",
        "rkt"
       ]
      },
      {
       "output_type": "stream",
       "stream": "stdout",
       "text": [
        " (3996, 19) (3996, 57)\n",
        "(3999, 57)"
       ]
      },
      {
       "output_type": "stream",
       "stream": "stdout",
       "text": [
        "\n",
        "(3999, 19)\n",
        "rkt"
       ]
      },
      {
       "output_type": "stream",
       "stream": "stdout",
       "text": [
        " (3996, 19) (3996, 57)\n",
        "(3999, 57)"
       ]
      },
      {
       "output_type": "stream",
       "stream": "stdout",
       "text": [
        "\n",
        "(3999, 19)\n",
        "rkt"
       ]
      },
      {
       "output_type": "stream",
       "stream": "stdout",
       "text": [
        " (3996, 19) (3996, 57)\n",
        "(3999, 57)"
       ]
      },
      {
       "output_type": "stream",
       "stream": "stdout",
       "text": [
        "\n",
        "(3999, 19)\n",
        "rkt"
       ]
      },
      {
       "output_type": "stream",
       "stream": "stdout",
       "text": [
        " (3996, 19) (3996, 57)\n",
        "(3999, 57)"
       ]
      },
      {
       "output_type": "stream",
       "stream": "stdout",
       "text": [
        "\n",
        "(3999, 19)\n",
        "rkt"
       ]
      },
      {
       "output_type": "stream",
       "stream": "stdout",
       "text": [
        " (3996, 19) (3996, 57)\n",
        "(3999, 57)"
       ]
      },
      {
       "output_type": "stream",
       "stream": "stdout",
       "text": [
        "\n",
        "(3999, 19)\n",
        "rkt"
       ]
      },
      {
       "output_type": "stream",
       "stream": "stdout",
       "text": [
        " (3996, 19) (3996, 57)\n",
        "(3999, 57)"
       ]
      },
      {
       "output_type": "stream",
       "stream": "stdout",
       "text": [
        "\n",
        "(3999, 19)\n",
        "rkt"
       ]
      },
      {
       "output_type": "stream",
       "stream": "stdout",
       "text": [
        " (3996, 19) (3996, 57)\n",
        "(3999, 57)"
       ]
      },
      {
       "output_type": "stream",
       "stream": "stdout",
       "text": [
        "\n",
        "(3999, 19)\n",
        "rkt"
       ]
      },
      {
       "output_type": "stream",
       "stream": "stdout",
       "text": [
        " (3996, 19) (3996, 57)\n",
        "(3999, 57)"
       ]
      },
      {
       "output_type": "stream",
       "stream": "stdout",
       "text": [
        "\n",
        "(3999, 19)\n",
        "rkt"
       ]
      },
      {
       "output_type": "stream",
       "stream": "stdout",
       "text": [
        " (3996, 19) (3996, 57)\n",
        "(3999, 57)"
       ]
      },
      {
       "output_type": "stream",
       "stream": "stdout",
       "text": [
        "\n",
        "(3999, 19)\n",
        "rkt"
       ]
      },
      {
       "output_type": "stream",
       "stream": "stdout",
       "text": [
        " (3996, 19) (3996, 57)\n",
        "(3999, 57)"
       ]
      },
      {
       "output_type": "stream",
       "stream": "stdout",
       "text": [
        "\n",
        "(3999, 19)\n",
        "rkt"
       ]
      },
      {
       "output_type": "stream",
       "stream": "stdout",
       "text": [
        " (3996, 19) (3996, 57)\n",
        "(3999, 57)"
       ]
      },
      {
       "output_type": "stream",
       "stream": "stdout",
       "text": [
        "\n",
        "(3999, 19)\n",
        "rkt"
       ]
      },
      {
       "output_type": "stream",
       "stream": "stdout",
       "text": [
        " (3996, 19) (3996, 57)\n",
        "(3999, 57)"
       ]
      },
      {
       "output_type": "stream",
       "stream": "stdout",
       "text": [
        "\n",
        "(3999, 19)\n",
        "rkt"
       ]
      },
      {
       "output_type": "stream",
       "stream": "stdout",
       "text": [
        " (3996, 19) (3996, 57)\n",
        "(3999, 57)"
       ]
      },
      {
       "output_type": "stream",
       "stream": "stdout",
       "text": [
        "\n",
        "(3999, 19)\n",
        "rkt"
       ]
      },
      {
       "output_type": "stream",
       "stream": "stdout",
       "text": [
        " (3996, 19) (3996, 57)\n",
        "(3999, 57)"
       ]
      },
      {
       "output_type": "stream",
       "stream": "stdout",
       "text": [
        "\n",
        "(3999, 19)\n",
        "rkt"
       ]
      },
      {
       "output_type": "stream",
       "stream": "stdout",
       "text": [
        " (3996, 19) (3996, 57)\n",
        "(3999, 57)"
       ]
      },
      {
       "output_type": "stream",
       "stream": "stdout",
       "text": [
        "\n",
        "(3999, 19)\n",
        "rkt"
       ]
      },
      {
       "output_type": "stream",
       "stream": "stdout",
       "text": [
        " (3996, 19) (3996, 57)\n",
        "(3999, 57)"
       ]
      },
      {
       "output_type": "stream",
       "stream": "stdout",
       "text": [
        "\n",
        "(3999, 19)\n",
        "rkt"
       ]
      },
      {
       "output_type": "stream",
       "stream": "stdout",
       "text": [
        " (3996, 19) (3996, 57)\n",
        "(3999, 57)"
       ]
      },
      {
       "output_type": "stream",
       "stream": "stdout",
       "text": [
        "\n",
        "(3999, 19)\n",
        "rkt"
       ]
      },
      {
       "output_type": "stream",
       "stream": "stdout",
       "text": [
        " (3996, 19) (3996, 57)\n",
        "(3999, 57)"
       ]
      },
      {
       "output_type": "stream",
       "stream": "stdout",
       "text": [
        "\n",
        "(3999, 19)\n",
        "rkt"
       ]
      },
      {
       "output_type": "stream",
       "stream": "stdout",
       "text": [
        " (3996, 19) (3996, 57)\n",
        "(3999, 57)"
       ]
      },
      {
       "output_type": "stream",
       "stream": "stdout",
       "text": [
        "\n",
        "(3999, 19)\n",
        "rkt"
       ]
      },
      {
       "output_type": "stream",
       "stream": "stdout",
       "text": [
        " (3996, 19) (3996, 57)\n",
        "(3999, 57)"
       ]
      },
      {
       "output_type": "stream",
       "stream": "stdout",
       "text": [
        "\n",
        "(3999, 19)\n",
        "rkt"
       ]
      },
      {
       "output_type": "stream",
       "stream": "stdout",
       "text": [
        " (3996, 19) (3996, 57)\n",
        "(3999, 57)"
       ]
      },
      {
       "output_type": "stream",
       "stream": "stdout",
       "text": [
        "\n",
        "(3999, 19)\n",
        "rkt"
       ]
      },
      {
       "output_type": "stream",
       "stream": "stdout",
       "text": [
        " (3996, 19) (3996, 57)\n",
        "(3999, 57)"
       ]
      },
      {
       "output_type": "stream",
       "stream": "stdout",
       "text": [
        "\n",
        "(3999, 19)\n",
        "rkt"
       ]
      },
      {
       "output_type": "stream",
       "stream": "stdout",
       "text": [
        " (3996, 19) (3996, 57)\n",
        "(3999, 57)"
       ]
      },
      {
       "output_type": "stream",
       "stream": "stdout",
       "text": [
        "\n",
        "(3999, 19)\n",
        "rkt"
       ]
      },
      {
       "output_type": "stream",
       "stream": "stdout",
       "text": [
        " (3996, 19) (3996, 57)\n",
        "(3999, 57)"
       ]
      },
      {
       "output_type": "stream",
       "stream": "stdout",
       "text": [
        "\n",
        "(3999, 19)\n",
        "rkt"
       ]
      },
      {
       "output_type": "stream",
       "stream": "stdout",
       "text": [
        " (3996, 19) (3996, 57)\n",
        "(3999, 57)"
       ]
      },
      {
       "output_type": "stream",
       "stream": "stdout",
       "text": [
        "\n",
        "(3999, 19)\n",
        "rkt"
       ]
      },
      {
       "output_type": "stream",
       "stream": "stdout",
       "text": [
        " (3996, 19) (3996, 57)\n",
        "(3999, 57)"
       ]
      },
      {
       "output_type": "stream",
       "stream": "stdout",
       "text": [
        "\n",
        "(3999, 19)\n",
        "rkt"
       ]
      },
      {
       "output_type": "stream",
       "stream": "stdout",
       "text": [
        " (3996, 19) (3996, 57)\n",
        "(3999, 57)"
       ]
      },
      {
       "output_type": "stream",
       "stream": "stdout",
       "text": [
        "\n",
        "(3999, 19)\n",
        "rkt"
       ]
      },
      {
       "output_type": "stream",
       "stream": "stdout",
       "text": [
        " (3996, 19) (3996, 57)\n",
        "(3999, 57)"
       ]
      },
      {
       "output_type": "stream",
       "stream": "stdout",
       "text": [
        "\n",
        "(3999, 19)\n",
        "rkt"
       ]
      },
      {
       "output_type": "stream",
       "stream": "stdout",
       "text": [
        " (3996, 19) (3996, 57)\n",
        "(3999, 57)"
       ]
      },
      {
       "output_type": "stream",
       "stream": "stdout",
       "text": [
        "\n",
        "(3999, 19)\n",
        "rkt"
       ]
      },
      {
       "output_type": "stream",
       "stream": "stdout",
       "text": [
        " (3996, 19) (3996, 57)\n",
        "(3999, 57)"
       ]
      },
      {
       "output_type": "stream",
       "stream": "stdout",
       "text": [
        "\n",
        "(3999, 19)\n",
        "rkt"
       ]
      },
      {
       "output_type": "stream",
       "stream": "stdout",
       "text": [
        " (3996, 19) (3996, 57)\n",
        "(3999, 57)"
       ]
      },
      {
       "output_type": "stream",
       "stream": "stdout",
       "text": [
        "\n",
        "(3999, 19)\n",
        "rkt"
       ]
      },
      {
       "output_type": "stream",
       "stream": "stdout",
       "text": [
        " (3996, 19) (3996, 57)\n",
        "(3999, 57)"
       ]
      },
      {
       "output_type": "stream",
       "stream": "stdout",
       "text": [
        "\n",
        "(3999, 19)\n",
        "rkt"
       ]
      },
      {
       "output_type": "stream",
       "stream": "stdout",
       "text": [
        " (3996, 19) (3996, 57)\n",
        "(3999, 57)"
       ]
      },
      {
       "output_type": "stream",
       "stream": "stdout",
       "text": [
        "\n",
        "(3999, 19)\n",
        "rkt"
       ]
      },
      {
       "output_type": "stream",
       "stream": "stdout",
       "text": [
        " (3996, 19) (3996, 57)\n",
        "(3999, 57)"
       ]
      },
      {
       "output_type": "stream",
       "stream": "stdout",
       "text": [
        "\n",
        "(3999, 19)\n",
        "rkt"
       ]
      },
      {
       "output_type": "stream",
       "stream": "stdout",
       "text": [
        " (3996, 19) (3996, 57)\n",
        "(3999, 57)"
       ]
      },
      {
       "output_type": "stream",
       "stream": "stdout",
       "text": [
        "\n",
        "(3999, 19)\n",
        "rkt"
       ]
      },
      {
       "output_type": "stream",
       "stream": "stdout",
       "text": [
        " (3996, 19) (3996, 57)\n",
        "(3999, 57)"
       ]
      },
      {
       "output_type": "stream",
       "stream": "stdout",
       "text": [
        "\n",
        "(3999, 19)\n",
        "rkt"
       ]
      },
      {
       "output_type": "stream",
       "stream": "stdout",
       "text": [
        " (3996, 19) (3996, 57)\n",
        "(3999, 57)"
       ]
      },
      {
       "output_type": "stream",
       "stream": "stdout",
       "text": [
        "\n",
        "(3999, 19)\n",
        "rkt"
       ]
      },
      {
       "output_type": "stream",
       "stream": "stdout",
       "text": [
        " (3996, 19) (3996, 57)\n",
        "(3999, 57)"
       ]
      },
      {
       "output_type": "stream",
       "stream": "stdout",
       "text": [
        "\n",
        "(3999, 19)\n",
        "rkt"
       ]
      },
      {
       "output_type": "stream",
       "stream": "stdout",
       "text": [
        " (3996, 19) (3996, 57)\n",
        "(3999, 57)"
       ]
      },
      {
       "output_type": "stream",
       "stream": "stdout",
       "text": [
        "\n",
        "(3999, 19)\n",
        "rkt"
       ]
      },
      {
       "output_type": "stream",
       "stream": "stdout",
       "text": [
        " (3996, 19) (3996, 57)\n",
        "(3999, 57)"
       ]
      },
      {
       "output_type": "stream",
       "stream": "stdout",
       "text": [
        "\n",
        "(3999, 19)\n",
        "rkt"
       ]
      },
      {
       "output_type": "stream",
       "stream": "stdout",
       "text": [
        " (3996, 19) (3996, 57)\n",
        "(3999, 57)"
       ]
      },
      {
       "output_type": "stream",
       "stream": "stdout",
       "text": [
        "\n",
        "(3999, 19)\n",
        "rkt"
       ]
      },
      {
       "output_type": "stream",
       "stream": "stdout",
       "text": [
        " (3996, 19) (3996, 57)\n",
        "(3999, 57)"
       ]
      },
      {
       "output_type": "stream",
       "stream": "stdout",
       "text": [
        "\n",
        "(3999, 19)\n",
        "rkt"
       ]
      },
      {
       "output_type": "stream",
       "stream": "stdout",
       "text": [
        " (3996, 19) (3996, 57)\n",
        "(3999, 57)"
       ]
      },
      {
       "output_type": "stream",
       "stream": "stdout",
       "text": [
        "\n",
        "(3999, 19)\n",
        "rkt"
       ]
      },
      {
       "output_type": "stream",
       "stream": "stdout",
       "text": [
        " (3996, 19) (3996, 57)\n",
        "(3999, 57)"
       ]
      },
      {
       "output_type": "stream",
       "stream": "stdout",
       "text": [
        "\n",
        "(3999, 19)\n",
        "rkt"
       ]
      },
      {
       "output_type": "stream",
       "stream": "stdout",
       "text": [
        " (3996, 19) (3996, 57)\n",
        "(3999, 57)"
       ]
      },
      {
       "output_type": "stream",
       "stream": "stdout",
       "text": [
        "\n",
        "(3999, 19)\n",
        "rkt"
       ]
      },
      {
       "output_type": "stream",
       "stream": "stdout",
       "text": [
        " (3996, 19) (3996, 57)\n",
        "(3999, 57)"
       ]
      },
      {
       "output_type": "stream",
       "stream": "stdout",
       "text": [
        "\n",
        "(3999, 19)\n",
        "rkt"
       ]
      },
      {
       "output_type": "stream",
       "stream": "stdout",
       "text": [
        " (3996, 19) (3996, 57)\n",
        "(3999, 57)"
       ]
      },
      {
       "output_type": "stream",
       "stream": "stdout",
       "text": [
        "\n",
        "(3999, 19)\n",
        "rkt"
       ]
      },
      {
       "output_type": "stream",
       "stream": "stdout",
       "text": [
        " (3996, 19) (3996, 57)\n",
        "(3999, 57)"
       ]
      },
      {
       "output_type": "stream",
       "stream": "stdout",
       "text": [
        "\n",
        "(3999, 19)\n",
        "rkt"
       ]
      },
      {
       "output_type": "stream",
       "stream": "stdout",
       "text": [
        " (3996, 19) (3996, 57)\n",
        "(3999, 57)"
       ]
      },
      {
       "output_type": "stream",
       "stream": "stdout",
       "text": [
        "\n",
        "(3999, 19)\n",
        "rkt"
       ]
      },
      {
       "output_type": "stream",
       "stream": "stdout",
       "text": [
        " (3996, 19) (3996, 57)\n",
        "(3999, 57)"
       ]
      },
      {
       "output_type": "stream",
       "stream": "stdout",
       "text": [
        "\n",
        "(3999, 19)\n",
        "rkt"
       ]
      },
      {
       "output_type": "stream",
       "stream": "stdout",
       "text": [
        " (3996, 19) (3996, 57)\n",
        "(3999, 57)"
       ]
      },
      {
       "output_type": "stream",
       "stream": "stdout",
       "text": [
        "\n",
        "(3999, 19)\n",
        "rkt"
       ]
      },
      {
       "output_type": "stream",
       "stream": "stdout",
       "text": [
        " (3996, 19) (3996, 57)\n",
        "(3999, 57)"
       ]
      },
      {
       "output_type": "stream",
       "stream": "stdout",
       "text": [
        "\n",
        "(3999, 19)\n",
        "rkt"
       ]
      },
      {
       "output_type": "stream",
       "stream": "stdout",
       "text": [
        " (3996, 19) (3996, 57)\n",
        "(3999, 57)"
       ]
      },
      {
       "output_type": "stream",
       "stream": "stdout",
       "text": [
        "\n",
        "(3999, 19)\n",
        "rkt"
       ]
      },
      {
       "output_type": "stream",
       "stream": "stdout",
       "text": [
        " (3996, 19) (3996, 57)\n",
        "(3999, 57)"
       ]
      },
      {
       "output_type": "stream",
       "stream": "stdout",
       "text": [
        "\n",
        "(3999, 19)\n",
        "rkt"
       ]
      },
      {
       "output_type": "stream",
       "stream": "stdout",
       "text": [
        " (3996, 19) (3996, 57)\n",
        "(3999, 57)"
       ]
      },
      {
       "output_type": "stream",
       "stream": "stdout",
       "text": [
        "\n",
        "(3999, 19)\n",
        "rkt"
       ]
      },
      {
       "output_type": "stream",
       "stream": "stdout",
       "text": [
        " (3996, 19) (3996, 57)\n",
        "(3999, 57)"
       ]
      },
      {
       "output_type": "stream",
       "stream": "stdout",
       "text": [
        "\n",
        "(3999, 19)\n",
        "rkt"
       ]
      },
      {
       "output_type": "stream",
       "stream": "stdout",
       "text": [
        " (3996, 19) (3996, 57)\n",
        "(3999, 57)"
       ]
      },
      {
       "output_type": "stream",
       "stream": "stdout",
       "text": [
        "\n",
        "(3999, 19)\n",
        "rkt"
       ]
      },
      {
       "output_type": "stream",
       "stream": "stdout",
       "text": [
        " (3996, 19) (3996, 57)\n",
        "(3999, 57)"
       ]
      },
      {
       "output_type": "stream",
       "stream": "stdout",
       "text": [
        "\n",
        "(3999, 19)\n",
        "rkt"
       ]
      },
      {
       "output_type": "stream",
       "stream": "stdout",
       "text": [
        " (3996, 19) (3996, 57)\n",
        "(3999, 57)"
       ]
      },
      {
       "output_type": "stream",
       "stream": "stdout",
       "text": [
        "\n",
        "(3999, 19)\n",
        "rkt"
       ]
      },
      {
       "output_type": "stream",
       "stream": "stdout",
       "text": [
        " (3996, 19) (3996, 57)\n",
        "(3999, 57)"
       ]
      },
      {
       "output_type": "stream",
       "stream": "stdout",
       "text": [
        "\n",
        "(3999, 19)\n",
        "rkt"
       ]
      },
      {
       "output_type": "stream",
       "stream": "stdout",
       "text": [
        " (3996, 19) (3996, 57)\n",
        "(3999, 57)"
       ]
      },
      {
       "output_type": "stream",
       "stream": "stdout",
       "text": [
        "\n",
        "(3999, 19)\n",
        "rkt"
       ]
      },
      {
       "output_type": "stream",
       "stream": "stdout",
       "text": [
        " (3996, 19) (3996, 57)\n",
        "(3999, 57)"
       ]
      },
      {
       "output_type": "stream",
       "stream": "stdout",
       "text": [
        "\n",
        "(3999, 19)\n",
        "rkt"
       ]
      },
      {
       "output_type": "stream",
       "stream": "stdout",
       "text": [
        " (3996, 19) (3996, 57)\n",
        "(3999, 57)"
       ]
      },
      {
       "output_type": "stream",
       "stream": "stdout",
       "text": [
        "\n",
        "(3999, 19)\n",
        "rkt"
       ]
      },
      {
       "output_type": "stream",
       "stream": "stdout",
       "text": [
        " (3996, 19) (3996, 57)\n",
        "(3999, 57)"
       ]
      },
      {
       "output_type": "stream",
       "stream": "stdout",
       "text": [
        "\n",
        "(3999, 19)\n",
        "rkt"
       ]
      },
      {
       "output_type": "stream",
       "stream": "stdout",
       "text": [
        " (3996, 19) (3996, 57)\n",
        "(3999, 57)"
       ]
      },
      {
       "output_type": "stream",
       "stream": "stdout",
       "text": [
        "\n",
        "(3999, 19)\n",
        "rkt"
       ]
      },
      {
       "output_type": "stream",
       "stream": "stdout",
       "text": [
        " (3996, 19) (3996, 57)\n",
        "(3999, 57)"
       ]
      },
      {
       "output_type": "stream",
       "stream": "stdout",
       "text": [
        "\n",
        "(3999, 19)\n",
        "rkt"
       ]
      },
      {
       "output_type": "stream",
       "stream": "stdout",
       "text": [
        " (3996, 19) (3996, 57)\n",
        "(3999, 57)"
       ]
      },
      {
       "output_type": "stream",
       "stream": "stdout",
       "text": [
        "\n",
        "(3999, 19)\n",
        "rkt"
       ]
      },
      {
       "output_type": "stream",
       "stream": "stdout",
       "text": [
        " (3996, 19) (3996, 57)\n",
        "(3999, 57)"
       ]
      },
      {
       "output_type": "stream",
       "stream": "stdout",
       "text": [
        "\n",
        "(3999, 19)\n",
        "rkt"
       ]
      },
      {
       "output_type": "stream",
       "stream": "stdout",
       "text": [
        " (3996, 19) (3996, 57)\n",
        "(3999, 57)"
       ]
      },
      {
       "output_type": "stream",
       "stream": "stdout",
       "text": [
        "\n",
        "(3999, 19)\n",
        "rkt"
       ]
      },
      {
       "output_type": "stream",
       "stream": "stdout",
       "text": [
        " (3996, 19) (3996, 57)\n",
        "(3999, 57)"
       ]
      },
      {
       "output_type": "stream",
       "stream": "stdout",
       "text": [
        "\n",
        "(3999, 19)\n",
        "rkt"
       ]
      },
      {
       "output_type": "stream",
       "stream": "stdout",
       "text": [
        " (3996, 19) (3996, 57)\n",
        "(3999, 57)"
       ]
      },
      {
       "output_type": "stream",
       "stream": "stdout",
       "text": [
        "\n",
        "(3999, 19)\n",
        "rkt"
       ]
      },
      {
       "output_type": "stream",
       "stream": "stdout",
       "text": [
        " (3996, 19) (3996, 57)\n",
        "(3999, 57)"
       ]
      },
      {
       "output_type": "stream",
       "stream": "stdout",
       "text": [
        "\n",
        "(3999, 19)\n",
        "rkt"
       ]
      },
      {
       "output_type": "stream",
       "stream": "stdout",
       "text": [
        " (3996, 19) (3996, 57)\n",
        "(3999, 57)"
       ]
      },
      {
       "output_type": "stream",
       "stream": "stdout",
       "text": [
        "\n",
        "(3999, 19)\n",
        "rkt"
       ]
      },
      {
       "output_type": "stream",
       "stream": "stdout",
       "text": [
        " (3996, 19) (3996, 57)\n",
        "(3999, 57)"
       ]
      },
      {
       "output_type": "stream",
       "stream": "stdout",
       "text": [
        "\n",
        "(3999, 19)\n",
        "rkt"
       ]
      },
      {
       "output_type": "stream",
       "stream": "stdout",
       "text": [
        " (3996, 19) (3996, 57)\n",
        "(3999, 57)"
       ]
      },
      {
       "output_type": "stream",
       "stream": "stdout",
       "text": [
        "\n",
        "(3999, 19)\n",
        "rkt"
       ]
      },
      {
       "output_type": "stream",
       "stream": "stdout",
       "text": [
        " (3996, 19) (3996, 57)\n",
        "(3999, 57)"
       ]
      },
      {
       "output_type": "stream",
       "stream": "stdout",
       "text": [
        "\n",
        "(3999, 19)\n",
        "rkt"
       ]
      },
      {
       "output_type": "stream",
       "stream": "stdout",
       "text": [
        " (3996, 19) (3996, 57)\n",
        "(3999, 57)"
       ]
      },
      {
       "output_type": "stream",
       "stream": "stdout",
       "text": [
        "\n",
        "(3999, 19)\n",
        "rkt"
       ]
      },
      {
       "output_type": "stream",
       "stream": "stdout",
       "text": [
        " (3996, 19) (3996, 57)\n",
        "(3999, 57)"
       ]
      },
      {
       "output_type": "stream",
       "stream": "stdout",
       "text": [
        "\n",
        "(3999, 19)\n",
        "rkt"
       ]
      },
      {
       "output_type": "stream",
       "stream": "stdout",
       "text": [
        " (3996, 19) (3996, 57)\n",
        "(3999, 57)"
       ]
      },
      {
       "output_type": "stream",
       "stream": "stdout",
       "text": [
        "\n",
        "(3999, 19)\n",
        "rkt"
       ]
      },
      {
       "output_type": "stream",
       "stream": "stdout",
       "text": [
        " (3996, 19) (3996, 57)\n",
        "(3999, 57)"
       ]
      },
      {
       "output_type": "stream",
       "stream": "stdout",
       "text": [
        "\n",
        "(3999, 19)\n",
        "rkt"
       ]
      },
      {
       "output_type": "stream",
       "stream": "stdout",
       "text": [
        " (3996, 19) (3996, 57)\n",
        "(3999, 57)"
       ]
      },
      {
       "output_type": "stream",
       "stream": "stdout",
       "text": [
        "\n",
        "(3999, 19)\n",
        "rkt"
       ]
      },
      {
       "output_type": "stream",
       "stream": "stdout",
       "text": [
        " (3996, 19) (3996, 57)\n",
        "(3999, 57)"
       ]
      },
      {
       "output_type": "stream",
       "stream": "stdout",
       "text": [
        "\n",
        "(3999, 19)\n",
        "rkt"
       ]
      },
      {
       "output_type": "stream",
       "stream": "stdout",
       "text": [
        " (3996, 19) (3996, 57)\n",
        "(3999, 57)"
       ]
      },
      {
       "output_type": "stream",
       "stream": "stdout",
       "text": [
        "\n",
        "(3999, 19)\n",
        "rkt"
       ]
      },
      {
       "output_type": "stream",
       "stream": "stdout",
       "text": [
        " (3996, 19) (3996, 57)\n",
        "(3999, 57)"
       ]
      },
      {
       "output_type": "stream",
       "stream": "stdout",
       "text": [
        "\n",
        "(3999, 19)\n",
        "rkt"
       ]
      },
      {
       "output_type": "stream",
       "stream": "stdout",
       "text": [
        " (3996, 19) (3996, 57)\n",
        "(3999, 57)"
       ]
      },
      {
       "output_type": "stream",
       "stream": "stdout",
       "text": [
        "\n",
        "(3999, 19)\n",
        "rkt"
       ]
      },
      {
       "output_type": "stream",
       "stream": "stdout",
       "text": [
        " (3996, 19) (3996, 57)\n",
        "(3999, 57)"
       ]
      },
      {
       "output_type": "stream",
       "stream": "stdout",
       "text": [
        "\n",
        "(3999, 19)\n",
        "rkt"
       ]
      },
      {
       "output_type": "stream",
       "stream": "stdout",
       "text": [
        " (3996, 19) (3996, 57)\n",
        "(3999, 57)"
       ]
      },
      {
       "output_type": "stream",
       "stream": "stdout",
       "text": [
        "\n",
        "(3999, 19)\n",
        "rkt"
       ]
      },
      {
       "output_type": "stream",
       "stream": "stdout",
       "text": [
        " (3996, 19) (3996, 57)\n",
        "(3999, 57)"
       ]
      },
      {
       "output_type": "stream",
       "stream": "stdout",
       "text": [
        "\n",
        "(3999, 19)\n",
        "rkt"
       ]
      },
      {
       "output_type": "stream",
       "stream": "stdout",
       "text": [
        " (3996, 19) (3996, 57)\n",
        "(3999, 57)"
       ]
      },
      {
       "output_type": "stream",
       "stream": "stdout",
       "text": [
        "\n",
        "(3999, 19)\n",
        "rkt"
       ]
      },
      {
       "output_type": "stream",
       "stream": "stdout",
       "text": [
        " (3996, 19) (3996, 57)\n",
        "(3999, 57)"
       ]
      },
      {
       "output_type": "stream",
       "stream": "stdout",
       "text": [
        "\n",
        "(3999, 19)\n",
        "rkt"
       ]
      },
      {
       "output_type": "stream",
       "stream": "stdout",
       "text": [
        " (3996, 19) (3996, 57)\n",
        "(3999, 57)"
       ]
      },
      {
       "output_type": "stream",
       "stream": "stdout",
       "text": [
        "\n",
        "(3999, 19)\n",
        "rkt"
       ]
      },
      {
       "output_type": "stream",
       "stream": "stdout",
       "text": [
        " (3996, 19) (3996, 57)\n",
        "(3999, 57)"
       ]
      },
      {
       "output_type": "stream",
       "stream": "stdout",
       "text": [
        "\n",
        "(3999, 19)\n",
        "rkt"
       ]
      },
      {
       "output_type": "stream",
       "stream": "stdout",
       "text": [
        " (3996, 19) (3996, 57)\n",
        "(3999, 57)"
       ]
      },
      {
       "output_type": "stream",
       "stream": "stdout",
       "text": [
        "\n",
        "(3999, 19)\n",
        "rkt"
       ]
      },
      {
       "output_type": "stream",
       "stream": "stdout",
       "text": [
        " (3996, 19) (3996, 57)\n",
        "(3999, 57)"
       ]
      },
      {
       "output_type": "stream",
       "stream": "stdout",
       "text": [
        "\n",
        "(3999, 19)\n",
        "rkt"
       ]
      },
      {
       "output_type": "stream",
       "stream": "stdout",
       "text": [
        " (3996, 19) (3996, 57)\n",
        "(3999, 57)"
       ]
      },
      {
       "output_type": "stream",
       "stream": "stdout",
       "text": [
        "\n",
        "(3999, 19)\n",
        "rkt"
       ]
      },
      {
       "output_type": "stream",
       "stream": "stdout",
       "text": [
        " (3996, 19) (3996, 57)\n",
        "(3999, 57)"
       ]
      },
      {
       "output_type": "stream",
       "stream": "stdout",
       "text": [
        "\n",
        "(3999, 19)\n",
        "rkt"
       ]
      },
      {
       "output_type": "stream",
       "stream": "stdout",
       "text": [
        " (3996, 19) (3996, 57)\n",
        "(3999, 57)"
       ]
      },
      {
       "output_type": "stream",
       "stream": "stdout",
       "text": [
        "\n",
        "(3999, 19)\n",
        "rkt"
       ]
      },
      {
       "output_type": "stream",
       "stream": "stdout",
       "text": [
        " (3996, 19) (3996, 57)\n",
        "(3999, 57)"
       ]
      },
      {
       "output_type": "stream",
       "stream": "stdout",
       "text": [
        "\n",
        "(3999, 19)\n",
        "rkt"
       ]
      },
      {
       "output_type": "stream",
       "stream": "stdout",
       "text": [
        " (3996, 19) (3996, 57)\n",
        "(3999, 57)"
       ]
      },
      {
       "output_type": "stream",
       "stream": "stdout",
       "text": [
        "\n",
        "(3999, 19)\n",
        "rkt"
       ]
      },
      {
       "output_type": "stream",
       "stream": "stdout",
       "text": [
        " (3996, 19) (3996, 57)\n",
        "(3999, 57)"
       ]
      },
      {
       "output_type": "stream",
       "stream": "stdout",
       "text": [
        "\n",
        "(3999, 19)\n",
        "rkt"
       ]
      },
      {
       "output_type": "stream",
       "stream": "stdout",
       "text": [
        " (3996, 19) (3996, 57)\n",
        "(3999, 57)"
       ]
      },
      {
       "output_type": "stream",
       "stream": "stdout",
       "text": [
        "\n",
        "(3999, 19)\n",
        "rkt"
       ]
      },
      {
       "output_type": "stream",
       "stream": "stdout",
       "text": [
        " (3996, 19) (3996, 57)\n",
        "(3999, 57)"
       ]
      },
      {
       "output_type": "stream",
       "stream": "stdout",
       "text": [
        "\n",
        "(3999, 19)\n",
        "rkt"
       ]
      },
      {
       "output_type": "stream",
       "stream": "stdout",
       "text": [
        " (3996, 19) (3996, 57)\n",
        "(3999, 57)"
       ]
      },
      {
       "output_type": "stream",
       "stream": "stdout",
       "text": [
        "\n",
        "(3999, 19)\n",
        "rkt"
       ]
      },
      {
       "output_type": "stream",
       "stream": "stdout",
       "text": [
        " (3996, 19) (3996, 57)\n",
        "(3999, 57)"
       ]
      },
      {
       "output_type": "stream",
       "stream": "stdout",
       "text": [
        "\n",
        "(3999, 19)\n",
        "rkt"
       ]
      },
      {
       "output_type": "stream",
       "stream": "stdout",
       "text": [
        " (3996, 19) (3996, 57)\n",
        "(3999, 57)"
       ]
      },
      {
       "output_type": "stream",
       "stream": "stdout",
       "text": [
        "\n",
        "(3999, 19)\n",
        "rkt"
       ]
      },
      {
       "output_type": "stream",
       "stream": "stdout",
       "text": [
        " (3996, 19) (3996, 57)\n",
        "(3999, 57)"
       ]
      },
      {
       "output_type": "stream",
       "stream": "stdout",
       "text": [
        "\n",
        "(3999, 19)\n",
        "rkt"
       ]
      },
      {
       "output_type": "stream",
       "stream": "stdout",
       "text": [
        " (3996, 19) (3996, 57)\n",
        "(3999, 57)"
       ]
      },
      {
       "output_type": "stream",
       "stream": "stdout",
       "text": [
        "\n",
        "(3999, 19)\n",
        "rkt"
       ]
      },
      {
       "output_type": "stream",
       "stream": "stdout",
       "text": [
        " (3996, 19) (3996, 57)\n",
        "(3999, 57)"
       ]
      },
      {
       "output_type": "stream",
       "stream": "stdout",
       "text": [
        "\n",
        "(3999, 19)\n",
        "rkt"
       ]
      },
      {
       "output_type": "stream",
       "stream": "stdout",
       "text": [
        " (3996, 19) (3996, 57)\n",
        "(3999, 57)"
       ]
      },
      {
       "output_type": "stream",
       "stream": "stdout",
       "text": [
        "\n",
        "(3999, 19)\n",
        "rkt"
       ]
      },
      {
       "output_type": "stream",
       "stream": "stdout",
       "text": [
        " (3996, 19) (3996, 57)\n",
        "(3999, 57)"
       ]
      },
      {
       "output_type": "stream",
       "stream": "stdout",
       "text": [
        "\n",
        "(3999, 19)\n",
        "rkt"
       ]
      },
      {
       "output_type": "stream",
       "stream": "stdout",
       "text": [
        " (3996, 19) (3996, 57)\n",
        "(3999, 57)"
       ]
      },
      {
       "output_type": "stream",
       "stream": "stdout",
       "text": [
        "\n",
        "(3999, 19)\n",
        "rkt"
       ]
      },
      {
       "output_type": "stream",
       "stream": "stdout",
       "text": [
        " (3996, 19) (3996, 57)\n",
        "(3999, 57)"
       ]
      },
      {
       "output_type": "stream",
       "stream": "stdout",
       "text": [
        "\n",
        "(3999, 19)\n",
        "rkt"
       ]
      },
      {
       "output_type": "stream",
       "stream": "stdout",
       "text": [
        " (3996, 19) (3996, 57)\n",
        "(3999, 57)"
       ]
      },
      {
       "output_type": "stream",
       "stream": "stdout",
       "text": [
        "\n",
        "(3999, 19)\n",
        "rkt"
       ]
      },
      {
       "output_type": "stream",
       "stream": "stdout",
       "text": [
        " (3996, 19) (3996, 57)\n",
        "(3999, 57)"
       ]
      },
      {
       "output_type": "stream",
       "stream": "stdout",
       "text": [
        "\n",
        "(3999, 19)\n",
        "rkt"
       ]
      },
      {
       "output_type": "stream",
       "stream": "stdout",
       "text": [
        " (3996, 19) (3996, 57)\n",
        "(3999, 57)"
       ]
      },
      {
       "output_type": "stream",
       "stream": "stdout",
       "text": [
        "\n",
        "(3999, 19)\n",
        "rkt"
       ]
      },
      {
       "output_type": "stream",
       "stream": "stdout",
       "text": [
        " (3996, 19) (3996, 57)\n",
        "(3999, 57)"
       ]
      },
      {
       "output_type": "stream",
       "stream": "stdout",
       "text": [
        "\n",
        "(3999, 19)\n",
        "rkt"
       ]
      },
      {
       "output_type": "stream",
       "stream": "stdout",
       "text": [
        " (3996, 19) (3996, 57)\n",
        "(3999, 57)"
       ]
      },
      {
       "output_type": "stream",
       "stream": "stdout",
       "text": [
        "\n",
        "(3999, 19)\n",
        "rkt"
       ]
      },
      {
       "output_type": "stream",
       "stream": "stdout",
       "text": [
        " (3996, 19) (3996, 57)\n",
        "(3999, 57)"
       ]
      },
      {
       "output_type": "stream",
       "stream": "stdout",
       "text": [
        "\n",
        "(3999, 19)\n",
        "rkt"
       ]
      },
      {
       "output_type": "stream",
       "stream": "stdout",
       "text": [
        " (3996, 19) (3996, 57)\n",
        "(3999, 57)"
       ]
      },
      {
       "output_type": "stream",
       "stream": "stdout",
       "text": [
        "\n",
        "(3999, 19)\n",
        "rkt"
       ]
      },
      {
       "output_type": "stream",
       "stream": "stdout",
       "text": [
        " (3996, 19) (3996, 57)\n",
        "(3999, 57)"
       ]
      },
      {
       "output_type": "stream",
       "stream": "stdout",
       "text": [
        "\n",
        "(3999, 19)\n",
        "rkt"
       ]
      },
      {
       "output_type": "stream",
       "stream": "stdout",
       "text": [
        " (3996, 19) (3996, 57)\n",
        "(3999, 57)"
       ]
      },
      {
       "output_type": "stream",
       "stream": "stdout",
       "text": [
        "\n",
        "(3999, 19)\n",
        "rkt"
       ]
      },
      {
       "output_type": "stream",
       "stream": "stdout",
       "text": [
        " (3996, 19) (3996, 57)\n",
        "(3999, 57)"
       ]
      },
      {
       "output_type": "stream",
       "stream": "stdout",
       "text": [
        "\n",
        "(3999, 19)\n",
        "rkt"
       ]
      },
      {
       "output_type": "stream",
       "stream": "stdout",
       "text": [
        " (3996, 19) (3996, 57)\n",
        "(3999, 57)"
       ]
      },
      {
       "output_type": "stream",
       "stream": "stdout",
       "text": [
        "\n",
        "(3999, 19)\n",
        "rkt"
       ]
      },
      {
       "output_type": "stream",
       "stream": "stdout",
       "text": [
        " (3996, 19) (3996, 57)\n",
        "(3999, 57)"
       ]
      },
      {
       "output_type": "stream",
       "stream": "stdout",
       "text": [
        "\n",
        "(3999, 19)\n",
        "rkt"
       ]
      },
      {
       "output_type": "stream",
       "stream": "stdout",
       "text": [
        " (3996, 19) (3996, 57)\n",
        "(3999, 57)"
       ]
      },
      {
       "output_type": "stream",
       "stream": "stdout",
       "text": [
        "\n",
        "(3999, 19)\n",
        "rkt"
       ]
      },
      {
       "output_type": "stream",
       "stream": "stdout",
       "text": [
        " (3996, 19) (3996, 57)\n",
        "(3999, 57)"
       ]
      },
      {
       "output_type": "stream",
       "stream": "stdout",
       "text": [
        "\n",
        "(3999, 19)\n",
        "rkt"
       ]
      },
      {
       "output_type": "stream",
       "stream": "stdout",
       "text": [
        " (3996, 19) (3996, 57)\n",
        "(3999, 57)"
       ]
      },
      {
       "output_type": "stream",
       "stream": "stdout",
       "text": [
        "\n",
        "(3999, 19)\n",
        "rkt"
       ]
      },
      {
       "output_type": "stream",
       "stream": "stdout",
       "text": [
        " (3996, 19) (3996, 57)\n",
        "(3999, 57)"
       ]
      },
      {
       "output_type": "stream",
       "stream": "stdout",
       "text": [
        "\n",
        "(3999, 19)\n",
        "rkt"
       ]
      },
      {
       "output_type": "stream",
       "stream": "stdout",
       "text": [
        " (3996, 19) (3996, 57)\n",
        "(3999, 57)"
       ]
      },
      {
       "output_type": "stream",
       "stream": "stdout",
       "text": [
        "\n",
        "(3999, 19)\n",
        "rkt"
       ]
      },
      {
       "output_type": "stream",
       "stream": "stdout",
       "text": [
        " (3996, 19) (3996, 57)\n",
        "(3999, 57)"
       ]
      },
      {
       "output_type": "stream",
       "stream": "stdout",
       "text": [
        "\n",
        "(3999, 19)\n",
        "rkt"
       ]
      },
      {
       "output_type": "stream",
       "stream": "stdout",
       "text": [
        " (3996, 19) (3996, 57)\n",
        "(3999, 57)"
       ]
      },
      {
       "output_type": "stream",
       "stream": "stdout",
       "text": [
        "\n",
        "(3999, 19)\n",
        "rkt"
       ]
      },
      {
       "output_type": "stream",
       "stream": "stdout",
       "text": [
        " (3996, 19) (3996, 57)\n",
        "(3999, 57)"
       ]
      },
      {
       "output_type": "stream",
       "stream": "stdout",
       "text": [
        "\n",
        "(3999, 19)\n",
        "rkt"
       ]
      },
      {
       "output_type": "stream",
       "stream": "stdout",
       "text": [
        " (3996, 19) (3996, 57)\n",
        "(3999, 57)"
       ]
      },
      {
       "output_type": "stream",
       "stream": "stdout",
       "text": [
        "\n",
        "(3999, 19)\n",
        "rkt"
       ]
      },
      {
       "output_type": "stream",
       "stream": "stdout",
       "text": [
        " (3996, 19) (3996, 57)\n",
        "(3999, 57)"
       ]
      },
      {
       "output_type": "stream",
       "stream": "stdout",
       "text": [
        "\n",
        "(3999, 19)\n",
        "rkt"
       ]
      },
      {
       "output_type": "stream",
       "stream": "stdout",
       "text": [
        " (3996, 19) (3996, 57)\n",
        "(3999, 57)"
       ]
      },
      {
       "output_type": "stream",
       "stream": "stdout",
       "text": [
        "\n",
        "(3999, 19)\n",
        "rkt"
       ]
      },
      {
       "output_type": "stream",
       "stream": "stdout",
       "text": [
        " (3996, 19) (3996, 57)\n",
        "(3999, 57)"
       ]
      },
      {
       "output_type": "stream",
       "stream": "stdout",
       "text": [
        "\n",
        "(3999, 19)\n",
        "rkt"
       ]
      },
      {
       "output_type": "stream",
       "stream": "stdout",
       "text": [
        " (3996, 19) (3996, 57)\n",
        "(3999, 57)"
       ]
      },
      {
       "output_type": "stream",
       "stream": "stdout",
       "text": [
        "\n",
        "(3999, 19)\n",
        "rkt"
       ]
      },
      {
       "output_type": "stream",
       "stream": "stdout",
       "text": [
        " (3996, 19) (3996, 57)\n",
        "(3999, 57)"
       ]
      },
      {
       "output_type": "stream",
       "stream": "stdout",
       "text": [
        "\n",
        "(3999, 19)\n",
        "rkt"
       ]
      },
      {
       "output_type": "stream",
       "stream": "stdout",
       "text": [
        " (3996, 19) (3996, 57)\n",
        "(3999, 57)"
       ]
      },
      {
       "output_type": "stream",
       "stream": "stdout",
       "text": [
        "\n",
        "(3999, 19)\n",
        "rkt"
       ]
      },
      {
       "output_type": "stream",
       "stream": "stdout",
       "text": [
        " (3996, 19) (3996, 57)\n",
        "(3999, 57)"
       ]
      },
      {
       "output_type": "stream",
       "stream": "stdout",
       "text": [
        "\n",
        "(3999, 19)\n",
        "rkt"
       ]
      },
      {
       "output_type": "stream",
       "stream": "stdout",
       "text": [
        " (3996, 19) (3996, 57)\n",
        "(3999, 57)"
       ]
      },
      {
       "output_type": "stream",
       "stream": "stdout",
       "text": [
        "\n",
        "(3999, 19)\n",
        "rkt"
       ]
      },
      {
       "output_type": "stream",
       "stream": "stdout",
       "text": [
        " (3996, 19) (3996, 57)\n",
        "(3999, 57)"
       ]
      },
      {
       "output_type": "stream",
       "stream": "stdout",
       "text": [
        "\n",
        "(3999, 19)\n",
        "rkt"
       ]
      },
      {
       "output_type": "stream",
       "stream": "stdout",
       "text": [
        " (3996, 19) (3996, 57)\n",
        "(3999, 57)"
       ]
      },
      {
       "output_type": "stream",
       "stream": "stdout",
       "text": [
        "\n",
        "(3999, 19)\n",
        "rkt"
       ]
      },
      {
       "output_type": "stream",
       "stream": "stdout",
       "text": [
        " (3996, 19) (3996, 57)\n",
        "(3999, 57)"
       ]
      },
      {
       "output_type": "stream",
       "stream": "stdout",
       "text": [
        "\n",
        "(3999, 19)\n",
        "rkt"
       ]
      },
      {
       "output_type": "stream",
       "stream": "stdout",
       "text": [
        " (3996, 19) (3996, 57)\n",
        "(3999, 57)"
       ]
      },
      {
       "output_type": "stream",
       "stream": "stdout",
       "text": [
        "\n",
        "(3999, 19)\n",
        "rkt"
       ]
      },
      {
       "output_type": "stream",
       "stream": "stdout",
       "text": [
        " (3996, 19) (3996, 57)\n",
        "(3999, 57)"
       ]
      },
      {
       "output_type": "stream",
       "stream": "stdout",
       "text": [
        "\n",
        "(3999, 19)\n",
        "rkt"
       ]
      },
      {
       "output_type": "stream",
       "stream": "stdout",
       "text": [
        " (3996, 19) (3996, 57)\n",
        "(3999, 57)"
       ]
      },
      {
       "output_type": "stream",
       "stream": "stdout",
       "text": [
        "\n",
        "(3999, 19)\n",
        "rkt"
       ]
      },
      {
       "output_type": "stream",
       "stream": "stdout",
       "text": [
        " (3996, 19) (3996, 57)\n",
        "(3999, 57)"
       ]
      },
      {
       "output_type": "stream",
       "stream": "stdout",
       "text": [
        "\n",
        "(3999, 19)\n",
        "rkt"
       ]
      },
      {
       "output_type": "stream",
       "stream": "stdout",
       "text": [
        " (3996, 19) (3996, 57)\n",
        "(3999, 57)"
       ]
      },
      {
       "output_type": "stream",
       "stream": "stdout",
       "text": [
        "\n",
        "(3999, 19)\n",
        "rkt"
       ]
      },
      {
       "output_type": "stream",
       "stream": "stdout",
       "text": [
        " (3996, 19) (3996, 57)\n",
        "(3999, 57)"
       ]
      },
      {
       "output_type": "stream",
       "stream": "stdout",
       "text": [
        "\n",
        "(3999, 19)\n",
        "rkt"
       ]
      },
      {
       "output_type": "stream",
       "stream": "stdout",
       "text": [
        " (3996, 19) (3996, 57)\n",
        "(3999, 57)"
       ]
      },
      {
       "output_type": "stream",
       "stream": "stdout",
       "text": [
        "\n",
        "(3999, 19)\n",
        "rkt"
       ]
      },
      {
       "output_type": "stream",
       "stream": "stdout",
       "text": [
        " (3996, 19) (3996, 57)\n",
        "(3999, 57)"
       ]
      },
      {
       "output_type": "stream",
       "stream": "stdout",
       "text": [
        "\n",
        "(3999, 19)\n",
        "rkt"
       ]
      },
      {
       "output_type": "stream",
       "stream": "stdout",
       "text": [
        " (3996, 19) (3996, 57)\n",
        "(3999, 57)"
       ]
      },
      {
       "output_type": "stream",
       "stream": "stdout",
       "text": [
        "\n",
        "(3999, 19)\n",
        "rkt"
       ]
      },
      {
       "output_type": "stream",
       "stream": "stdout",
       "text": [
        " (3996, 19) (3996, 57)\n",
        "(3999, 57)"
       ]
      },
      {
       "output_type": "stream",
       "stream": "stdout",
       "text": [
        "\n",
        "(3999, 19)\n",
        "rkt"
       ]
      },
      {
       "output_type": "stream",
       "stream": "stdout",
       "text": [
        " (3996, 19) (3996, 57)\n",
        "(3999, 57)"
       ]
      },
      {
       "output_type": "stream",
       "stream": "stdout",
       "text": [
        "\n",
        "(3999, 19)\n",
        "rkt"
       ]
      },
      {
       "output_type": "stream",
       "stream": "stdout",
       "text": [
        " (3996, 19) (3996, 57)\n",
        "(3999, 57)"
       ]
      },
      {
       "output_type": "stream",
       "stream": "stdout",
       "text": [
        "\n",
        "(3999, 19)\n",
        "rkt"
       ]
      },
      {
       "output_type": "stream",
       "stream": "stdout",
       "text": [
        " (3996, 19) (3996, 57)\n",
        "(3999, 57)"
       ]
      },
      {
       "output_type": "stream",
       "stream": "stdout",
       "text": [
        "\n",
        "(3999, 19)\n",
        "rkt"
       ]
      },
      {
       "output_type": "stream",
       "stream": "stdout",
       "text": [
        " (3996, 19) (3996, 57)\n",
        "(3999, 57)"
       ]
      },
      {
       "output_type": "stream",
       "stream": "stdout",
       "text": [
        "\n",
        "(3999, 19)\n",
        "rkt"
       ]
      },
      {
       "output_type": "stream",
       "stream": "stdout",
       "text": [
        " (3996, 19) (3996, 57)\n",
        "(3999, 57)"
       ]
      },
      {
       "output_type": "stream",
       "stream": "stdout",
       "text": [
        "\n",
        "(3999, 19)\n",
        "rkt"
       ]
      },
      {
       "output_type": "stream",
       "stream": "stdout",
       "text": [
        " (3996, 19) (3996, 57)\n",
        "(3999, 57)"
       ]
      },
      {
       "output_type": "stream",
       "stream": "stdout",
       "text": [
        "\n",
        "(3999, 19)\n",
        "rkt"
       ]
      },
      {
       "output_type": "stream",
       "stream": "stdout",
       "text": [
        " (3996, 19) (3996, 57)\n",
        "(3999, 57)"
       ]
      },
      {
       "output_type": "stream",
       "stream": "stdout",
       "text": [
        "\n",
        "(3999, 19)\n",
        "rkt"
       ]
      },
      {
       "output_type": "stream",
       "stream": "stdout",
       "text": [
        " (3996, 19) (3996, 57)\n",
        "(3999, 57)"
       ]
      },
      {
       "output_type": "stream",
       "stream": "stdout",
       "text": [
        "\n",
        "(3999, 19)\n",
        "rkt"
       ]
      },
      {
       "output_type": "stream",
       "stream": "stdout",
       "text": [
        " (3996, 19) (3996, 57)\n",
        "(3999, 57)"
       ]
      },
      {
       "output_type": "stream",
       "stream": "stdout",
       "text": [
        "\n",
        "(3999, 19)\n",
        "rkt"
       ]
      },
      {
       "output_type": "stream",
       "stream": "stdout",
       "text": [
        " (3996, 19) (3996, 57)\n",
        "(3999, 57)"
       ]
      },
      {
       "output_type": "stream",
       "stream": "stdout",
       "text": [
        "\n",
        "(3999, 19)\n",
        "rkt"
       ]
      },
      {
       "output_type": "stream",
       "stream": "stdout",
       "text": [
        " (3996, 19) (3996, 57)\n",
        "(3999, 57)"
       ]
      },
      {
       "output_type": "stream",
       "stream": "stdout",
       "text": [
        "\n",
        "(3999, 19)\n",
        "rkt"
       ]
      },
      {
       "output_type": "stream",
       "stream": "stdout",
       "text": [
        " (3996, 19) (3996, 57)\n",
        "(3999, 57)"
       ]
      },
      {
       "output_type": "stream",
       "stream": "stdout",
       "text": [
        "\n",
        "(3999, 19)\n",
        "rkt"
       ]
      },
      {
       "output_type": "stream",
       "stream": "stdout",
       "text": [
        " (3996, 19) (3996, 57)\n",
        "(3999, 57)"
       ]
      },
      {
       "output_type": "stream",
       "stream": "stdout",
       "text": [
        "\n",
        "(3999, 19)\n",
        "rkt"
       ]
      },
      {
       "output_type": "stream",
       "stream": "stdout",
       "text": [
        " (3996, 19) (3996, 57)\n",
        "(3999, 57)"
       ]
      },
      {
       "output_type": "stream",
       "stream": "stdout",
       "text": [
        "\n",
        "(3999, 19)\n",
        "rkt"
       ]
      },
      {
       "output_type": "stream",
       "stream": "stdout",
       "text": [
        " (3996, 19) (3996, 57)\n",
        "(3999, 57)"
       ]
      },
      {
       "output_type": "stream",
       "stream": "stdout",
       "text": [
        "\n",
        "(3999, 19)\n",
        "rkt"
       ]
      },
      {
       "output_type": "stream",
       "stream": "stdout",
       "text": [
        " (3996, 19) (3996, 57)\n",
        "(3999, 57)"
       ]
      },
      {
       "output_type": "stream",
       "stream": "stdout",
       "text": [
        "\n",
        "(3999, 19)\n",
        "rkt"
       ]
      },
      {
       "output_type": "stream",
       "stream": "stdout",
       "text": [
        " (3996, 19) (3996, 57)\n",
        "(3999, 57)"
       ]
      },
      {
       "output_type": "stream",
       "stream": "stdout",
       "text": [
        "\n",
        "(3999, 19)\n",
        "rkt"
       ]
      },
      {
       "output_type": "stream",
       "stream": "stdout",
       "text": [
        " (3996, 19) (3996, 57)\n",
        "(3999, 57)"
       ]
      },
      {
       "output_type": "stream",
       "stream": "stdout",
       "text": [
        "\n",
        "(3999, 19)\n",
        "rkt"
       ]
      },
      {
       "output_type": "stream",
       "stream": "stdout",
       "text": [
        " (3996, 19) (3996, 57)\n",
        "(3999, 57)"
       ]
      },
      {
       "output_type": "stream",
       "stream": "stdout",
       "text": [
        "\n",
        "(3999, 19)\n",
        "rkt"
       ]
      },
      {
       "output_type": "stream",
       "stream": "stdout",
       "text": [
        " (3996, 19) (3996, 57)\n",
        "(3999, 57)"
       ]
      },
      {
       "output_type": "stream",
       "stream": "stdout",
       "text": [
        "\n",
        "(3999, 19)\n",
        "rkt"
       ]
      },
      {
       "output_type": "stream",
       "stream": "stdout",
       "text": [
        " (3996, 19) (3996, 57)\n",
        "(3999, 57)"
       ]
      },
      {
       "output_type": "stream",
       "stream": "stdout",
       "text": [
        "\n",
        "(3999, 19)\n",
        "rkt"
       ]
      },
      {
       "output_type": "stream",
       "stream": "stdout",
       "text": [
        " (3996, 19) (3996, 57)\n",
        "(3999, 57)"
       ]
      },
      {
       "output_type": "stream",
       "stream": "stdout",
       "text": [
        "\n",
        "(3999, 19)\n",
        "rkt"
       ]
      },
      {
       "output_type": "stream",
       "stream": "stdout",
       "text": [
        " (3996, 19) (3996, 57)\n",
        "(3999, 57)"
       ]
      },
      {
       "output_type": "stream",
       "stream": "stdout",
       "text": [
        "\n",
        "(3999, 19)\n",
        "rkt"
       ]
      },
      {
       "output_type": "stream",
       "stream": "stdout",
       "text": [
        " (3996, 19) (3996, 57)\n",
        "(3999, 57)"
       ]
      },
      {
       "output_type": "stream",
       "stream": "stdout",
       "text": [
        "\n",
        "(3999, 19)\n",
        "rkt"
       ]
      },
      {
       "output_type": "stream",
       "stream": "stdout",
       "text": [
        " (3996, 19) (3996, 57)\n",
        "(3999, 57)"
       ]
      },
      {
       "output_type": "stream",
       "stream": "stdout",
       "text": [
        "\n",
        "(3999, 19)\n",
        "rkt"
       ]
      },
      {
       "output_type": "stream",
       "stream": "stdout",
       "text": [
        " (3996, 19) (3996, 57)\n",
        "(3999, 57)"
       ]
      },
      {
       "output_type": "stream",
       "stream": "stdout",
       "text": [
        "\n",
        "(3999, 19)\n",
        "rkt"
       ]
      },
      {
       "output_type": "stream",
       "stream": "stdout",
       "text": [
        " (3996, 19) (3996, 57)\n",
        "(3999, 57)"
       ]
      },
      {
       "output_type": "stream",
       "stream": "stdout",
       "text": [
        "\n",
        "(3999, 19)\n",
        "rkt"
       ]
      },
      {
       "output_type": "stream",
       "stream": "stdout",
       "text": [
        " (3996, 19) (3996, 57)\n",
        "(3999, 57)"
       ]
      },
      {
       "output_type": "stream",
       "stream": "stdout",
       "text": [
        "\n",
        "(3999, 19)\n",
        "rkt"
       ]
      },
      {
       "output_type": "stream",
       "stream": "stdout",
       "text": [
        " (3996, 19) (3996, 57)\n",
        "(3999, 57)"
       ]
      },
      {
       "output_type": "stream",
       "stream": "stdout",
       "text": [
        "\n",
        "(3999, 19)\n",
        "rkt"
       ]
      },
      {
       "output_type": "stream",
       "stream": "stdout",
       "text": [
        " (3996, 19) (3996, 57)\n",
        "(3999, 57)"
       ]
      },
      {
       "output_type": "stream",
       "stream": "stdout",
       "text": [
        "\n",
        "(3999, 19)\n",
        "rkt"
       ]
      },
      {
       "output_type": "stream",
       "stream": "stdout",
       "text": [
        " (3996, 19) (3996, 57)\n",
        "(3999, 57)"
       ]
      },
      {
       "output_type": "stream",
       "stream": "stdout",
       "text": [
        "\n",
        "(3999, 19)\n",
        "rkt"
       ]
      },
      {
       "output_type": "stream",
       "stream": "stdout",
       "text": [
        " (3996, 19) (3996, 57)\n",
        "(3999, 57)"
       ]
      },
      {
       "output_type": "stream",
       "stream": "stdout",
       "text": [
        "\n",
        "(3999, 19)\n",
        "rkt"
       ]
      },
      {
       "output_type": "stream",
       "stream": "stdout",
       "text": [
        " (3996, 19) (3996, 57)\n",
        "(3999, 57)"
       ]
      },
      {
       "output_type": "stream",
       "stream": "stdout",
       "text": [
        "\n",
        "(3999, 19)\n",
        "rkt"
       ]
      },
      {
       "output_type": "stream",
       "stream": "stdout",
       "text": [
        " (3996, 19) (3996, 57)\n",
        "(3999, 57)"
       ]
      },
      {
       "output_type": "stream",
       "stream": "stdout",
       "text": [
        "\n",
        "(3999, 19)\n",
        "rkt"
       ]
      },
      {
       "output_type": "stream",
       "stream": "stdout",
       "text": [
        " (3996, 19) (3996, 57)\n",
        "(3999, 57)"
       ]
      },
      {
       "output_type": "stream",
       "stream": "stdout",
       "text": [
        "\n",
        "(3999, 19)\n",
        "rkt"
       ]
      },
      {
       "output_type": "stream",
       "stream": "stdout",
       "text": [
        " (3996, 19) (3996, 57)\n",
        "(3999, 57)"
       ]
      },
      {
       "output_type": "stream",
       "stream": "stdout",
       "text": [
        "\n",
        "(3999, 19)\n",
        "rkt"
       ]
      },
      {
       "output_type": "stream",
       "stream": "stdout",
       "text": [
        " (3996, 19) (3996, 57)\n",
        "(3999, 57)"
       ]
      },
      {
       "output_type": "stream",
       "stream": "stdout",
       "text": [
        "\n",
        "(3999, 19)\n",
        "rkt"
       ]
      },
      {
       "output_type": "stream",
       "stream": "stdout",
       "text": [
        " (3996, 19) (3996, 57)\n",
        "(3999, 57)"
       ]
      },
      {
       "output_type": "stream",
       "stream": "stdout",
       "text": [
        "\n",
        "(3999, 19)\n",
        "rkt"
       ]
      },
      {
       "output_type": "stream",
       "stream": "stdout",
       "text": [
        " (3996, 19) (3996, 57)\n",
        "(3999, 57)"
       ]
      },
      {
       "output_type": "stream",
       "stream": "stdout",
       "text": [
        "\n",
        "(3999, 19)\n",
        "rkt"
       ]
      },
      {
       "output_type": "stream",
       "stream": "stdout",
       "text": [
        " (3996, 19) (3996, 57)\n",
        "(3999, 57)"
       ]
      },
      {
       "output_type": "stream",
       "stream": "stdout",
       "text": [
        "\n",
        "(3999, 19)\n",
        "rkt"
       ]
      },
      {
       "output_type": "stream",
       "stream": "stdout",
       "text": [
        " (3996, 19) (3996, 57)\n",
        "(3999, 57)"
       ]
      },
      {
       "output_type": "stream",
       "stream": "stdout",
       "text": [
        "\n",
        "(3999, 19)\n",
        "rkt"
       ]
      },
      {
       "output_type": "stream",
       "stream": "stdout",
       "text": [
        " (3996, 19) (3996, 57)\n",
        "(3999, 57)"
       ]
      },
      {
       "output_type": "stream",
       "stream": "stdout",
       "text": [
        "\n",
        "(3999, 19)\n",
        "rkt"
       ]
      },
      {
       "output_type": "stream",
       "stream": "stdout",
       "text": [
        " (3996, 19) (3996, 57)\n",
        "(3999, 57)"
       ]
      },
      {
       "output_type": "stream",
       "stream": "stdout",
       "text": [
        "\n",
        "(3999, 19)\n",
        "rkt"
       ]
      },
      {
       "output_type": "stream",
       "stream": "stdout",
       "text": [
        " (3996, 19) (3996, 57)\n",
        "(3999, 57)"
       ]
      },
      {
       "output_type": "stream",
       "stream": "stdout",
       "text": [
        "\n",
        "(3999, 19)\n",
        "rkt"
       ]
      },
      {
       "output_type": "stream",
       "stream": "stdout",
       "text": [
        " (3996, 19) (3996, 57)\n",
        "(3999, 57)"
       ]
      },
      {
       "output_type": "stream",
       "stream": "stdout",
       "text": [
        "\n",
        "(3999, 19)\n",
        "rkt"
       ]
      },
      {
       "output_type": "stream",
       "stream": "stdout",
       "text": [
        " (3996, 19) (3996, 57)\n",
        "(3999, 57)"
       ]
      },
      {
       "output_type": "stream",
       "stream": "stdout",
       "text": [
        "\n",
        "(3999, 19)\n",
        "rkt"
       ]
      },
      {
       "output_type": "stream",
       "stream": "stdout",
       "text": [
        " (3996, 19) (3996, 57)\n",
        "(3999, 57)"
       ]
      },
      {
       "output_type": "stream",
       "stream": "stdout",
       "text": [
        "\n",
        "(3999, 19)\n",
        "rkt"
       ]
      },
      {
       "output_type": "stream",
       "stream": "stdout",
       "text": [
        " (3996, 19) (3996, 57)\n",
        "(3999, 57)"
       ]
      },
      {
       "output_type": "stream",
       "stream": "stdout",
       "text": [
        "\n",
        "(3999, 19)\n",
        "rkt"
       ]
      },
      {
       "output_type": "stream",
       "stream": "stdout",
       "text": [
        " (3996, 19) (3996, 57)\n",
        "(3999, 57)"
       ]
      },
      {
       "output_type": "stream",
       "stream": "stdout",
       "text": [
        "\n",
        "(3999, 19)\n",
        "rkt"
       ]
      },
      {
       "output_type": "stream",
       "stream": "stdout",
       "text": [
        " (3996, 19) (3996, 57)\n",
        "(3999, 57)"
       ]
      },
      {
       "output_type": "stream",
       "stream": "stdout",
       "text": [
        "\n",
        "(3999, 19)\n",
        "rkt"
       ]
      },
      {
       "output_type": "stream",
       "stream": "stdout",
       "text": [
        " (3996, 19) (3996, 57)\n",
        "(3999, 57)"
       ]
      },
      {
       "output_type": "stream",
       "stream": "stdout",
       "text": [
        "\n",
        "(3999, 19)\n",
        "rkt"
       ]
      },
      {
       "output_type": "stream",
       "stream": "stdout",
       "text": [
        " (3996, 19) (3996, 57)\n",
        "(3999, 57)"
       ]
      },
      {
       "output_type": "stream",
       "stream": "stdout",
       "text": [
        "\n",
        "(3999, 19)\n",
        "rkt"
       ]
      },
      {
       "output_type": "stream",
       "stream": "stdout",
       "text": [
        " (3996, 19) (3996, 57)\n",
        "(3999, 57)"
       ]
      },
      {
       "output_type": "stream",
       "stream": "stdout",
       "text": [
        "\n",
        "(3999, 19)\n",
        "rkt"
       ]
      },
      {
       "output_type": "stream",
       "stream": "stdout",
       "text": [
        " (3996, 19) (3996, 57)\n",
        "(3999, 57)"
       ]
      },
      {
       "output_type": "stream",
       "stream": "stdout",
       "text": [
        "\n",
        "(3999, 19)\n",
        "rkt"
       ]
      },
      {
       "output_type": "stream",
       "stream": "stdout",
       "text": [
        " (3996, 19) (3996, 57)\n",
        "(3999, 57)"
       ]
      },
      {
       "output_type": "stream",
       "stream": "stdout",
       "text": [
        "\n",
        "(3999, 19)\n",
        "rkt"
       ]
      },
      {
       "output_type": "stream",
       "stream": "stdout",
       "text": [
        " (3996, 19) (3996, 57)\n",
        "(3999, 57)"
       ]
      },
      {
       "output_type": "stream",
       "stream": "stdout",
       "text": [
        "\n",
        "(3999, 19)\n",
        "rkt"
       ]
      },
      {
       "output_type": "stream",
       "stream": "stdout",
       "text": [
        " (3996, 19) (3996, 57)\n",
        "(3999, 57)"
       ]
      },
      {
       "output_type": "stream",
       "stream": "stdout",
       "text": [
        "\n",
        "(3999, 19)\n",
        "rkt"
       ]
      },
      {
       "output_type": "stream",
       "stream": "stdout",
       "text": [
        " (3996, 19) (3996, 57)\n",
        "(3999, 57)"
       ]
      },
      {
       "output_type": "stream",
       "stream": "stdout",
       "text": [
        "\n",
        "(3999, 19)\n",
        "rkt"
       ]
      },
      {
       "output_type": "stream",
       "stream": "stdout",
       "text": [
        " (3996, 19) (3996, 57)\n",
        "(3999, 57)"
       ]
      },
      {
       "output_type": "stream",
       "stream": "stdout",
       "text": [
        "\n",
        "(3999, 19)\n",
        "rkt"
       ]
      },
      {
       "output_type": "stream",
       "stream": "stdout",
       "text": [
        " (3996, 19) (3996, 57)\n",
        "(3999, 57)"
       ]
      },
      {
       "output_type": "stream",
       "stream": "stdout",
       "text": [
        "\n",
        "(3999, 19)\n",
        "rkt"
       ]
      },
      {
       "output_type": "stream",
       "stream": "stdout",
       "text": [
        " (3996, 19) (3996, 57)\n",
        "(3999, 57)"
       ]
      },
      {
       "output_type": "stream",
       "stream": "stdout",
       "text": [
        "\n",
        "(3999, 19)\n",
        "rkt"
       ]
      },
      {
       "output_type": "stream",
       "stream": "stdout",
       "text": [
        " (3996, 19) (3996, 57)\n",
        "(3999, 57)"
       ]
      },
      {
       "output_type": "stream",
       "stream": "stdout",
       "text": [
        "\n",
        "(3999, 19)\n",
        "rkt"
       ]
      },
      {
       "output_type": "stream",
       "stream": "stdout",
       "text": [
        " (3996, 19) (3996, 57)\n",
        "(3999, 57)"
       ]
      },
      {
       "output_type": "stream",
       "stream": "stdout",
       "text": [
        "\n",
        "(3999, 19)\n",
        "rkt"
       ]
      },
      {
       "output_type": "stream",
       "stream": "stdout",
       "text": [
        " (3996, 19) (3996, 57)\n",
        "(3999, 57)"
       ]
      },
      {
       "output_type": "stream",
       "stream": "stdout",
       "text": [
        "\n",
        "(3999, 19)\n",
        "rkt"
       ]
      },
      {
       "output_type": "stream",
       "stream": "stdout",
       "text": [
        " (3996, 19) (3996, 57)\n",
        "(3999, 57)"
       ]
      },
      {
       "output_type": "stream",
       "stream": "stdout",
       "text": [
        "\n",
        "(3999, 19)\n",
        "rkt"
       ]
      },
      {
       "output_type": "stream",
       "stream": "stdout",
       "text": [
        " (3996, 19) (3996, 57)\n",
        "(3999, 57)"
       ]
      },
      {
       "output_type": "stream",
       "stream": "stdout",
       "text": [
        "\n",
        "(3999, 19)\n",
        "rkt"
       ]
      },
      {
       "output_type": "stream",
       "stream": "stdout",
       "text": [
        " (3996, 19) (3996, 57)\n",
        "(3999, 57)"
       ]
      },
      {
       "output_type": "stream",
       "stream": "stdout",
       "text": [
        "\n",
        "(3999, 19)\n",
        "rkt"
       ]
      },
      {
       "output_type": "stream",
       "stream": "stdout",
       "text": [
        " (3996, 19) (3996, 57)\n",
        "(3999, 57)"
       ]
      },
      {
       "output_type": "stream",
       "stream": "stdout",
       "text": [
        "\n",
        "(3999, 19)\n",
        "rkt"
       ]
      },
      {
       "output_type": "stream",
       "stream": "stdout",
       "text": [
        " (3996, 19) (3996, 57)\n",
        "(3999, 57)"
       ]
      },
      {
       "output_type": "stream",
       "stream": "stdout",
       "text": [
        "\n",
        "(3999, 19)\n",
        "rkt"
       ]
      },
      {
       "output_type": "stream",
       "stream": "stdout",
       "text": [
        " (3996, 19) (3996, 57)\n",
        "[7, 7, 7, 7, 7, 7, 7, 7, 7, 7, 7, 7, 7, 7, 7, 7, 7, 7, 7, 7, 7, 7, 7, 7, 7, 7, 7, 7, 7, 7, 7, 7, 7, 7, 7, 7, 7, 7, 7, 7, 7, 7, 7, 7, 7, 7, 7, 7, 7, 7, 7, 7, 7, 7, 7, 7, 7, 7, 7, 7, 7, 7, 7, 7, 7, 7, 7, 7, 7, 7, 7, 7, 7, 7, 7, 7, 7, 7, 7, 7, 7, 7, 7, 7, 7, 7, 7, 7, 7, 7, 7, 7, 7, 7, 7, 7, 7, 7, 7, 7, 7, 7, 7, 7, 7, 7, 7, 7, 7, 7, 7, 7, 7, 7, 7, 7, 7, 7, 7, 7, 7, 7, 7, 7, 7, 7, 7, 7, 7, 7, 7, 7, 7, 7, 7, 7, 7, 7, 7, 7, 7, 7, 7, 7, 7, 7, 7, 7, 7, 7, 7, 7, 7, 7, 7, 7, 7, 7, 7, 7, 7, 7, 7, 7, 7, 7, 7, 7, 7, 7, 7, 7, 7, 7, 7, 7, 7, 7, 7, 7, 7, 7, 7, 7, 7, 7, 7, 7, 7, 7, 7, 7, 7, 7, 7, 7, 7, 7, 7, 7, 7, 7, 7, 7, 7, 7, 7, 7, 7, 7, 7, 7, 7, 7, 7, 7, 7, 7, 7, 7, 7, 7, 7, 7, 7, 7, 7, 7, 7, 7, 7, 7, 7, 7, 7, 7, 7, 7, 7, 7, 7, 7, 7, 7, 7, 7, 7, 7, 7, 7, 7, 7, 7, 7, 7, 7, 7, 7, 7, 7, 7, 7, 7, 7, 7, 7, 7, 7, 7, 7, 7, 7, 7, 7, 7, 7, 7, 7, 7, 7, 7, 7, 7, 7, 7, 7, 7, 7, 7, 7, 7, 7, 7, 7, 7, 7, 7, 7, 7, 7, 7, 7, 7, 7, 7, 7, 7, 7, 7, 7, 7, 8, 8, 8, 8, 8, 8, 8, 8, 8, 8, 8, 8, 8, 8, 8, 8, 8, 8, 8, 8, 8, 8, 8, 8, 8, 8, 8, 8, 8, 8, 8, 8, 8, 8, 8, 8, 8, 8, 8, 8, 8, 8, 8, 8, 8, 8, 8, 8, 8, 8, 7, 7, 7, 7, 7, 7, 7, 7, 7, 7, 7, 7, 7, 7, 7, 7, 7, 7, 7, 7, 7, 7, 7, 7, 7, 7, 7, 7, 7, 7, 7, 7, 7, 7, 7, 7, 7, 7, 7, 7, 7, 7, 7, 7, 7, 7, 7, 7, 7, 7, 7, 7, 7, 7, 7, 7, 7, 7, 7, 7, 7, 7, 7, 7, 7, 7, 7, 7, 7, 7, 7, 7, 7, 7, 7, 7, 7, 7, 7, 7, 7, 7, 7, 7, 7, 7, 7, 7, 7, 7, 7, 7, 7, 7, 7, 7, 7, 7, 7, 7, 7, 7, 7, 7, 7, 7, 7, 7, 7, 7, 7, 7, 7, 7, 7, 7, 7, 7, 7, 7, 7, 7, 7, 7, 7, 7, 7, 7, 7, 7, 7, 7, 7, 7, 7, 7, 7, 7, 7, 7, 7, 7, 7, 7, 7, 7, 7, 7, 7, 7, 7, 7, 7, 7, 7, 7, 7, 7, 7, 7, 7, 7, 7, 7, 7, 7, 7, 7, 7, 7, 7, 7, 7, 7, 7, 7, 7, 7, 7, 7, 7, 7, 7, 7, 7, 7, 7, 7, 7, 7, 7, 7, 7, 7, 7, 7, 7, 7, 7, 7, 7, 7, 7, 7, 7, 7, 7, 7, 7, 7, 7, 7, 7, 7, 7, 7, 7, 7, 7, 7, 7, 7, 7, 7, 7, 7, 7, 7, 7, 7, 7, 7, 7, 7, 7, 7, 7, 7, 7, 7, 7, 7, 7, 7, 7, 7, 7, 7, 7, 7, 7, 7, 7, 7, 7, 7, 7, 7, 7, 7, 7, 7, 7, 7, 7, 7, 7, 7, 7, 7, 7, 7, 7, 7, 7, 7, 7, 7, 7, 7, 7, 7, 7, 7, 7, 7, 7, 7, 7, 7, 7, 7, 7, 7, 7, 7, 7, 7, 7, 7, 7, 7, 7, 7, 7, 7, 7, 7, 7, 7, 7, 7, 7, 7, 7, 7, 7, 7, 7, 7, 7, 7, 7, 7, 7, 7, 7, 7, 7, 7, 7, 7, 7, 7, 7, 7, 7, 7, 7, 7, 7, 7, 7, 7, 7, 7, 7, 7, 7, 7, 7, 7, 7, 7, 7, 7, 7, 7, 7, 7, 7, 7, 7, 7, 7, 7, 7, 7, 7, 7, 7, 7, 7, 7, 7, 7, 7, 7, 7, 7, 7, 7, 7, 7, 7, 7, 7, 7, 7, 7, 7, 7, 7, 7, 7, 7, 7, 7, 7, 7, 7, 7, 7, 7, 7, 7, 7, 7, 7, 7, 7, 7, 7, 7, 7, 7, 7, 7, 7, 7, 7, 7, 7, 7, 7, 7, 7, 7, 7, 7, 7, 7, 7, 7, 7, 7, 7, 7, 7, 7, 7, 7, 7, 7, 7, 7, 7, 7, 7, 7, 7, 7, 7, 7, 7, 7, 7, 7, 7, 7, 7, 7, 7, 7, 7, 7, 7, 7, 7, 7, 7, 7, 7, 7, 7, 7, 7, 7, 7, 7, 7, 7, 7, 7, 7, 7, 7, 7, 7, 7, 7, 7, 7, 7, 7, 7, 7, 7, 7, 7]"
       ]
      },
      {
       "output_type": "stream",
       "stream": "stdout",
       "text": [
        "\n"
       ]
      }
     ],
     "prompt_number": 22
    },
    {
     "cell_type": "code",
     "collapsed": false,
     "input": [
      "\"\"\"\n",
      "Getting the difference norm of cointegration vectors\n",
      "\"\"\"\n",
      "coint_vector_error = []\n",
      "coint_vector_norm = []\n",
      "for i in range(1,len(coint_vectors)):\n",
      "    coint_vector_norm.append(norm(coint_vectors[i][:,:7],'fro'))\n",
      "    coint_vector_error.append(norm(coint_vectors[i][:,:7]-coint_vectors[i-1][:,:7],'fro'))"
     ],
     "language": "python",
     "metadata": {},
     "outputs": [],
     "prompt_number": 27
    },
    {
     "cell_type": "code",
     "collapsed": false,
     "input": [
      "shape(coint_vectors)"
     ],
     "language": "python",
     "metadata": {},
     "outputs": [
      {
       "metadata": {},
       "output_type": "pyout",
       "prompt_number": 8,
       "text": [
        "(41, 19, 7)"
       ]
      }
     ],
     "prompt_number": 8
    },
    {
     "cell_type": "code",
     "collapsed": false,
     "input": [
      "norm(coint_vectors[1][:,:7],'fro')"
     ],
     "language": "python",
     "metadata": {},
     "outputs": [
      {
       "metadata": {},
       "output_type": "pyout",
       "prompt_number": 9,
       "text": [
        "10668.330947524415"
       ]
      }
     ],
     "prompt_number": 9
    },
    {
     "cell_type": "code",
     "collapsed": false,
     "input": [
      "norm(coint_vectors[2][:,:7]-coint_vectors[1][:,:7],'fro')"
     ],
     "language": "python",
     "metadata": {},
     "outputs": [
      {
       "metadata": {},
       "output_type": "pyout",
       "prompt_number": 10,
       "text": [
        "7661.6081980730378"
       ]
      }
     ],
     "prompt_number": 10
    },
    {
     "cell_type": "code",
     "collapsed": false,
     "input": [
      "\"\"\"\n",
      "Plot of the number of cointegration vectos\n",
      "\"\"\"\n",
      "plt.plot(nr)\n",
      "plt.axis([ 0, len(nr), 0, max(nr)+3])"
     ],
     "language": "python",
     "metadata": {},
     "outputs": [
      {
       "metadata": {},
       "output_type": "pyout",
       "prompt_number": 25,
       "text": [
        "[0, 861, 0, 11]"
       ]
      },
      {
       "metadata": {},
       "output_type": "display_data",
       "png": "[encoded data removed]",
       "text": [
        "<matplotlib.figure.Figure at 0x7f965a4537d0>"
       ]
      }
     ],
     "prompt_number": 25
    },
    {
     "cell_type": "code",
     "collapsed": false,
     "input": [
      "\"\"\"\n",
      "Plot of the difference norm of cointegration vectors\n",
      "\"\"\"\n",
      "plt.figure()\n",
      "plt.plot(coint_vector_norm, 'ro', label=\"eigv norm\")\n",
      "plt.plot(coint_vector_error,'g-', label=\"norm difference\")\n",
      "legend(loc='lower right')\n",
      "plt.show()"
     ],
     "language": "python",
     "metadata": {},
     "outputs": [
      {
       "metadata": {},
       "output_type": "display_data",
       "png": "[encoded data removed]",
       "text": [
        "<matplotlib.figure.Figure at 0x7f965a338c10>"
       ]
      }
     ],
     "prompt_number": 28
    },
    {
     "cell_type": "code",
     "collapsed": false,
     "input": [
      "#We have to determine first ADF test\n",
      "prices.plot(x = 'USDCHF',y='USDSGD',style='o')\n",
      "show()"
     ],
     "language": "python",
     "metadata": {},
     "outputs": [
      {
       "metadata": {},
       "output_type": "display_data",
       "png": "[encoded data removed]",
       "text": [
        "<matplotlib.figure.Figure at 0x7ff3cdb90cd0>"
       ]
      }
     ],
     "prompt_number": 27
    },
    {
     "cell_type": "code",
     "collapsed": false,
     "input": [
      "plot(prices[['EURUSD','USDSGD','GBPUSD']])\n",
      "show()"
     ],
     "language": "python",
     "metadata": {},
     "outputs": []
    },
    {
     "cell_type": "code",
     "collapsed": false,
     "input": [
      "    print '--------------------------------------------------'\n",
      "    print '--> Trace Statistics'\n",
      "    print 'variable statistic Crit-90% Crit-95%  Crit-99%'\n",
      "    for i in range(len(result.lr1)):\n",
      "        print 'r =',i,'\\t', result.lr1[i], result.cvt[i,0], result.cvt[i,1],result.cvt[i,2]\n",
      "    print '--------------------------------------------------'\n",
      "    print '--> Eigen Statistics'\n",
      "    print 'variable statistic Crit-90% Crit-95%  Crit-99%'\n",
      "    for i in range(len(result.lr2)):\n",
      "        print 'r =',i,'\\t', result.lr2[i], result.cvm[i,0], result.cvm[i,1],result.cvm[i,2]\n",
      "    print '--------------------------------------------------'\n",
      "    print 'eigenvectors:\\n',result.evec\n",
      "    print '--------------------------------------------------'\n",
      "    print 'eigenvalues:\\n',result.eig\n",
      "    print '--------------------------------------------------'"
     ],
     "language": "python",
     "metadata": {},
     "outputs": []
    }
   ],
   "metadata": {}
  }
 ]
}