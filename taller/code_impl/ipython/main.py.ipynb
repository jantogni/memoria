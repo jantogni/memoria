{
 "metadata": {
  "name": "",
  "signature": "sha256:80fc23eb36450e3df52990a6278484a5ded7edbfe8fafec0f0db649d4da1190b"
 },
 "nbformat": 3,
 "nbformat_minor": 0,
 "worksheets": [
  {
   "cells": [
    {
     "cell_type": "code",
     "collapsed": false,
     "input": [
      "import sys\n",
      "sys.path.insert(0, '../python/')\n",
      "import classes as cl\n",
      "import pandas as pd\n",
      "import numpy as np\n",
      "from datetime import datetime, date, time\n",
      "import time\n",
      "from statsmodels.tsa.stattools import adfuller\n",
      "from statsmodels.tsa.tsatools import vec\n",
      "from statsmodels.tsa.johansen import coint_johansen\n",
      "import matplotlib.pyplot as plt\n",
      "from sklearn import linear_model\n",
      "\n",
      "pylab.rcParams['figure.figsize'] = (12.0, 10.0)\n",
      "np.set_printoptions(precision = 6)\n",
      "\n",
      "tickers = ['EURUSD', 'GBPUSD','CHFUSD','JPYUSD']              # Currencies list\n",
      "#tickers = ['EURCHF','EURGBP','EURJPY']\n",
      "\n",
      "print \"Reading data ...\"\n",
      "reader = cl.Reader('../data_csv/data_ask.csv')\n",
      "data = reader.load_data(tickers)\n",
      "print \"Done ...\""
     ],
     "language": "python",
     "metadata": {},
     "outputs": []
    },
    {
     "cell_type": "code",
     "collapsed": false,
     "input": [
      "print \"Reading synthetic data ...\"\n",
      "tickers = ['col1', 'col2','col3','col4']    \n",
      "reader = cl.Reader('../data_csv/synthetic-data.csv')\n",
      "data = reader.load_data(tickers)\n",
      "print \"Done ...\"\n",
      "data = data + np.abs(data.min())  # Avoiding negative numbers"
     ],
     "language": "python",
     "metadata": {},
     "outputs": []
    },
    {
     "cell_type": "code",
     "collapsed": false,
     "input": [
      "def SLAAR_2(y,L,P,it,avg_error,r,n):\n",
      "    new_beta = False            # Get a new beta condition\n",
      "    Y_true = np.zeros([it, l])  # Out of sample true value\n",
      "    Y_pred = np.zeros([it, l])  # Out of sample forecasting\n",
      "    mape = np.zeros([it,l])     # In-sample mape\n",
      "    m = cl.Matrix()\n",
      "\n",
      "    print \"SLAAR_2 loop\"\n",
      "    start_time = time.time()\n",
      "\n",
      "    for i in range(it):\n",
      "        sys.stdout.write(\"\\r{0}%\".format((float(i + 1) / it) * 100))\n",
      "        sys.stdout.flush()\n",
      "\n",
      "        y_i = y[i:i + L]\n",
      "\n",
      "        if i == 0:\n",
      "            beta = m.get_johansen(y_i.as_matrix(), P, r)\n",
      "            A, B = m.vec_matrix(y_i, P, beta.evecr)        \n",
      "        else:\n",
      "            A, B = m.vec_matrix_online(A, B, y_i, P, beta.evecr)        \n",
      "            Y_true[i,:] = B[-1,:]\n",
      "            Y_pred[i,:] = np.dot(A[-1,:],x)\n",
      "\n",
      "        x, residuals, rank, s = np.linalg.lstsq(A, B)\n",
      "        Ax = np.dot(A, x)\n",
      "        residuals = B - Ax\n",
      "\n",
      "        y_true = B[-n:]\n",
      "        y_pred = Ax[-n:]\n",
      "\n",
      "        mape[i,:] = m.MAPE(y_true, y_pred)\n",
      "\n",
      "        if (np.average(mape[i,:]) > avg_error):\n",
      "            beta = m.get_johansen(y_i.as_matrix(), P)\n",
      "            r = beta.r\n",
      "            A = m.vec_matrix_update(A, y_i, P, beta.evecr)\n",
      "            x, residuals, rank, s = np.linalg.lstsq(A, B)\n",
      "\n",
      "        print \"Matrices\"\n",
      "        print \"A\", A\n",
      "        print \"x\", x\n",
      "        print \"beta\", beta.evecr\n",
      "        print \"r\", beta.r\n",
      "            \n",
      "    o_mape = m.MAPE(Y_true, Y_pred)  # Out-of-Sample MAPE\n",
      "    return y_true, y_pred, Y_true, Y_pred, mape, o_mape, time.time() - start_time"
     ],
     "language": "python",
     "metadata": {},
     "outputs": []
    },
    {
     "cell_type": "code",
     "collapsed": false,
     "input": [
      "#90.000 iteraciones con r =1 avg_error = 0 (hace johansen cada vez)\n",
      "y=log(data)  \n",
      "L = 100                    # Length of window\n",
      "P = 4                       # Number of lags\n",
      "it, l = y.shape\n",
      "#it = it - L\n",
      "it = 10                  # Number of iterations\n",
      "r = 0                       # Number of cointegration relations, if 0 get Johansen r\n",
      "n = 50                      # Number of instances to calculate MAPE\n",
      "avg_error = 0             # MAPE threshold to get new beta\n",
      "y_true, y_pred, Y_true, Y_pred, mape, o_mape, etime = SLAAR_2(y,L,P,it,avg_error,r,n)\n",
      "print \"elapsed time: \", etime \n",
      "print \"Out-of-sample MAPE\", o_mape"
     ],
     "language": "python",
     "metadata": {},
     "outputs": []
    },
    {
     "cell_type": "code",
     "collapsed": false,
     "input": [
      "i=0\n",
      "m = cl.Matrix()\n",
      "y_i = y[i:i + L]\n",
      "#beta = m.get_johansen(y_i.as_matrix(), P, r)"
     ],
     "language": "python",
     "metadata": {},
     "outputs": []
    },
    {
     "cell_type": "code",
     "collapsed": false,
     "input": [
      "data = data - data.min()"
     ],
     "language": "python",
     "metadata": {},
     "outputs": []
    },
    {
     "cell_type": "code",
     "collapsed": false,
     "input": [
      "#90.000 iteraciones con r =1 avg_error = 0 (hace johansen cada vez)\n",
      "y=log(data)  \n",
      "L = 20000                    # Length of window\n",
      "P =10                       # Number of lags\n",
      "it, l = y.shape\n",
      "it = it - L\n",
      "it = 50                  # Number of iterations\n",
      "r = 1                       # Number of cointegration relations, if 0 get Johansen r\n",
      "n = 50                      # Number of instances to calculate MAPE\n",
      "avg_error = 110             # MAPE threshold to get new beta\n",
      "y=log(data)                 # Logarithm of currencies\n",
      "y_true, y_pred, Y_true, Y_pred, mape, o_mape, etime = SLAAR_2(y,L,P,it,avg_error,r,n)\n",
      "print \"elapsed time: \", etime \n",
      "print \"Out-of-sample MAPE\", o_mape"
     ],
     "language": "python",
     "metadata": {},
     "outputs": []
    },
    {
     "cell_type": "heading",
     "level": 1,
     "metadata": {},
     "source": [
      "Iteraciones"
     ]
    },
    {
     "cell_type": "code",
     "collapsed": false,
     "input": [
      "m = cl.Matrix()\n",
      "y=log(data)                 # Logarithm of currencie\n",
      "r = 1\n",
      "Ls = [100, 1000, 3000, 5000, 10000]\n",
      "Ps = [1, 4, 8, 12]\n",
      "its = [1000, 90000]\n",
      "ns = [5, 10, 50 , 100]\n",
      "avg_errors = [0, 80, 110]\n",
      "f = open('tests.csv', 'a')\n",
      "f.write('r,L,P,it,n,avg_error,ttime,avgtime,MAPE EURUSD,MAPE GBPUSD, MAPE CHFUSD, MAPE JPYUSD \\n')\n",
      "f.close()\n",
      "for L in Ls:\n",
      "    for P in Ps:\n",
      "        for it in its:\n",
      "            for n in ns:\n",
      "                for avg_error in avg_errors:\n",
      "                    print \"running for: L: \", L,\" P: \", P, \" it: \", it, \" n: \", n, \" avg_error: \", avg_error \n",
      "                    y_true, y_pred, Y_true, Y_pred, mape, o_mape, etime = SLAAR_2(y,L,P,it,avg_error,r,n)\n",
      "                    f = open('tests.csv', 'a')\n",
      "                    f.write(str(r)+','+str(L)+','+str(P)+','+str(it)+','\\\n",
      "                            +str(n)+','+str(avg_error)+','+str(etime)+','+str(etime/it)+\",\"+','.join(map(str, o_mape))+\"\\n\")\n",
      "                    f.close()"
     ],
     "language": "python",
     "metadata": {},
     "outputs": []
    },
    {
     "cell_type": "code",
     "collapsed": false,
     "input": [
      "# Out of Sample plot\n",
      "pylab.rcParams['figure.figsize'] = (17.0, 15.0)\n",
      "it1=it\n",
      "for j in range(1,l+1):\n",
      "    ax = subplot(4,1,j)\n",
      "    ax.plot(range(it1-1),Y_true[1:it1,j-1],'r--',label='True '+y.columns[j-1])\n",
      "    ax.plot(range(it1-1),Y_pred[1:it1,j-1],'b-',label='Pred '+y.columns[j-1])\n",
      "    ax.legend(loc=2); # upper left corner\n",
      "show()"
     ],
     "language": "python",
     "metadata": {},
     "outputs": []
    },
    {
     "cell_type": "code",
     "collapsed": false,
     "input": [
      "# In-sample plot\n",
      "l = y.shape[1]\n",
      "pylab.rcParams['figure.figsize'] = (17.0, 15.0)\n",
      "for k in range(l):\n",
      "    ax = subplot(4,1,k+1)\n",
      "    ax.plot(range(n),y_true[:,k],'r--',range(n),y_pred[:,k],'b-')\n",
      "show()"
     ],
     "language": "python",
     "metadata": {},
     "outputs": []
    },
    {
     "cell_type": "code",
     "collapsed": false,
     "input": [
      "# Out of Sample plot\n",
      "pylab.rcParams['figure.figsize'] = (17.0, 15.0)\n",
      "it1=it\n",
      "for j in range(1,l+1):\n",
      "    ax = subplot(4,1,j)\n",
      "    ax.plot(range(it1-1),Y_true[1:it1,j-1],'r--',label='True '+y.columns[j-1])\n",
      "    ax.plot(range(it1-1),Y_pred[1:it1,j-1],'b-',label='Pred '+y.columns[j-1])\n",
      "    ax.legend(loc=2); # upper left corner\n",
      "show()"
     ],
     "language": "python",
     "metadata": {},
     "outputs": []
    },
    {
     "cell_type": "code",
     "collapsed": false,
     "input": [
      "# MAPE In-sample\n",
      "pylab.rcParams['figure.figsize'] = (17.0, 15.0)\n",
      "it1=it\n",
      "for i in range(1,l+1):\n",
      "    ax = subplot(4,1,i)\n",
      "    ax.plot(range(it1),mape[:it1,i-1],'g-',label='MAPE '+y.columns[i-1])\n",
      "    ax.legend(loc=2); # upper left corner\n",
      "show()"
     ],
     "language": "python",
     "metadata": {},
     "outputs": []
    },
    {
     "cell_type": "code",
     "collapsed": false,
     "input": [
      "#Plot all currencies\n",
      "pylab.rcParams['figure.figsize'] = (17.0, 15.0)\n",
      "l = y.shape[1]\n",
      "n_data = 90000\n",
      "\n",
      "for i in range(1,l+1):\n",
      "    ax = subplot(4,1,i)\n",
      "    y[y.columns[i-1]][:n_data].plot()\n",
      "    #ax.plot(range(it1),Y_pred[:it1,i-1],'b-',label='Pred '+y.columns[i-1])\n",
      "    ax.legend(loc=2); # upper left corner\n",
      "show()"
     ],
     "language": "python",
     "metadata": {},
     "outputs": []
    },
    {
     "cell_type": "code",
     "collapsed": false,
     "input": [],
     "language": "python",
     "metadata": {},
     "outputs": []
    }
   ],
   "metadata": {}
  }
 ]
}