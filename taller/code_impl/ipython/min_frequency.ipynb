{
 "metadata": {
  "name": "",
  "signature": "sha256:a9a30c55def9603c2142794649ddeb45d013b73508194cd05a7a4740cffff6a5"
 },
 "nbformat": 3,
 "nbformat_minor": 0,
 "worksheets": [
  {
   "cells": [
    {
     "cell_type": "code",
     "collapsed": false,
     "input": [
      "import sys\n",
      "sys.path.insert(0, '../python/')\n",
      "import classes as cl\n",
      "import pandas as pd\n",
      "import numpy as np\n",
      "from datetime import datetime, date, time\n",
      "import time\n",
      "import matplotlib as plt\n",
      "\n",
      "\n",
      "def OVECMRR(y, L, P, it, avg_error, r, n, alpha):\n",
      "    it2, l = y.shape\n",
      "    new_beta = False            # Get a new beta condition\n",
      "    Y_true = np.zeros([it, l])  # Out of sample true value\n",
      "    Y_pred = np.zeros([it, l])  # Out of sample forecasting\n",
      "    mape = np.zeros([it, l])     # In-sample mape\n",
      "    m = cl.Matrix()\n",
      "\n",
      "    start_time = time.time()\n",
      "\n",
      "    for i in range(it):\n",
      "        #sys.stdout.write(\"\\r{0}%\".format((float(i + 1) / it) * 100))\n",
      "        #sys.stdout.flush()\n",
      "\n",
      "        y_i = y[i:i + L]\n",
      "\n",
      "        if i == 0:\n",
      "            beta = m.get_johansen(y_i.as_matrix(), P, r)\n",
      "            A, B = m.vec_matrix(y_i, P, beta.evecr)\n",
      "        else:\n",
      "            A, B = m.vec_matrix_online(A, B, y_i, P, beta.evecr)\n",
      "            Y_true[i,:] = B[-1,:]\n",
      "            Y_pred[i,:] = np.dot(A[-1,:], x)\n",
      "\n",
      "        x = m.ridge_regression(A, B, alpha)\n",
      "\n",
      "        Ax = np.dot(A, x)\n",
      "        residuals = B - Ax\n",
      "\n",
      "        y_true = B[-n:]\n",
      "        y_pred = Ax[-n:]\n",
      "\n",
      "        mape[i,:] = m.MAPE(y_true, y_pred)\n",
      "\n",
      "        if (np.average(mape[i,:]) > avg_error):\n",
      "            beta = m.get_johansen(y_i.as_matrix(), P)\n",
      "            r = beta.r\n",
      "            A = m.vec_matrix_update(A, y_i, P, beta.evecr)\n",
      "            x = m.ridge_regression(A, B, alpha)\n",
      "\n",
      "    o_mape = m.MAPE(Y_true, Y_pred)  # Out-of-Sample MAPE\n",
      "    return y_true, y_pred, Y_true, Y_pred, mape, o_mape, time.time() - start_time\n",
      "\n",
      "\n",
      "def OVECM(y, L, P, it, avg_error, r, n):\n",
      "    # SLAAR Using MAPE\n",
      "    it2, l = y.shape\n",
      "    # it = 100                            # Number of iterations\n",
      "    # r = 1                               # Number of cointegration relations\n",
      "    # n = 10                              # Number of instances to calculate MAPE\n",
      "    new_beta = False\n",
      "    # avg_error = 120\n",
      "\n",
      "    Y_true = np.zeros([it, l])          # Out of sample \n",
      "    Y_pred = np.zeros([it, l])          # Forecasting\n",
      "    mape = np.zeros([it, l])            # In-sample mape\n",
      "\n",
      "    m = cl.Matrix()\n",
      "    start_time = time.time()\n",
      "    for i in range(it):\n",
      "        #sys.stdout.write(\"\\r{0}%\".format((float(i + 1) / it) * 100))\n",
      "        #sys.stdout.flush()\n",
      "        y_i = y[i:i + L]\n",
      "\n",
      "        if i == 0:\n",
      "            beta = m.get_johansen(y_i.as_matrix(), P, r)\n",
      "            A, B = m.vec_matrix(y_i, P, beta.evecr)\n",
      "        else:\n",
      "            A, B = m.vec_matrix_online(A, B, y_i, P, beta.evecr)\n",
      "            Y_true[i,:] = B[-1,:]\n",
      "            Y_pred[i,:] = np.dot(A[-1,:], x)\n",
      "\n",
      "        x, residuals, rank, s = np.linalg.lstsq(A, B)\n",
      "        Ax = np.dot(A, x)\n",
      "        residuals = B - Ax\n",
      "\n",
      "        y_true = B[-n:]\n",
      "        y_pred = Ax[-n:]\n",
      "\n",
      "        mape[i,:] = m.MAPE(y_true, y_pred)\n",
      "        try:\n",
      "            avg_mape = np.average(mape[i,:])\n",
      "        except:\n",
      "            print i, i+L\n",
      "            \n",
      "        if avg_mape > avg_error:\n",
      "            try:\n",
      "                beta = m.get_johansen(y_i.as_matrix(), P)\n",
      "            except:\n",
      "                print \"Unexpected error\"\n",
      "                print i, i + L\n",
      "\n",
      "            r = beta.r\n",
      "            A = m.vec_matrix_update(A, y_i, P, beta.evecr)\n",
      "            x, residuals, rank, s = np.linalg.lstsq(A, B)\n",
      "\n",
      "    # Out-of-Sample MAPE\n",
      "    o_mape = m.MAPE(Y_true, Y_pred)\n",
      "    return y_true, y_pred, Y_true, Y_pred, mape, o_mape, time.time() - start_time\n",
      "\n",
      "\n",
      "def resample(dataframes, frequency=None):\n",
      "    \"\"\"\n",
      "    \"\"\"\n",
      "    if not frequency:\n",
      "        frequency = '5s'\n",
      "\n",
      "    for df in dataframes:\n",
      "        yield df.resample(frequency)\n",
      "\n",
      "        \n",
      "def min_frequency(dataframes):\n",
      "    \"\"\"\n",
      "    \"\"\"\n",
      "\n",
      "    for df in dataframes:\n",
      "        td = df.index.to_series().diff()\n",
      "        max_diff = max(td)\n",
      "        print df.columns[0:2], \"Max gap between contiguous elements\", max_diff / np.timedelta64(1, 's'), 'seconds'\n",
      "\n",
      "        \n",
      "prefix = '../data_csv/data_ticks/september_11/'\n",
      "reader = cl.Reader([prefix+'EURUSD.csv', prefix+'GBPUSD.csv', prefix+'USDCHF.csv', prefix+'USDJPY.csv'])\n",
      "\n",
      "ticks = reader.load_dukascopy()\n",
      "nt_1 = next(ticks)\n",
      "nt_2 = next(ticks)\n",
      "nt_3 = next(ticks)\n",
      "nt_4 = next(ticks)\n",
      "\n",
      "print \"done\""
     ],
     "language": "python",
     "metadata": {},
     "outputs": [
      {
       "output_type": "stream",
       "stream": "stdout",
       "text": [
        "done\n"
       ]
      }
     ],
     "prompt_number": 1
    },
    {
     "cell_type": "code",
     "collapsed": false,
     "input": [
      "freq = '1s'\n",
      "ticks_resampled = resample([nt_1, nt_2, nt_3, nt_4], freq)\n",
      "#t_1, t_2, t_3, t_4 = next(ticks_resampled), next(ticks_resampled), next(ticks_resampled), next(ticks_resampled)\n",
      "#ask = reader.merge([t_1, t_2, t_3, t_4], 'Ask')\n",
      "#ask_norm = ask.copy()\n",
      "#ask_norm = ask_norm.astype(float32)\n",
      "\n",
      "td = nt_3.index.to_series().diff()\n",
      "max_diff = max(td)\n",
      "\n",
      "min_diff = min(td[1:])\n",
      "print min_diff\n",
      "\n",
      "#td = nt_2.index.to_series().diff()\n",
      "#gap=np.timedelta64(50000000000,'ns')\n",
      "\n",
      "#for i in range(td.size):\n",
      "#    if td[i] > gap:\n",
      "#        print td.index[i]"
     ],
     "language": "python",
     "metadata": {},
     "outputs": [
      {
       "output_type": "stream",
       "stream": "stdout",
       "text": [
        "50000000 nanoseconds\n"
       ]
      }
     ],
     "prompt_number": 13
    },
    {
     "cell_type": "code",
     "collapsed": false,
     "input": [
      "min_frequency([nt_1, nt_2, nt_3, nt_4])"
     ],
     "language": "python",
     "metadata": {},
     "outputs": [
      {
       "output_type": "stream",
       "stream": "stdout",
       "text": [
        "Index([u'EURUSD_Ask', u'EURUSD_Bid'], dtype=object) Max gap between contiguous elements 78.784 seconds\n",
        "Index([u'GBPUSD_Ask', u'GBPUSD_Bid'], dtype=object)"
       ]
      },
      {
       "output_type": "stream",
       "stream": "stdout",
       "text": [
        " Max gap between contiguous elements 51.629 seconds\n",
        "Index([u'USDCHF_Ask', u'USDCHF_Bid'], dtype=object)"
       ]
      },
      {
       "output_type": "stream",
       "stream": "stdout",
       "text": [
        " Max gap between contiguous elements 76.226 seconds\n",
        "Index([u'USDJPY_Ask', u'USDJPY_Bid'], dtype=object)"
       ]
      },
      {
       "output_type": "stream",
       "stream": "stdout",
       "text": [
        " Max gap between contiguous elements 60.076 seconds\n"
       ]
      }
     ],
     "prompt_number": 2
    },
    {
     "cell_type": "code",
     "collapsed": false,
     "input": [
      "#useless\n",
      "for i in range(1,100):\n",
      "    freq = str(i) + 's'\n",
      "    ticks_resampled = resample([nt_1, nt_2, nt_3, nt_4], freq)\n",
      "    t_1, t_2, t_3, t_4 = next(ticks_resampled), next(ticks_resampled), next(ticks_resampled), next(ticks_resampled)\n",
      "    ask = reader.merge([t_1, t_2, t_3, t_4], 'Ask')\n",
      "    ask_norm = reader.normalize(ask, [2, 3])\n",
      "    ask_norm = ask_norm.astype(float32)\n",
      "    index_1 = ask_norm.EURUSD_Ask.index[ask_norm.EURUSD_Ask.apply(np.isnan)]\n",
      "    index_2 = ask_norm.CHFUSD_Ask.index[ask_norm.CHFUSD_Ask.apply(np.isnan)]\n",
      "    index_3 = ask_norm.GBPUSD_Ask.index[ask_norm.GBPUSD_Ask.apply(np.isnan)]\n",
      "    index_4 = ask_norm.JPYUSD_Ask.index[ask_norm.JPYUSD_Ask.apply(np.isnan)]\n",
      "\n",
      "    ticks_resampled = resample([nt_1, nt_2, nt_3, nt_4], freq)\n",
      "    \n",
      "    if (0 == index_1.size) & (0 == index_2.size) & (0 == index_3.size) & (0 == index_4.size):\n",
      "        #print index_1\n",
      "        #print index_2\n",
      "        #print index_3\n",
      "        #print index_4\n",
      "        print freq\n",
      "        break\n",
      "        \n",
      "print \"done\""
     ],
     "language": "python",
     "metadata": {},
     "outputs": [
      {
       "output_type": "stream",
       "stream": "stdout",
       "text": [
        "98s\n",
        "done\n"
       ]
      }
     ],
     "prompt_number": 48
    },
    {
     "cell_type": "code",
     "collapsed": false,
     "input": [],
     "language": "python",
     "metadata": {},
     "outputs": [],
     "prompt_number": 42
    },
    {
     "cell_type": "code",
     "collapsed": false,
     "input": [],
     "language": "python",
     "metadata": {},
     "outputs": []
    }
   ],
   "metadata": {}
  }
 ]
}