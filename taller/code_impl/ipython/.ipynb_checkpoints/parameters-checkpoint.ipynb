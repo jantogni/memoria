{
 "metadata": {
  "name": "",
  "signature": "sha256:a5c23d5503ed8164da333395917ff9f699f1b8523e8df5d0e00197f8155699e7"
 },
 "nbformat": 3,
 "nbformat_minor": 0,
 "worksheets": [
  {
   "cells": [
    {
     "cell_type": "code",
     "collapsed": false,
     "input": [
      "import sys\n",
      "sys.path.insert(0, '../python/')\n",
      "import classes as cl\n",
      "import algorithms as alg\n",
      "import pandas as pd\n",
      "import numpy as np\n",
      "import matplotlib.pyplot as plt"
     ],
     "language": "python",
     "metadata": {},
     "outputs": [],
     "prompt_number": 1
    },
    {
     "cell_type": "code",
     "collapsed": false,
     "input": [
      "def akaike_cmp(residuals, nx, L, nlag):\n",
      "    nobs, neqs = residuals.shape\n",
      "    k = neqs * nlag + nx + 1\n",
      "    T = nobs * neqs\n",
      "    square = residuals**2\n",
      "    RSS = sum(square)\n",
      "    Loglikelihood = -(T/2)*(1+log(2*pi)+log(RSS/T))\n",
      "    AIC_m = -2*Loglikelihood/T + 2*k/T\n",
      "    AIC_rss = T * log(RSS/T) + 2*k\n",
      "    return AIC_m, AIC_rss"
     ],
     "language": "python",
     "metadata": {},
     "outputs": [],
     "prompt_number": 7
    },
    {
     "cell_type": "code",
     "collapsed": false,
     "input": [
      "path = '../data_csv/data_ticks/august_11/'\n",
      "assets = ['EURUSD','GBPUSD','USDCHF']\n",
      "\n",
      "data_list = [path + i + '.csv' for i in assets]\n",
      "    \n",
      "reader = cl.Reader(data_list)\n",
      "ticks_list = reader.load()\n",
      "\n",
      "ask_norm, bid_norm = reader.resample_list(ticks_list, '30s')"
     ],
     "language": "python",
     "metadata": {},
     "outputs": [],
     "prompt_number": 4
    },
    {
     "cell_type": "code",
     "collapsed": false,
     "input": [
      "print ticks_list[0].EURUSD_Ask.head(10)\n",
      "#print bid_norm.head(10)"
     ],
     "language": "python",
     "metadata": {},
     "outputs": [
      {
       "output_type": "stream",
       "stream": "stdout",
       "text": [
        "Timestamp\n",
        "2014-11-08 00:00:00           1.34046\n",
        "2014-11-08 00:00:02.159000    1.34047\n",
        "2014-11-08 00:00:02.667000    1.34046\n",
        "2014-11-08 00:00:03.175000    1.34046\n",
        "2014-11-08 00:00:07.058000    1.34046\n",
        "2014-11-08 00:00:07.362000    1.34043\n",
        "2014-11-08 00:00:08.324000    1.34043\n",
        "2014-11-08 00:00:08.830000    1.34045\n",
        "2014-11-08 00:00:08.982000    1.34043\n",
        "2014-11-08 00:00:09.815000    1.34042\n",
        "Name: EURUSD_Ask, dtype: float64\n"
       ]
      }
     ],
     "prompt_number": 6
    },
    {
     "cell_type": "code",
     "collapsed": false,
     "input": [
      "print ask_norm.head(10)"
     ],
     "language": "python",
     "metadata": {},
     "outputs": [
      {
       "output_type": "stream",
       "stream": "stdout",
       "text": [
        "                     EURUSD_Ask  GBPUSD_Ask  USDCHF_Ask\n",
        "Timestamp                                              \n",
        "2014-11-08 00:00:00    1.340435    1.677603    0.905978\n",
        "2014-11-08 00:00:30    1.340422    1.677593    0.905974\n",
        "2014-11-08 00:01:00    1.340385    1.677545    0.905983\n",
        "2014-11-08 00:01:30    1.340347    1.677497    0.905997\n",
        "2014-11-08 00:02:00    1.340344    1.677418    0.906030\n",
        "2014-11-08 00:02:30    1.340355    1.677242    0.906028\n",
        "2014-11-08 00:03:00    1.340333    1.677148    0.906024\n",
        "2014-11-08 00:03:30    1.340370    1.677237    0.906025\n",
        "2014-11-08 00:04:00    1.340428    1.677422    0.906021\n",
        "2014-11-08 00:04:30    1.340455    1.677425    0.906028\n"
       ]
      }
     ],
     "prompt_number": 7
    },
    {
     "cell_type": "code",
     "collapsed": false,
     "input": [
      "ask_norm, bid_norm = reader.resample2(ticks_list, '30s', [2])\n",
      "print ask_norm.head(10)\n",
      "print bid_norm.head(10)"
     ],
     "language": "python",
     "metadata": {},
     "outputs": [
      {
       "output_type": "stream",
       "stream": "stdout",
       "text": [
        "                     EURUSD_Ask  GBPUSD_Ask  CHFUSD_Ask\n",
        "Timestamp                                              \n",
        "2014-11-08 00:00:00    1.340435    1.677603    1.103780\n",
        "2014-11-08 00:00:30    1.340422    1.677593    1.103785\n",
        "2014-11-08 00:01:00    1.340385    1.677545    1.103773\n",
        "2014-11-08 00:01:30    1.340347    1.677497    1.103757\n",
        "2014-11-08 00:02:00    1.340344    1.677418    1.103716\n",
        "2014-11-08 00:02:30    1.340355    1.677242    1.103719\n",
        "2014-11-08 00:03:00    1.340333    1.677148    1.103724\n",
        "2014-11-08 00:03:30    1.340370    1.677237    1.103722\n",
        "2014-11-08 00:04:00    1.340428    1.677422    1.103727\n",
        "2014-11-08 00:04:30    1.340455    1.677425    1.103718\n",
        "                     EURUSD_Bid  GBPUSD_Bid  CHFUSD_Bid\n",
        "Timestamp                                              \n",
        "2014-11-08 00:00:00    1.340411    1.677515    1.103928\n",
        "2014-11-08 00:00:30    1.340392    1.677474    1.103917\n",
        "2014-11-08 00:01:00    1.340352    1.677445    1.103897\n",
        "2014-11-08 00:01:30    1.340318    1.677402    1.103881\n",
        "2014-11-08 00:02:00    1.340323    1.677329    1.103858\n",
        "2014-11-08 00:02:30    1.340330    1.677158    1.103857\n",
        "2014-11-08 00:03:00    1.340309    1.677054    1.103862\n",
        "2014-11-08 00:03:30    1.340345    1.677127    1.103883\n",
        "2014-11-08 00:04:00    1.340407    1.677302    1.103893\n",
        "2014-11-08 00:04:30    1.340425    1.677321    1.103895\n"
       ]
      }
     ],
     "prompt_number": 9
    },
    {
     "cell_type": "code",
     "collapsed": false,
     "input": [
      "L_max, n_var = ask_norm.shape\n",
      "Lmin, Lmax, Lstep = 200, L_max, 500\n",
      "Pmin, Pmax, Pstep = 1, 10, 1\n",
      "\n",
      "L = range(Lmin, Lmax, Lstep)\n",
      "P = range(Pmin, Pmax, Pstep)\n",
      "\n",
      "aic_matlab = np.zeros((len(L), len(P)))\n",
      "aic_rss = np.zeros((len(L), len(P)))\n",
      "\n",
      "for i in range(len(L)):\n",
      "    for j in range(len(P)):\n",
      "        y = ask_norm\n",
      "        A, B, r, x, residuals, time = alg.ECM(y, L[i], P[j])\n",
      "        AIC_m, AIC_rss = akaike_cmp(residuals, r, L[i], P[j])\n",
      "        aic_matlab[i, j] = AIC_m\n",
      "        aic_rss[i, j] = AIC_rss"
     ],
     "language": "python",
     "metadata": {},
     "outputs": [],
     "prompt_number": 10
    },
    {
     "cell_type": "code",
     "collapsed": false,
     "input": [
      "Z = aic_matlab    \n",
      "i, j = np.unravel_index(Z.argmin(), Z.shape)\n",
      "\n",
      "fig, ax = plt.subplots()\n",
      "pylab.rcParams['figure.figsize'] = (10.0, 8.0)\n",
      "im = ax.imshow(Z.T, cmap=cm.bone, vmin=Z.min(), vmax=Z.max(),\n",
      "               origin='lower', extent=[L[0], L[-1]+Lstep,P[0], P[-1]+Pstep],\n",
      "               aspect=L[0]/P[0])\n",
      "plt.xticks(L)\n",
      "plt.yticks(P)\n",
      "plt.text(L[i]+Lstep/2,P[j]+Pstep/2,'*', color='white')\n",
      "im.set_interpolation('nearest')\n",
      "#im.set_interpolation('bilinear')\n",
      "cb = fig.colorbar(im, ax=ax)"
     ],
     "language": "python",
     "metadata": {},
     "outputs": [
      {
       "metadata": {},
       "output_type": "display_data",
       "png": "[encoded data removed]",
       "text": [
        "<matplotlib.figure.Figure at 0x10c7a0490>"
       ]
      }
     ],
     "prompt_number": 11
    },
    {
     "cell_type": "code",
     "collapsed": false,
     "input": [],
     "language": "python",
     "metadata": {},
     "outputs": []
    }
   ],
   "metadata": {}
  }
 ]
}